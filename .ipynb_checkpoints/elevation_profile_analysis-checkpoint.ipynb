{
 "cells": [
  {
   "cell_type": "markdown",
   "id": "108f2914-3001-4a2d-a633-f3f7d458d4e3",
   "metadata": {},
   "source": [
    "# Analýza výškových profilů turistických tras\n",
    "\n",
    "## Úvod\n",
    "Tento projekt se zaměřuje na analýzu výškových profilů turistických tras. Jako zdroj dat jsou využity turistické trasy z OpenStreetMap (OSM) a výšková data DMR 5G získaná z Českého úřadu zeměměřického a katastrálního (ČÚZK)."
   ]
  },
  {
   "cell_type": "markdown",
   "id": "8791c780-7cf0-48f4-ada1-ab11526d520c",
   "metadata": {},
   "source": [
    "Nejprve jsou naimporovány potřebné knihovny"
   ]
  },
  {
   "cell_type": "code",
   "execution_count": 1,
   "id": "02197e13-b345-464f-b036-e2eab5848c1e",
   "metadata": {},
   "outputs": [],
   "source": [
    "# Import standardních knihoven\n",
    "import os\n",
    "import warnings\n",
    "\n",
    "# Import knihoven pro práci s daty a geodaty\n",
    "import requests\n",
    "import geopandas as gpd\n",
    "import rasterio\n",
    "from rasterio.plot import show\n",
    "from shapely.geometry import LineString\n",
    "\n",
    "# Import knihoven pro vizualizaci\n",
    "import matplotlib.pyplot as plt\n",
    "\n",
    "# Import knihoven pro práci s OSM daty\n",
    "import osmapi"
   ]
  },
  {
   "cell_type": "code",
   "execution_count": null,
   "id": "f54c1823-0c51-452f-890a-b0623ab16d68",
   "metadata": {},
   "outputs": [],
   "source": []
  }
 ],
 "metadata": {
  "kernelspec": {
   "display_name": "Python 3 (ipykernel)",
   "language": "python",
   "name": "python3"
  },
  "language_info": {
   "codemirror_mode": {
    "name": "ipython",
    "version": 3
   },
   "file_extension": ".py",
   "mimetype": "text/x-python",
   "name": "python",
   "nbconvert_exporter": "python",
   "pygments_lexer": "ipython3",
   "version": "3.9.5"
  }
 },
 "nbformat": 4,
 "nbformat_minor": 5
}
