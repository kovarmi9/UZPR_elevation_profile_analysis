{
 "cells": [
  {
   "cell_type": "markdown",
   "id": "108f2914-3001-4a2d-a633-f3f7d458d4e3",
   "metadata": {},
   "source": [
    "# Analysis of Elevation Profiles of Hiking Trails\n",
    "\n",
    "## Introduction \n",
    "This project focuses on the analysis of elevation profiles of hiking trails. The data sources used are hiking trails from [OpenStreetMap (OSM)](https://www.openstreetmap.org) and elevation data from the [DMR 5G](https://ags.cuzk.cz/arcgis/rest/services/3D/dmr5g/ImageServer) obtained from the [Czech Office for Surveying, Mapping and Cadastre (ČÚZK)](https://cuzk.cz). The project primarily focuses on hiking trails marked by the [Czech Tourist Club (KČT)](https://www.kct.cz).\n"
   ]
  },
  {
   "cell_type": "markdown",
   "id": "8791c780-7cf0-48f4-ada1-ab11526d520c",
   "metadata": {},
   "source": [
    "## Import of libraries\n",
    "#### Import standard libraries\n",
    "[os](https://docs.python.org/3/library/os.html)  \n",
    "[warnings](https://docs.python.org/3/library/warnings.html)  \n",
    "\n",
    "#### Import libraries for data and geospatial data processing\n",
    "[requests](https://docs.python-requests.org/en/latest/)  \n",
    "[geopandas](https://geopandas.org/)  \n",
    "[rasterio](https://rasterio.readthedocs.io/en/latest/)  \n",
    "[shapely](https://shapely.readthedocs.io/en/stable/)  \n",
    "\n",
    "#### Import libraries for visualization\n",
    "[matplotlib](https://matplotlib.org/)  \n",
    "\n",
    "#### Import libraries for working with OSM data\n",
    "[osmapi](https://osmapi.tilmannr.de/)\n"
   ]
  },
  {
   "cell_type": "code",
   "execution_count": 1,
   "id": "02197e13-b345-464f-b036-e2eab5848c1e",
   "metadata": {},
   "outputs": [],
   "source": [
    "# Import standard libraries\n",
    "import os\n",
    "import warnings\n",
    "\n",
    "# Import libraries for data and geospatial data processing\n",
    "import requests\n",
    "import geopandas as gpd\n",
    "import rasterio\n",
    "from rasterio.plot import show\n",
    "from shapely.geometry import Point, LineString\n",
    "\n",
    "# Import libraries for visualization\n",
    "import matplotlib.pyplot as plt\n",
    "\n",
    "# Import libraries for working with OSM data\n",
    "import osmapi"
   ]
  },
  {
   "cell_type": "markdown",
   "id": "58202be7-bec3-4c6b-bc31-0ba0cca660c9",
   "metadata": {},
   "source": [
    "The hiking trail relation is downloaded using [OsmApi](https://osmapi.tilmannr.de/). A complete overview of hiking trail numbers in the Czech Republic is available [here](https://osm.paws.cz/hiking.php)."
   ]
  },
  {
   "cell_type": "code",
   "execution_count": 2,
   "id": "f54c1823-0c51-452f-890a-b0623ab16d68",
   "metadata": {},
   "outputs": [],
   "source": [
    "# Function to download a relation by its ID\n",
    "def download_relation(relation_id):\n",
    "    try:\n",
    "        with osmapi.OsmApi() as api:\n",
    "            return api.RelationGet(relation_id)\n",
    "    except osmapi.errors.ElementDeletedApiError:\n",
    "        print(f\"Relation with ID {relation_id} has been deleted.\")\n",
    "        return None"
   ]
  },
  {
   "cell_type": "markdown",
   "id": "f31e1fde-7f11-42fa-a8f1-477038bef79f",
   "metadata": {},
   "source": [
    "Example Usage"
   ]
  },
  {
   "cell_type": "code",
   "execution_count": 3,
   "id": "6d09f066-8da5-434c-a70d-737e3faed746",
   "metadata": {},
   "outputs": [
    {
     "name": "stdout",
     "output_type": "stream",
     "text": [
      "{'id': 334313, 'visible': True, 'version': 48, 'changeset': 159671790, 'timestamp': datetime.datetime(2024, 11, 27, 18, 14, 37), 'user': 'sannorra', 'uid': 1424365, 'tag': {'complete': 'yes', 'educational': 'yes', 'kct_yellow': 'major', 'name': 'Sigmondova okružní naučná stezka', 'network': 'lwn', 'note': 'Značena žlutým pásovým značením', 'official_name': 'Sigmondova okružní NS', 'operator': 'cz:KČT', 'osmc:symbol': 'yellow:white:yellow_bar', 'ref': '6711', 'route': 'hiking', 'type': 'route'}, 'member': [{'type': 'node', 'ref': 364493953, 'role': 'guidepost'}, {'type': 'node', 'ref': 676243685, 'role': 'guidepost'}, {'type': 'node', 'ref': 676475796, 'role': 'guidepost'}, {'type': 'node', 'ref': 655359905, 'role': 'guidepost'}, {'type': 'node', 'ref': 806808290, 'role': 'guidepost'}, {'type': 'node', 'ref': 2205940692, 'role': 'board'}, {'type': 'node', 'ref': 2205940676, 'role': 'board'}, {'type': 'node', 'ref': 676243685, 'role': 'guidepost'}, {'type': 'node', 'ref': 7099707271, 'role': 'board'}, {'type': 'node', 'ref': 8615308759, 'role': 'board'}, {'type': 'node', 'ref': 8615308758, 'role': 'board'}, {'type': 'node', 'ref': 8615308757, 'role': 'board'}, {'type': 'node', 'ref': 8615308756, 'role': 'board'}, {'type': 'node', 'ref': 8615308754, 'role': 'board'}, {'type': 'node', 'ref': 8615308753, 'role': 'board'}, {'type': 'node', 'ref': 8615308752, 'role': 'board'}, {'type': 'node', 'ref': 8615308750, 'role': 'board'}, {'type': 'node', 'ref': 2695870340, 'role': 'board'}, {'type': 'node', 'ref': 8615308751, 'role': 'guidepost'}, {'type': 'node', 'ref': 2709683640, 'role': 'board'}, {'type': 'node', 'ref': 8615308748, 'role': 'board'}, {'type': 'node', 'ref': 8615308755, 'role': 'board'}, {'type': 'way', 'ref': 841270075, 'role': ''}, {'type': 'way', 'ref': 1111089511, 'role': ''}, {'type': 'way', 'ref': 32399132, 'role': ''}, {'type': 'way', 'ref': 1111089513, 'role': ''}, {'type': 'way', 'ref': 1111089512, 'role': ''}, {'type': 'way', 'ref': 289230719, 'role': ''}, {'type': 'way', 'ref': 32399134, 'role': ''}, {'type': 'way', 'ref': 32399137, 'role': ''}, {'type': 'way', 'ref': 32399138, 'role': ''}, {'type': 'way', 'ref': 1040249818, 'role': ''}, {'type': 'way', 'ref': 1040249817, 'role': ''}, {'type': 'way', 'ref': 232660566, 'role': ''}, {'type': 'way', 'ref': 53526357, 'role': ''}, {'type': 'way', 'ref': 1109741050, 'role': ''}, {'type': 'way', 'ref': 32399139, 'role': ''}, {'type': 'way', 'ref': 32399141, 'role': ''}, {'type': 'way', 'ref': 1035095760, 'role': ''}, {'type': 'way', 'ref': 1035095759, 'role': ''}, {'type': 'way', 'ref': 53526348, 'role': ''}, {'type': 'way', 'ref': 51341378, 'role': ''}, {'type': 'way', 'ref': 1035104556, 'role': ''}, {'type': 'way', 'ref': 1035104557, 'role': ''}, {'type': 'way', 'ref': 1035104558, 'role': ''}, {'type': 'way', 'ref': 1035104559, 'role': ''}, {'type': 'way', 'ref': 1035104560, 'role': ''}, {'type': 'way', 'ref': 1035104561, 'role': ''}, {'type': 'way', 'ref': 454289378, 'role': ''}, {'type': 'way', 'ref': 484975973, 'role': ''}, {'type': 'way', 'ref': 51341374, 'role': ''}, {'type': 'way', 'ref': 51341372, 'role': ''}, {'type': 'way', 'ref': 262831687, 'role': ''}, {'type': 'way', 'ref': 51341368, 'role': ''}, {'type': 'way', 'ref': 51341370, 'role': ''}, {'type': 'way', 'ref': 66567563, 'role': ''}, {'type': 'way', 'ref': 66567582, 'role': ''}, {'type': 'way', 'ref': 66567555, 'role': ''}, {'type': 'way', 'ref': 766463893, 'role': ''}, {'type': 'way', 'ref': 66567550, 'role': ''}, {'type': 'way', 'ref': 66567587, 'role': ''}, {'type': 'way', 'ref': 66567585, 'role': ''}, {'type': 'way', 'ref': 66567572, 'role': ''}, {'type': 'way', 'ref': 66711190, 'role': ''}, {'type': 'way', 'ref': 66711201, 'role': ''}, {'type': 'way', 'ref': 66711198, 'role': ''}, {'type': 'way', 'ref': 66711191, 'role': ''}, {'type': 'way', 'ref': 66711197, 'role': ''}, {'type': 'way', 'ref': 66711196, 'role': ''}, {'type': 'way', 'ref': 66711187, 'role': ''}, {'type': 'way', 'ref': 66711203, 'role': ''}, {'type': 'way', 'ref': 210509162, 'role': ''}, {'type': 'way', 'ref': 66711200, 'role': ''}, {'type': 'way', 'ref': 66711185, 'role': ''}, {'type': 'way', 'ref': 66711188, 'role': ''}, {'type': 'way', 'ref': 32399363, 'role': ''}, {'type': 'way', 'ref': 53526379, 'role': ''}, {'type': 'way', 'ref': 37145240, 'role': ''}, {'type': 'way', 'ref': 841270074, 'role': ''}, {'type': 'way', 'ref': 32399133, 'role': ''}]}\n"
     ]
    }
   ],
   "source": [
    "# Example ID\n",
    "relation_id = 334313\n",
    "relation = download_relation(relation_id)\n",
    "print(relation)"
   ]
  },
  {
   "cell_type": "code",
   "execution_count": 4,
   "id": "bf6427ab-ef54-42f9-944a-cec108bc8a06",
   "metadata": {},
   "outputs": [],
   "source": [
    "# Function to extract descriptive route information from a relation\n",
    "def extract_route_info(relation):\n",
    "    tags = relation.get('tag', {})\n",
    "    route_info = {\n",
    "        'id': relation['id'],\n",
    "        'name': tags.get('name', 'Name not provided'),\n",
    "        'official_name': tags.get('official_name', 'Official name not provided'),\n",
    "        'route_type': tags.get('route', 'Unknown route type'),\n",
    "        'operator': tags.get('operator', 'Operator not provided'),\n",
    "        'symbol': tags.get('osmc:symbol', 'Symbol not provided'),\n",
    "        'ref': tags.get('ref', 'Reference not provided'),\n",
    "        'complete': tags.get('complete', 'Not specified'),\n",
    "        'educational': tags.get('educational', 'Not specified'),\n",
    "        'network': tags.get('network', 'Unknown network'),\n",
    "        'kct_yellow': tags.get('kct_yellow', 'Not specified'),\n",
    "        'note': tags.get('note', 'No note provided'),\n",
    "    }\n",
    "    return route_info"
   ]
  },
  {
   "cell_type": "code",
   "execution_count": 5,
   "id": "7a74ed9f-17ce-4d08-8475-176756b4d355",
   "metadata": {},
   "outputs": [
    {
     "name": "stdout",
     "output_type": "stream",
     "text": [
      "Descriptive information about the path:\n",
      "id: 334313\n",
      "name: Sigmondova okružní naučná stezka\n",
      "official_name: Sigmondova okružní NS\n",
      "route_type: hiking\n",
      "operator: cz:KČT\n",
      "symbol: yellow:white:yellow_bar\n",
      "ref: 6711\n",
      "complete: yes\n",
      "educational: yes\n",
      "network: lwn\n",
      "kct_yellow: major\n",
      "note: Značena žlutým pásovým značením\n"
     ]
    }
   ],
   "source": [
    "# Extract descriptive path information\n",
    "route_info = extract_route_info(relation)\n",
    "\n",
    "# Print descriptive path information\n",
    "print(\"Descriptive information about the path:\")\n",
    "for key, value in route_info.items():\n",
    "    print(f\"{key}: {value}\")"
   ]
  },
  {
   "cell_type": "markdown",
   "id": "bd400c93-f5e5-4822-b5a4-7a4e0cd9f07d",
   "metadata": {},
   "source": [
    "Function to save relation to geodataframe"
   ]
  },
  {
   "cell_type": "code",
   "execution_count": 6,
   "id": "0c4a24a6-b0a1-4df9-afcd-6451b0ccfbfb",
   "metadata": {},
   "outputs": [],
   "source": [
    "def relation_to_geodataframe(relation):\n",
    "    \"\"\"\n",
    "    Converts a relation dictionary into a GeoDataFrame.\n",
    "    Assumes 'members' contain 'ways' with references to geometry data, and ignores nodes.\n",
    "    \"\"\"\n",
    "    members = relation.get('member', [])\n",
    "    data = []\n",
    "    \n",
    "    for member in members:\n",
    "        member_type = member.get('type')\n",
    "        ref = member.get('ref')\n",
    "        role = member.get('role', '')\n",
    "        \n",
    "        if member_type == 'way':\n",
    "            # Fetch geometry for \"way\" using the API\n",
    "            with osmapi.OsmApi() as api:\n",
    "                way = api.WayGet(ref)\n",
    "                nodes = way['nd']\n",
    "                coords = [(api.NodeGet(node_id)['lon'], api.NodeGet(node_id)['lat']) for node_id in nodes]\n",
    "                geometry = LineString(coords)\n",
    "                data.append({\n",
    "                    'type': member_type,\n",
    "                    'ref': ref,\n",
    "                    'role': role,\n",
    "                    'geometry': geometry\n",
    "                })\n",
    "\n",
    "    # Create GeoDataFrame\n",
    "    gdf = gpd.GeoDataFrame(data, geometry='geometry')\n",
    "    return gdf\n"
   ]
  },
  {
   "cell_type": "markdown",
   "id": "96632ff0-1cb4-4a7b-a9b2-b3d58274947e",
   "metadata": {},
   "source": [
    "Example of usage"
   ]
  },
  {
   "cell_type": "code",
   "execution_count": 7,
   "id": "2195aae2-1f1c-4152-9198-6646deac9b50",
   "metadata": {},
   "outputs": [
    {
     "data": {
      "text/html": [
       "<div>\n",
       "<style scoped>\n",
       "    .dataframe tbody tr th:only-of-type {\n",
       "        vertical-align: middle;\n",
       "    }\n",
       "\n",
       "    .dataframe tbody tr th {\n",
       "        vertical-align: top;\n",
       "    }\n",
       "\n",
       "    .dataframe thead th {\n",
       "        text-align: right;\n",
       "    }\n",
       "</style>\n",
       "<table border=\"1\" class=\"dataframe\">\n",
       "  <thead>\n",
       "    <tr style=\"text-align: right;\">\n",
       "      <th></th>\n",
       "      <th>type</th>\n",
       "      <th>ref</th>\n",
       "      <th>role</th>\n",
       "      <th>geometry</th>\n",
       "    </tr>\n",
       "  </thead>\n",
       "  <tbody>\n",
       "    <tr>\n",
       "      <th>0</th>\n",
       "      <td>way</td>\n",
       "      <td>841270075</td>\n",
       "      <td></td>\n",
       "      <td>LINESTRING (13.38333 49.78979, 13.38328 49.789...</td>\n",
       "    </tr>\n",
       "    <tr>\n",
       "      <th>1</th>\n",
       "      <td>way</td>\n",
       "      <td>1111089511</td>\n",
       "      <td></td>\n",
       "      <td>LINESTRING (13.38315 49.78947, 13.38278 49.789...</td>\n",
       "    </tr>\n",
       "    <tr>\n",
       "      <th>2</th>\n",
       "      <td>way</td>\n",
       "      <td>32399132</td>\n",
       "      <td></td>\n",
       "      <td>LINESTRING (13.38224 49.78926, 13.38162 49.789...</td>\n",
       "    </tr>\n",
       "    <tr>\n",
       "      <th>3</th>\n",
       "      <td>way</td>\n",
       "      <td>1111089513</td>\n",
       "      <td></td>\n",
       "      <td>LINESTRING (13.38120 49.78914, 13.38107 49.78914)</td>\n",
       "    </tr>\n",
       "    <tr>\n",
       "      <th>4</th>\n",
       "      <td>way</td>\n",
       "      <td>1111089512</td>\n",
       "      <td></td>\n",
       "      <td>LINESTRING (13.38107 49.78914, 13.38048 49.78912)</td>\n",
       "    </tr>\n",
       "  </tbody>\n",
       "</table>\n",
       "</div>"
      ],
      "text/plain": [
       "  type         ref role                                           geometry\n",
       "0  way   841270075       LINESTRING (13.38333 49.78979, 13.38328 49.789...\n",
       "1  way  1111089511       LINESTRING (13.38315 49.78947, 13.38278 49.789...\n",
       "2  way    32399132       LINESTRING (13.38224 49.78926, 13.38162 49.789...\n",
       "3  way  1111089513       LINESTRING (13.38120 49.78914, 13.38107 49.78914)\n",
       "4  way  1111089512       LINESTRING (13.38107 49.78914, 13.38048 49.78912)"
      ]
     },
     "metadata": {},
     "output_type": "display_data"
    }
   ],
   "source": [
    "# Example usage\n",
    "gdf = relation_to_geodataframe(relation)\n",
    "display(gdf.head())"
   ]
  },
  {
   "cell_type": "code",
   "execution_count": 8,
   "id": "1bbf0238-bf9b-4a1b-b7f6-45dd631a8b82",
   "metadata": {},
   "outputs": [],
   "source": [
    "# Function to determine the trail color from the \"osmc:symbol\" tag\n",
    "def get_trail_color(symbol):\n",
    "    # Examples of mapping the symbol to a color (you can add more symbols as needed)\n",
    "    if 'yellow' in symbol:\n",
    "        return 'yellow'\n",
    "    elif 'red' in symbol:\n",
    "        return 'red'\n",
    "    elif 'green' in symbol:\n",
    "        return 'green'\n",
    "    elif 'blue' in symbol:\n",
    "        return 'blue'\n",
    "    else:\n",
    "        return 'gray'  # Default color if no match\n"
   ]
  },
  {
   "cell_type": "code",
   "execution_count": 9,
   "id": "7978e958-c17f-4106-82ea-fd46491957ac",
   "metadata": {},
   "outputs": [],
   "source": [
    "# Function to display a GeoDataFrame with route name and color\n",
    "def plot_route_map(gdf, route_info):\n",
    "    # Get the route name from route_info\n",
    "    route_name = route_info.get('name', 'No name provided')\n",
    "    \n",
    "    # Get the trail color based on the symbol from route_info\n",
    "    trail_symbol = route_info.get('symbol', 'yellow:white:yellow_bar')\n",
    "    trail_color = get_trail_color(trail_symbol)\n",
    "    \n",
    "    # Create the plot\n",
    "    fig, ax = plt.subplots(figsize=(10, 10))\n",
    "    \n",
    "    # Plot the GeoDataFrame with the color\n",
    "    gdf.plot(ax=ax, color=trail_color, alpha=0.7, linewidth=2, label=route_name)\n",
    "    \n",
    "    # Add title and legend\n",
    "    plt.title(f\"Tourist Path: {route_name}\", fontsize=16)\n",
    "    plt.legend()\n",
    "    plt.show()\n"
   ]
  },
  {
   "cell_type": "code",
   "execution_count": 10,
   "id": "b272a7aa-5bdf-40ab-ac73-5d7d20ceb953",
   "metadata": {},
   "outputs": [
    {
     "data": {
      "image/png": "[encoded data removed]",
      "text/plain": [
       "<Figure size 1000x1000 with 1 Axes>"
      ]
     },
     "metadata": {},
     "output_type": "display_data"
    }
   ],
   "source": [
    "plot_route_map(gdf, route_info)"
   ]
  },
  {
   "cell_type": "code",
   "execution_count": 11,
   "id": "dc4e5946-ba15-4df3-9311-e9679ca22bcb",
   "metadata": {},
   "outputs": [
    {
     "ename": "NameError",
     "evalue": "name 'folium' is not defined",
     "output_type": "error",
     "traceback": [
      "\u001b[1;31m---------------------------------------------------------------------------\u001b[0m",
      "\u001b[1;31mNameError\u001b[0m                                 Traceback (most recent call last)",
      "Cell \u001b[1;32mIn[11], line 10\u001b[0m\n\u001b[0;32m      7\u001b[0m center \u001b[38;5;241m=\u001b[39m [(bounds[\u001b[38;5;241m1\u001b[39m] \u001b[38;5;241m+\u001b[39m bounds[\u001b[38;5;241m3\u001b[39m]) \u001b[38;5;241m/\u001b[39m \u001b[38;5;241m2\u001b[39m, (bounds[\u001b[38;5;241m0\u001b[39m] \u001b[38;5;241m+\u001b[39m bounds[\u001b[38;5;241m2\u001b[39m]) \u001b[38;5;241m/\u001b[39m \u001b[38;5;241m2\u001b[39m]\n\u001b[0;32m      9\u001b[0m \u001b[38;5;66;03m# 2. Create a Folium map with the center and appropriate zoom level\u001b[39;00m\n\u001b[1;32m---> 10\u001b[0m m \u001b[38;5;241m=\u001b[39m \u001b[43mfolium\u001b[49m\u001b[38;5;241m.\u001b[39mMap(location\u001b[38;5;241m=\u001b[39mcenter, zoom_start\u001b[38;5;241m=\u001b[39m\u001b[38;5;241m12\u001b[39m)  \u001b[38;5;66;03m# Adjust zoom level as needed\u001b[39;00m\n\u001b[0;32m     12\u001b[0m trail_symbol \u001b[38;5;241m=\u001b[39m route_info\u001b[38;5;241m.\u001b[39mget(\u001b[38;5;124m'\u001b[39m\u001b[38;5;124msymbol\u001b[39m\u001b[38;5;124m'\u001b[39m, \u001b[38;5;124m'\u001b[39m\u001b[38;5;124myellow:white:yellow_bar\u001b[39m\u001b[38;5;124m'\u001b[39m)\n\u001b[0;32m     13\u001b[0m trail_color \u001b[38;5;241m=\u001b[39m get_trail_color(trail_symbol)\n",
      "\u001b[1;31mNameError\u001b[0m: name 'folium' is not defined"
     ]
    }
   ],
   "source": [
    "import folium\n",
    "\n",
    "bounds = gdf.total_bounds\n",
    "\n",
    "center = [(bounds[1] + bounds[3]) / 2, (bounds[0] + bounds[2]) / 2]\n",
    "\n",
    "m = folium.Map(location=center, zoom_start=10)\n",
    "\n",
    "trail_symbol = route_info.get('symbol', 'yellow:white:yellow_bar')\n",
    "\n",
    "trail_color = get_trail_color(trail_symbol)\n",
    "\n",
    "gdf.explore(m=m, tiles=\"carto positron\", color=trail_color)\n",
    "\n",
    "display(m)\n",
    "\n"
   ]
  },
  {
   "cell_type": "code",
   "execution_count": null,
   "id": "def3250b-d1fb-425a-9e86-bd99dc13fa05",
   "metadata": {},
   "outputs": [],
   "source": []
  },
  {
   "cell_type": "code",
   "execution_count": null,
   "id": "c916137c-cf78-421c-8645-5c8f148714c7",
   "metadata": {},
   "outputs": [],
   "source": []
  }
 ],
 "metadata": {
  "kernelspec": {
   "display_name": "Python 3 (ipykernel)",
   "language": "python",
   "name": "python3"
  },
  "language_info": {
   "codemirror_mode": {
    "name": "ipython",
    "version": 3
   },
   "file_extension": ".py",
   "mimetype": "text/x-python",
   "name": "python",
   "nbconvert_exporter": "python",
   "pygments_lexer": "ipython3",
   "version": "3.9.5"
  }
 },
 "nbformat": 4,
 "nbformat_minor": 5
}
