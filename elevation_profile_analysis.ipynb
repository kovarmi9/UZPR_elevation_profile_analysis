{
 "cells": [
  {
   "cell_type": "markdown",
   "id": "108f2914-3001-4a2d-a633-f3f7d458d4e3",
   "metadata": {},
   "source": [
    "# Analysis of Elevation Profiles of Hiking Trails\n",
    "\n",
    "## Introduction\n",
    "This project focuses on the analysis of elevation profiles of hiking trails. The data sources used are hiking trails from OpenStreetMap (OSM) and elevation data from the DMR 5G dataset obtained from the Czech Office for Surveying, Mapping and Cadastre (ČÚZK)."
   ]
  },
  {
   "cell_type": "markdown",
   "id": "8791c780-7cf0-48f4-ada1-ab11526d520c",
   "metadata": {},
   "source": [
    "First, the necessary libraries are imported."
   ]
  },
  {
   "cell_type": "code",
   "execution_count": 1,
   "id": "02197e13-b345-464f-b036-e2eab5848c1e",
   "metadata": {},
   "outputs": [],
   "source": [
    "# Import standard libraries\n",
    "import os\n",
    "import warnings\n",
    "\n",
    "# Import libraries for data and geospatial data processing\n",
    "import requests\n",
    "import geopandas as gpd\n",
    "import rasterio\n",
    "from rasterio.plot import show\n",
    "from shapely.geometry import Point, LineString\n",
    "\n",
    "# Import libraries for visualization\n",
    "import matplotlib.pyplot as plt\n",
    "\n",
    "# Import libraries for working with OSM data\n",
    "import osmapi"
   ]
  },
  {
   "cell_type": "markdown",
   "id": "58202be7-bec3-4c6b-bc31-0ba0cca660c9",
   "metadata": {},
   "source": [
    "Download of relation using OsmApi"
   ]
  },
  {
   "cell_type": "code",
   "execution_count": 2,
   "id": "f54c1823-0c51-452f-890a-b0623ab16d68",
   "metadata": {},
   "outputs": [],
   "source": [
    "# Function to download a relation by its ID\n",
    "def download_relation(relation_id):\n",
    "    try:\n",
    "        with osmapi.OsmApi() as api:\n",
    "            return api.RelationGet(relation_id)\n",
    "    except osmapi.errors.ElementDeletedApiError:\n",
    "        print(f\"Relation with ID {relation_id} has been deleted.\")\n",
    "        return None"
   ]
  },
  {
   "cell_type": "markdown",
   "id": "f31e1fde-7f11-42fa-a8f1-477038bef79f",
   "metadata": {},
   "source": [
    "Example Usage"
   ]
  },
  {
   "cell_type": "code",
   "execution_count": null,
   "id": "6d09f066-8da5-434c-a70d-737e3faed746",
   "metadata": {},
   "outputs": [],
   "source": [
    "# Example ID\n",
    "relation_id = 334313\n",
    "relation = download_relation(relation_id)\n",
    "print(relation)"
   ]
  },
  {
   "cell_type": "code",
   "execution_count": null,
   "id": "ce03d180-22d7-40ac-a8f1-010fd5cf7a80",
   "metadata": {},
   "outputs": [],
   "source": [
    "# Function to get coordinates for ways\n",
    "def get_way_coordinates(way_id):\n",
    "    try:\n",
    "        way = osmapi.OsmApi().WayGet(way_id)\n",
    "        nodes = []\n",
    "        for node_id in way['nd']:\n",
    "            node = osmapi.OsmApi().NodeGet(node_id)  # Retrieve the coordinates for each node\n",
    "            if node:\n",
    "                nodes.append((node['lon'], node['lat']))  # Collecting the coordinates for the way\n",
    "        return nodes\n",
    "    except osmapi.errors.OsmApiError:\n",
    "        return None\n",
    "\n",
    "# Example relation ID\n",
    "relation_id = 222947\n",
    "relation = download_relation(relation_id)\n",
    "\n",
    "if relation:\n",
    "    members = relation.get('member', [])\n",
    "\n",
    "    # Initialize an empty list for the geometries\n",
    "    geometries = []\n",
    "\n",
    "    # Loop through members and filter out only 'way' members\n",
    "    for member in members:\n",
    "        if member.get('type') == 'way':\n",
    "            way_id = member.get('ref')\n",
    "            way_coords = get_way_coordinates(way_id)\n",
    "            if way_coords:\n",
    "                # Add line geometry (Way)\n",
    "                geometries.append({\n",
    "                    'type': 'way',\n",
    "                    'ref': member.get('ref'),\n",
    "                    'role': member.get('role'),\n",
    "                    'geometry': LineString(way_coords)  # Store the way as a line\n",
    "                })\n",
    "\n",
    "    # Create GeoDataFrame directly from geometries (only ways)\n",
    "    gdf = gpd.GeoDataFrame(geometries, crs=\"EPSG:4326\")\n",
    "\n",
    "    # Display the GeoDataFrame on a map\n",
    "    gdf.plot()\n",
    "    plt.show()\n"
   ]
  }
 ],
 "metadata": {
  "kernelspec": {
   "display_name": "Python 3 (ipykernel)",
   "language": "python",
   "name": "python3"
  },
  "language_info": {
   "codemirror_mode": {
    "name": "ipython",
    "version": 3
   },
   "file_extension": ".py",
   "mimetype": "text/x-python",
   "name": "python",
   "nbconvert_exporter": "python",
   "pygments_lexer": "ipython3",
   "version": "3.9.5"
  }
 },
 "nbformat": 4,
 "nbformat_minor": 5
}
