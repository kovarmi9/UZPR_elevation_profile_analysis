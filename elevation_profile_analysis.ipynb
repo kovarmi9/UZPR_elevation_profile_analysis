{
 "cells": [
  {
   "cell_type": "markdown",
   "id": "108f2914-3001-4a2d-a633-f3f7d458d4e3",
   "metadata": {},
   "source": [
    "# Analysis of Elevation Profiles of Hiking Trails\n",
    "\n",
    "## Introduction\n",
    "This project focuses on the analysis of elevation profiles of hiking trails. The data sources used are hiking trails from OpenStreetMap (OSM) and elevation data from the DMR 5G dataset obtained from the Czech Office for Surveying, Mapping and Cadastre (ČÚZK)."
   ]
  },
  {
   "cell_type": "markdown",
   "id": "8791c780-7cf0-48f4-ada1-ab11526d520c",
   "metadata": {},
   "source": [
    "First, the necessary libraries are imported."
   ]
  },
  {
   "cell_type": "code",
   "execution_count": 3,
   "id": "02197e13-b345-464f-b036-e2eab5848c1e",
   "metadata": {},
   "outputs": [],
   "source": [
    "# Import standard libraries\n",
    "import os\n",
    "import warnings\n",
    "\n",
    "# Import libraries for data and geospatial data processing\n",
    "import requests\n",
    "import geopandas as gpd\n",
    "import rasterio\n",
    "from rasterio.plot import show\n",
    "from shapely.geometry import LineString\n",
    "\n",
    "# Import libraries for visualization\n",
    "import matplotlib.pyplot as plt\n",
    "\n",
    "# Import libraries for working with OSM data\n",
    "import osmapi"
   ]
  },
  {
   "cell_type": "markdown",
   "id": "58202be7-bec3-4c6b-bc31-0ba0cca660c9",
   "metadata": {},
   "source": [
    "Download of relation using OsmApi"
   ]
  },
  {
   "cell_type": "code",
   "execution_count": 5,
   "id": "f54c1823-0c51-452f-890a-b0623ab16d68",
   "metadata": {},
   "outputs": [],
   "source": [
    "# Function to download a relation by its ID\n",
    "def download_relation(relation_id):\n",
    "    try:\n",
    "        with osmapi.OsmApi() as api:\n",
    "            return api.RelationGet(relation_id)\n",
    "    except osmapi.errors.ElementDeletedApiError:\n",
    "        print(f\"Relation with ID {relation_id} has been deleted.\")\n",
    "        return None"
   ]
  },
  {
   "cell_type": "markdown",
   "id": "f31e1fde-7f11-42fa-a8f1-477038bef79f",
   "metadata": {},
   "source": [
    "Example Usage"
   ]
  },
  {
   "cell_type": "code",
   "execution_count": 10,
   "id": "6d09f066-8da5-434c-a70d-737e3faed746",
   "metadata": {},
   "outputs": [
    {
     "name": "stdout",
     "output_type": "stream",
     "text": [
      "{'id': 222947, 'visible': True, 'version': 117, 'changeset': 156228438, 'timestamp': datetime.datetime(2024, 9, 5, 12, 18, 58), 'user': '8err', 'uid': 16361887, 'tag': {'complete:guideposts': 'no', 'complete:trail': 'yes', 'destinations': 'Plzeň-Košutka;Krkavec;Chotíkov;Vranov;Stříbro;Svojšín (zámek);Brod nad Tichou;Chodová Planá', 'kct_red': 'major', 'network': 'rwn', 'operator': 'cz:KČT', 'osmc:symbol': 'red:white:red_bar', 'ref': '0201', 'route': 'hiking', 'type': 'route'}, 'member': [{'type': 'node', 'ref': 2277611545, 'role': 'guidepost'}, {'type': 'node', 'ref': 477410997, 'role': 'guidepost'}, {'type': 'node', 'ref': 5225076924, 'role': 'guidepost'}, {'type': 'node', 'ref': 4933227822, 'role': 'guidepost'}, {'type': 'node', 'ref': 4933227821, 'role': 'guidepost'}, {'type': 'node', 'ref': 444824086, 'role': 'guidepost'}, {'type': 'node', 'ref': 313052484, 'role': 'guidepost'}, {'type': 'node', 'ref': 444802057, 'role': 'guidepost'}, {'type': 'node', 'ref': 673717121, 'role': 'guidepost'}, {'type': 'node', 'ref': 444824163, 'role': 'guidepost'}, {'type': 'node', 'ref': 2277611545, 'role': 'guidepost'}, {'type': 'node', 'ref': 4396243663, 'role': 'guidepost'}, {'type': 'node', 'ref': 5273210570, 'role': 'guidepost'}, {'type': 'node', 'ref': 885374527, 'role': 'guidepost'}, {'type': 'node', 'ref': 964766262, 'role': 'guidepost'}, {'type': 'node', 'ref': 477410994, 'role': 'guidepost'}, {'type': 'node', 'ref': 477410960, 'role': 'guidepost'}, {'type': 'node', 'ref': 476263402, 'role': 'guidepost'}, {'type': 'node', 'ref': 476261114, 'role': 'guidepost'}, {'type': 'node', 'ref': 474306701, 'role': 'guidepost'}, {'type': 'node', 'ref': 473385024, 'role': 'guidepost'}, {'type': 'node', 'ref': 473381216, 'role': 'guidepost'}, {'type': 'node', 'ref': 828436695, 'role': 'guidepost'}, {'type': 'node', 'ref': 828436693, 'role': 'guidepost'}, {'type': 'node', 'ref': 776629290, 'role': 'guidepost'}, {'type': 'node', 'ref': 776520527, 'role': 'guidepost'}, {'type': 'node', 'ref': 776520638, 'role': 'guidepost'}, {'type': 'node', 'ref': 655359907, 'role': 'guidepost'}, {'type': 'node', 'ref': 655359905, 'role': 'guidepost'}, {'type': 'node', 'ref': 366598623, 'role': 'guidepost'}, {'type': 'node', 'ref': 655359906, 'role': 'guidepost'}, {'type': 'node', 'ref': 366598619, 'role': 'guidepost'}, {'type': 'node', 'ref': 5273208801, 'role': 'guidepost'}, {'type': 'node', 'ref': 5349444679, 'role': 'guidepost'}, {'type': 'node', 'ref': 5360991691, 'role': 'guidepost'}, {'type': 'node', 'ref': 5361071498, 'role': 'guidepost'}, {'type': 'node', 'ref': 5361071496, 'role': 'guidepost'}, {'type': 'way', 'ref': 24048358, 'role': ''}, {'type': 'way', 'ref': 24456066, 'role': ''}, {'type': 'way', 'ref': 27531218, 'role': ''}, {'type': 'way', 'ref': 27531219, 'role': ''}, {'type': 'way', 'ref': 1125175894, 'role': ''}, {'type': 'way', 'ref': 1302927355, 'role': ''}, {'type': 'way', 'ref': 1302927354, 'role': ''}, {'type': 'way', 'ref': 1302927356, 'role': ''}, {'type': 'way', 'ref': 1302927357, 'role': ''}, {'type': 'way', 'ref': 506666187, 'role': ''}, {'type': 'way', 'ref': 1239594999, 'role': ''}, {'type': 'way', 'ref': 24454347, 'role': ''}, {'type': 'way', 'ref': 27531217, 'role': ''}, {'type': 'way', 'ref': 51341378, 'role': ''}, {'type': 'way', 'ref': 1035104556, 'role': ''}, {'type': 'way', 'ref': 1035104557, 'role': ''}, {'type': 'way', 'ref': 1035104558, 'role': ''}, {'type': 'way', 'ref': 1035104559, 'role': ''}, {'type': 'way', 'ref': 1035104560, 'role': ''}, {'type': 'way', 'ref': 1035104561, 'role': ''}, {'type': 'way', 'ref': 454289378, 'role': ''}, {'type': 'way', 'ref': 484975973, 'role': ''}, {'type': 'way', 'ref': 51341374, 'role': ''}, {'type': 'way', 'ref': 51341372, 'role': ''}, {'type': 'way', 'ref': 262831687, 'role': ''}, {'type': 'way', 'ref': 51341368, 'role': ''}, {'type': 'way', 'ref': 236781606, 'role': ''}, {'type': 'way', 'ref': 759851567, 'role': ''}, {'type': 'way', 'ref': 759851569, 'role': ''}, {'type': 'way', 'ref': 759851568, 'role': ''}, {'type': 'way', 'ref': 51342322, 'role': ''}, {'type': 'way', 'ref': 51342321, 'role': ''}, {'type': 'way', 'ref': 51342323, 'role': ''}, {'type': 'way', 'ref': 51342324, 'role': ''}, {'type': 'way', 'ref': 51342319, 'role': ''}, {'type': 'way', 'ref': 51358678, 'role': ''}, {'type': 'way', 'ref': 51358676, 'role': ''}, {'type': 'way', 'ref': 51358680, 'role': ''}, {'type': 'way', 'ref': 51358682, 'role': ''}, {'type': 'way', 'ref': 51358685, 'role': ''}, {'type': 'way', 'ref': 501501299, 'role': ''}, {'type': 'way', 'ref': 51358687, 'role': ''}, {'type': 'way', 'ref': 51358673, 'role': ''}, {'type': 'way', 'ref': 32604705, 'role': ''}, {'type': 'way', 'ref': 30923819, 'role': ''}, {'type': 'way', 'ref': 30923818, 'role': ''}, {'type': 'way', 'ref': 50540304, 'role': ''}, {'type': 'way', 'ref': 30923816, 'role': ''}, {'type': 'way', 'ref': 62226599, 'role': ''}, {'type': 'way', 'ref': 62226609, 'role': ''}, {'type': 'way', 'ref': 62226612, 'role': ''}, {'type': 'way', 'ref': 35235920, 'role': ''}, {'type': 'way', 'ref': 1273879504, 'role': ''}, {'type': 'way', 'ref': 1273879503, 'role': ''}, {'type': 'way', 'ref': 53237821, 'role': ''}, {'type': 'way', 'ref': 53237829, 'role': ''}, {'type': 'way', 'ref': 62226598, 'role': ''}, {'type': 'way', 'ref': 53237839, 'role': ''}, {'type': 'way', 'ref': 53237842, 'role': ''}, {'type': 'way', 'ref': 319632208, 'role': ''}, {'type': 'way', 'ref': 62227894, 'role': ''}, {'type': 'way', 'ref': 53237832, 'role': ''}, {'type': 'way', 'ref': 69022875, 'role': ''}, {'type': 'way', 'ref': 69022873, 'role': ''}, {'type': 'way', 'ref': 69022871, 'role': ''}, {'type': 'way', 'ref': 69022874, 'role': ''}, {'type': 'way', 'ref': 1049323906, 'role': ''}, {'type': 'way', 'ref': 53237840, 'role': ''}, {'type': 'way', 'ref': 1049323896, 'role': ''}, {'type': 'way', 'ref': 1049323897, 'role': ''}, {'type': 'way', 'ref': 319632206, 'role': ''}, {'type': 'way', 'ref': 319632207, 'role': ''}, {'type': 'way', 'ref': 69022432, 'role': ''}, {'type': 'way', 'ref': 53237820, 'role': ''}, {'type': 'way', 'ref': 53237835, 'role': ''}, {'type': 'way', 'ref': 53237823, 'role': ''}, {'type': 'way', 'ref': 69022434, 'role': ''}, {'type': 'way', 'ref': 53237825, 'role': ''}, {'type': 'way', 'ref': 69022435, 'role': ''}, {'type': 'way', 'ref': 204858767, 'role': ''}, {'type': 'way', 'ref': 211183935, 'role': ''}, {'type': 'way', 'ref': 34286004, 'role': ''}, {'type': 'way', 'ref': 34286002, 'role': ''}, {'type': 'way', 'ref': 218525450, 'role': ''}, {'type': 'way', 'ref': 925738562, 'role': ''}, {'type': 'way', 'ref': 925738561, 'role': ''}, {'type': 'way', 'ref': 211183929, 'role': ''}, {'type': 'way', 'ref': 218525453, 'role': ''}, {'type': 'way', 'ref': 218525455, 'role': ''}, {'type': 'way', 'ref': 211183924, 'role': ''}, {'type': 'way', 'ref': 211183937, 'role': ''}, {'type': 'way', 'ref': 977414126, 'role': ''}, {'type': 'way', 'ref': 119059282, 'role': ''}, {'type': 'way', 'ref': 977414128, 'role': ''}, {'type': 'way', 'ref': 130411121, 'role': ''}, {'type': 'way', 'ref': 630919362, 'role': ''}, {'type': 'way', 'ref': 130411126, 'role': ''}, {'type': 'way', 'ref': 130411125, 'role': ''}, {'type': 'way', 'ref': 28876065, 'role': ''}, {'type': 'way', 'ref': 28875890, 'role': ''}, {'type': 'way', 'ref': 28496213, 'role': ''}, {'type': 'way', 'ref': 24456032, 'role': ''}, {'type': 'way', 'ref': 24456034, 'role': ''}, {'type': 'way', 'ref': 24048354, 'role': ''}, {'type': 'way', 'ref': 28161961, 'role': ''}, {'type': 'way', 'ref': 37901594, 'role': ''}, {'type': 'way', 'ref': 37901593, 'role': ''}, {'type': 'way', 'ref': 941451008, 'role': ''}, {'type': 'way', 'ref': 941451007, 'role': ''}, {'type': 'way', 'ref': 630960582, 'role': ''}, {'type': 'way', 'ref': 630960580, 'role': ''}, {'type': 'way', 'ref': 28161964, 'role': ''}, {'type': 'way', 'ref': 28161962, 'role': ''}, {'type': 'way', 'ref': 51398391, 'role': ''}, {'type': 'way', 'ref': 28161965, 'role': ''}, {'type': 'way', 'ref': 22986357, 'role': ''}, {'type': 'way', 'ref': 68275130, 'role': ''}, {'type': 'way', 'ref': 9797830, 'role': ''}, {'type': 'way', 'ref': 9797831, 'role': ''}, {'type': 'way', 'ref': 8442271, 'role': ''}, {'type': 'way', 'ref': 22986021, 'role': ''}, {'type': 'way', 'ref': 22986024, 'role': ''}, {'type': 'way', 'ref': 9797825, 'role': ''}, {'type': 'way', 'ref': 24047951, 'role': ''}, {'type': 'way', 'ref': 22986028, 'role': ''}, {'type': 'way', 'ref': 258668961, 'role': ''}, {'type': 'way', 'ref': 22986358, 'role': ''}, {'type': 'way', 'ref': 24047953, 'role': ''}, {'type': 'way', 'ref': 22986360, 'role': ''}, {'type': 'way', 'ref': 555725705, 'role': ''}, {'type': 'way', 'ref': 22986361, 'role': ''}, {'type': 'way', 'ref': 1180046782, 'role': ''}, {'type': 'way', 'ref': 1180046783, 'role': ''}, {'type': 'way', 'ref': 22986362, 'role': ''}, {'type': 'way', 'ref': 22986363, 'role': ''}, {'type': 'way', 'ref': 847192189, 'role': ''}, {'type': 'way', 'ref': 1131040329, 'role': ''}, {'type': 'way', 'ref': 847192188, 'role': ''}, {'type': 'way', 'ref': 1180046795, 'role': ''}, {'type': 'way', 'ref': 1180046794, 'role': ''}, {'type': 'way', 'ref': 1131040328, 'role': ''}, {'type': 'way', 'ref': 258668916, 'role': ''}, {'type': 'way', 'ref': 847192191, 'role': ''}, {'type': 'way', 'ref': 24047958, 'role': ''}, {'type': 'way', 'ref': 243229766, 'role': ''}, {'type': 'way', 'ref': 28803118, 'role': ''}, {'type': 'way', 'ref': 242147118, 'role': ''}, {'type': 'way', 'ref': 242147144, 'role': ''}, {'type': 'way', 'ref': 28440039, 'role': ''}, {'type': 'way', 'ref': 28440038, 'role': ''}, {'type': 'way', 'ref': 28803120, 'role': ''}, {'type': 'way', 'ref': 32474891, 'role': ''}, {'type': 'way', 'ref': 163272205, 'role': ''}, {'type': 'way', 'ref': 163272204, 'role': ''}, {'type': 'way', 'ref': 32474885, 'role': ''}, {'type': 'way', 'ref': 32474883, 'role': ''}, {'type': 'way', 'ref': 22989003, 'role': ''}, {'type': 'way', 'ref': 32474879, 'role': ''}, {'type': 'way', 'ref': 22989005, 'role': ''}, {'type': 'way', 'ref': 22989004, 'role': ''}, {'type': 'way', 'ref': 631022743, 'role': ''}, {'type': 'way', 'ref': 1046834858, 'role': ''}, {'type': 'way', 'ref': 39825509, 'role': ''}, {'type': 'way', 'ref': 1046834859, 'role': ''}, {'type': 'way', 'ref': 22989002, 'role': ''}, {'type': 'way', 'ref': 32474875, 'role': ''}, {'type': 'way', 'ref': 1086366535, 'role': ''}, {'type': 'way', 'ref': 24047971, 'role': ''}, {'type': 'way', 'ref': 1163879712, 'role': ''}, {'type': 'way', 'ref': 1086366518, 'role': ''}, {'type': 'way', 'ref': 28422225, 'role': ''}, {'type': 'way', 'ref': 1086366519, 'role': ''}, {'type': 'way', 'ref': 28422214, 'role': ''}, {'type': 'way', 'ref': 1086366531, 'role': ''}, {'type': 'way', 'ref': 28422223, 'role': ''}, {'type': 'way', 'ref': 28422219, 'role': ''}, {'type': 'way', 'ref': 1126951597, 'role': ''}, {'type': 'way', 'ref': 1126951602, 'role': ''}, {'type': 'way', 'ref': 28422222, 'role': ''}, {'type': 'way', 'ref': 311102053, 'role': ''}, {'type': 'way', 'ref': 1215354769, 'role': ''}, {'type': 'way', 'ref': 1215354768, 'role': ''}, {'type': 'way', 'ref': 1074241615, 'role': ''}, {'type': 'way', 'ref': 28422221, 'role': ''}, {'type': 'way', 'ref': 1074475482, 'role': ''}, {'type': 'way', 'ref': 243320137, 'role': ''}, {'type': 'way', 'ref': 243320135, 'role': ''}, {'type': 'way', 'ref': 243320132, 'role': ''}, {'type': 'way', 'ref': 554038009, 'role': ''}, {'type': 'way', 'ref': 28423706, 'role': ''}, {'type': 'way', 'ref': 560666357, 'role': ''}, {'type': 'way', 'ref': 28423709, 'role': ''}, {'type': 'way', 'ref': 560666370, 'role': ''}, {'type': 'way', 'ref': 560666369, 'role': ''}, {'type': 'way', 'ref': 28423710, 'role': ''}, {'type': 'way', 'ref': 28423711, 'role': ''}, {'type': 'way', 'ref': 28423713, 'role': ''}, {'type': 'way', 'ref': 28423714, 'role': ''}, {'type': 'way', 'ref': 39724198, 'role': ''}, {'type': 'way', 'ref': 39724199, 'role': ''}, {'type': 'way', 'ref': 39724195, 'role': ''}, {'type': 'way', 'ref': 1225295274, 'role': ''}, {'type': 'way', 'ref': 39723825, 'role': ''}, {'type': 'way', 'ref': 39723824, 'role': ''}, {'type': 'way', 'ref': 1011233015, 'role': ''}, {'type': 'way', 'ref': 1011233014, 'role': ''}, {'type': 'way', 'ref': 39723827, 'role': ''}, {'type': 'way', 'ref': 618348608, 'role': ''}, {'type': 'way', 'ref': 1011233012, 'role': ''}, {'type': 'way', 'ref': 1011233013, 'role': ''}, {'type': 'way', 'ref': 618348605, 'role': ''}, {'type': 'way', 'ref': 618348607, 'role': ''}, {'type': 'way', 'ref': 39723759, 'role': ''}, {'type': 'way', 'ref': 39723758, 'role': ''}, {'type': 'way', 'ref': 1011233023, 'role': ''}, {'type': 'way', 'ref': 1011233024, 'role': ''}, {'type': 'way', 'ref': 1011233011, 'role': ''}, {'type': 'way', 'ref': 39723609, 'role': ''}, {'type': 'way', 'ref': 1011233009, 'role': ''}, {'type': 'way', 'ref': 1011233028, 'role': ''}, {'type': 'way', 'ref': 1011233027, 'role': ''}, {'type': 'way', 'ref': 1011233022, 'role': ''}, {'type': 'way', 'ref': 1219863659, 'role': ''}, {'type': 'way', 'ref': 1011233021, 'role': ''}, {'type': 'way', 'ref': 39571281, 'role': ''}, {'type': 'way', 'ref': 39514704, 'role': ''}, {'type': 'way', 'ref': 1219863626, 'role': ''}, {'type': 'way', 'ref': 554814340, 'role': ''}, {'type': 'way', 'ref': 1313481811, 'role': ''}, {'type': 'way', 'ref': 39514703, 'role': ''}, {'type': 'way', 'ref': 503950286, 'role': ''}, {'type': 'way', 'ref': 39724298, 'role': ''}, {'type': 'way', 'ref': 1245375295, 'role': ''}, {'type': 'way', 'ref': 629929917, 'role': ''}, {'type': 'way', 'ref': 172668487, 'role': ''}, {'type': 'way', 'ref': 414529876, 'role': ''}, {'type': 'way', 'ref': 362556401, 'role': ''}, {'type': 'way', 'ref': 243229762, 'role': ''}, {'type': 'way', 'ref': 92402516, 'role': ''}, {'type': 'way', 'ref': 31275178, 'role': ''}, {'type': 'way', 'ref': 85788383, 'role': ''}, {'type': 'way', 'ref': 85788382, 'role': ''}, {'type': 'way', 'ref': 85788389, 'role': ''}, {'type': 'way', 'ref': 362650515, 'role': ''}, {'type': 'way', 'ref': 1009134736, 'role': ''}, {'type': 'way', 'ref': 1154776671, 'role': ''}, {'type': 'way', 'ref': 337381922, 'role': ''}, {'type': 'way', 'ref': 1048823903, 'role': ''}, {'type': 'way', 'ref': 1048823905, 'role': ''}, {'type': 'way', 'ref': 694246800, 'role': ''}, {'type': 'way', 'ref': 694246801, 'role': ''}, {'type': 'way', 'ref': 694246802, 'role': ''}, {'type': 'way', 'ref': 92397204, 'role': ''}, {'type': 'way', 'ref': 694246797, 'role': ''}, {'type': 'way', 'ref': 694246795, 'role': ''}, {'type': 'way', 'ref': 694246794, 'role': ''}, {'type': 'way', 'ref': 540044585, 'role': ''}, {'type': 'way', 'ref': 31275186, 'role': ''}, {'type': 'way', 'ref': 1133847891, 'role': ''}, {'type': 'way', 'ref': 1133847892, 'role': ''}, {'type': 'way', 'ref': 32591843, 'role': ''}, {'type': 'way', 'ref': 1133847890, 'role': ''}, {'type': 'way', 'ref': 1133847889, 'role': ''}, {'type': 'way', 'ref': 189903760, 'role': ''}, {'type': 'way', 'ref': 557289960, 'role': ''}, {'type': 'way', 'ref': 189903780, 'role': ''}, {'type': 'way', 'ref': 191446131, 'role': ''}, {'type': 'way', 'ref': 189903777, 'role': ''}, {'type': 'way', 'ref': 189903776, 'role': ''}, {'type': 'way', 'ref': 370371025, 'role': ''}, {'type': 'way', 'ref': 32604947, 'role': ''}, {'type': 'way', 'ref': 588788480, 'role': ''}, {'type': 'way', 'ref': 588790201, 'role': ''}, {'type': 'way', 'ref': 588788603, 'role': ''}, {'type': 'node', 'ref': 12065205272, 'role': ''}]}\n"
     ]
    }
   ],
   "source": [
    "# Example ID\n",
    "relation_id = 222947\n",
    "relation = download_relation(relation_id)\n",
    "print(relation)"
   ]
  },
  {
   "cell_type": "code",
   "execution_count": null,
   "id": "9a07a7b9-a3a3-4b1d-821e-85a54ecdd798",
   "metadata": {},
   "outputs": [],
   "source": []
  }
 ],
 "metadata": {
  "kernelspec": {
   "display_name": "Python 3 (ipykernel)",
   "language": "python",
   "name": "python3"
  },
  "language_info": {
   "codemirror_mode": {
    "name": "ipython",
    "version": 3
   },
   "file_extension": ".py",
   "mimetype": "text/x-python",
   "name": "python",
   "nbconvert_exporter": "python",
   "pygments_lexer": "ipython3",
   "version": "3.9.5"
  }
 },
 "nbformat": 4,
 "nbformat_minor": 5
}
