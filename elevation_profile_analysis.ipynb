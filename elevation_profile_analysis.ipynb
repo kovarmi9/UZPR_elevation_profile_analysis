{
 "cells": [
  {
   "cell_type": "markdown",
   "id": "108f2914-3001-4a2d-a633-f3f7d458d4e3",
   "metadata": {},
   "source": [
    "# Analysis of Elevation Profiles of Hiking Trails\n",
    "\n",
    "## Introduction \n",
    "This project focuses on the analysis of elevation profiles of hiking trails. The data sources used are hiking trails from [OpenStreetMap (OSM)](https://www.openstreetmap.org) and elevation data from the [DMR 5G dataset](https://geoportal.cuzk.cz/(S(ayyzvgzq0sfoqh3f1wdwqovo))/Default.aspx?mode=TextMeta&metadataID=CZ-CUZK-DMR5G&head_tab=sekce-02-gp&menu=206) obtained from the [Czech Office for Surveying, Mapping and Cadastre (ČÚZK)](https://cuzk.cz). The project primarily focuses on hiking trails marked by the [Czech Tourist Club (KČT)](https://www.kct.cz).\n"
   ]
  },
  {
   "cell_type": "markdown",
   "id": "8791c780-7cf0-48f4-ada1-ab11526d520c",
   "metadata": {},
   "source": [
    "## Import of libraries\n",
    "#### Import standard libraries\n",
    "[os](https://docs.python.org/3/library/os.html)  \n",
    "[warnings](https://docs.python.org/3/library/warnings.html)  \n",
    "\n",
    "#### Import libraries for data and geospatial data processing\n",
    "[requests](https://docs.python-requests.org/en/latest/)  \n",
    "[geopandas](https://geopandas.org/)  \n",
    "[rasterio](https://rasterio.readthedocs.io/en/latest/)  \n",
    "[shapely](https://shapely.readthedocs.io/en/stable/)  \n",
    "\n",
    "#### Import libraries for visualization\n",
    "[matplotlib](https://matplotlib.org/)  \n",
    "\n",
    "#### Import libraries for working with OSM data\n",
    "[osmapi](https://osmapi.tilmannr.de/)\n"
   ]
  },
  {
   "cell_type": "code",
   "execution_count": 1,
   "id": "02197e13-b345-464f-b036-e2eab5848c1e",
   "metadata": {},
   "outputs": [],
   "source": [
    "# Import standard libraries\n",
    "import os\n",
    "import warnings\n",
    "\n",
    "# Import libraries for data and geospatial data processing\n",
    "import requests\n",
    "import geopandas as gpd\n",
    "import rasterio\n",
    "from rasterio.plot import show\n",
    "from shapely.geometry import Point, LineString\n",
    "\n",
    "# Import libraries for visualization\n",
    "import matplotlib.pyplot as plt\n",
    "\n",
    "# Import libraries for working with OSM data\n",
    "import osmapi"
   ]
  },
  {
   "cell_type": "markdown",
   "id": "58202be7-bec3-4c6b-bc31-0ba0cca660c9",
   "metadata": {},
   "source": [
    "The hiking trail relation is downloaded using [OsmApi](https://osmapi.tilmannr.de/). A complete overview of hiking trail numbers in the Czech Republic is available [here](https://osm.paws.cz/hiking.php)."
   ]
  },
  {
   "cell_type": "code",
   "execution_count": 2,
   "id": "f54c1823-0c51-452f-890a-b0623ab16d68",
   "metadata": {},
   "outputs": [],
   "source": [
    "# Function to download a relation by its ID\n",
    "def download_relation(relation_id):\n",
    "    try:\n",
    "        with osmapi.OsmApi() as api:\n",
    "            return api.RelationGet(relation_id)\n",
    "    except osmapi.errors.ElementDeletedApiError:\n",
    "        print(f\"Relation with ID {relation_id} has been deleted.\")\n",
    "        return None"
   ]
  },
  {
   "cell_type": "markdown",
   "id": "f31e1fde-7f11-42fa-a8f1-477038bef79f",
   "metadata": {},
   "source": [
    "Example Usage"
   ]
  },
  {
   "cell_type": "code",
   "execution_count": 3,
   "id": "6d09f066-8da5-434c-a70d-737e3faed746",
   "metadata": {},
   "outputs": [
    {
     "name": "stdout",
     "output_type": "stream",
     "text": [
      "{'id': 334313, 'visible': True, 'version': 48, 'changeset': 159671790, 'timestamp': datetime.datetime(2024, 11, 27, 18, 14, 37), 'user': 'sannorra', 'uid': 1424365, 'tag': {'complete': 'yes', 'educational': 'yes', 'kct_yellow': 'major', 'name': 'Sigmondova okružní naučná stezka', 'network': 'lwn', 'note': 'Značena žlutým pásovým značením', 'official_name': 'Sigmondova okružní NS', 'operator': 'cz:KČT', 'osmc:symbol': 'yellow:white:yellow_bar', 'ref': '6711', 'route': 'hiking', 'type': 'route'}, 'member': [{'type': 'node', 'ref': 364493953, 'role': 'guidepost'}, {'type': 'node', 'ref': 676243685, 'role': 'guidepost'}, {'type': 'node', 'ref': 676475796, 'role': 'guidepost'}, {'type': 'node', 'ref': 655359905, 'role': 'guidepost'}, {'type': 'node', 'ref': 806808290, 'role': 'guidepost'}, {'type': 'node', 'ref': 2205940692, 'role': 'board'}, {'type': 'node', 'ref': 2205940676, 'role': 'board'}, {'type': 'node', 'ref': 676243685, 'role': 'guidepost'}, {'type': 'node', 'ref': 7099707271, 'role': 'board'}, {'type': 'node', 'ref': 8615308759, 'role': 'board'}, {'type': 'node', 'ref': 8615308758, 'role': 'board'}, {'type': 'node', 'ref': 8615308757, 'role': 'board'}, {'type': 'node', 'ref': 8615308756, 'role': 'board'}, {'type': 'node', 'ref': 8615308754, 'role': 'board'}, {'type': 'node', 'ref': 8615308753, 'role': 'board'}, {'type': 'node', 'ref': 8615308752, 'role': 'board'}, {'type': 'node', 'ref': 8615308750, 'role': 'board'}, {'type': 'node', 'ref': 2695870340, 'role': 'board'}, {'type': 'node', 'ref': 8615308751, 'role': 'guidepost'}, {'type': 'node', 'ref': 2709683640, 'role': 'board'}, {'type': 'node', 'ref': 8615308748, 'role': 'board'}, {'type': 'node', 'ref': 8615308755, 'role': 'board'}, {'type': 'way', 'ref': 841270075, 'role': ''}, {'type': 'way', 'ref': 1111089511, 'role': ''}, {'type': 'way', 'ref': 32399132, 'role': ''}, {'type': 'way', 'ref': 1111089513, 'role': ''}, {'type': 'way', 'ref': 1111089512, 'role': ''}, {'type': 'way', 'ref': 289230719, 'role': ''}, {'type': 'way', 'ref': 32399134, 'role': ''}, {'type': 'way', 'ref': 32399137, 'role': ''}, {'type': 'way', 'ref': 32399138, 'role': ''}, {'type': 'way', 'ref': 1040249818, 'role': ''}, {'type': 'way', 'ref': 1040249817, 'role': ''}, {'type': 'way', 'ref': 232660566, 'role': ''}, {'type': 'way', 'ref': 53526357, 'role': ''}, {'type': 'way', 'ref': 1109741050, 'role': ''}, {'type': 'way', 'ref': 32399139, 'role': ''}, {'type': 'way', 'ref': 32399141, 'role': ''}, {'type': 'way', 'ref': 1035095760, 'role': ''}, {'type': 'way', 'ref': 1035095759, 'role': ''}, {'type': 'way', 'ref': 53526348, 'role': ''}, {'type': 'way', 'ref': 51341378, 'role': ''}, {'type': 'way', 'ref': 1035104556, 'role': ''}, {'type': 'way', 'ref': 1035104557, 'role': ''}, {'type': 'way', 'ref': 1035104558, 'role': ''}, {'type': 'way', 'ref': 1035104559, 'role': ''}, {'type': 'way', 'ref': 1035104560, 'role': ''}, {'type': 'way', 'ref': 1035104561, 'role': ''}, {'type': 'way', 'ref': 454289378, 'role': ''}, {'type': 'way', 'ref': 484975973, 'role': ''}, {'type': 'way', 'ref': 51341374, 'role': ''}, {'type': 'way', 'ref': 51341372, 'role': ''}, {'type': 'way', 'ref': 262831687, 'role': ''}, {'type': 'way', 'ref': 51341368, 'role': ''}, {'type': 'way', 'ref': 51341370, 'role': ''}, {'type': 'way', 'ref': 66567563, 'role': ''}, {'type': 'way', 'ref': 66567582, 'role': ''}, {'type': 'way', 'ref': 66567555, 'role': ''}, {'type': 'way', 'ref': 766463893, 'role': ''}, {'type': 'way', 'ref': 66567550, 'role': ''}, {'type': 'way', 'ref': 66567587, 'role': ''}, {'type': 'way', 'ref': 66567585, 'role': ''}, {'type': 'way', 'ref': 66567572, 'role': ''}, {'type': 'way', 'ref': 66711190, 'role': ''}, {'type': 'way', 'ref': 66711201, 'role': ''}, {'type': 'way', 'ref': 66711198, 'role': ''}, {'type': 'way', 'ref': 66711191, 'role': ''}, {'type': 'way', 'ref': 66711197, 'role': ''}, {'type': 'way', 'ref': 66711196, 'role': ''}, {'type': 'way', 'ref': 66711187, 'role': ''}, {'type': 'way', 'ref': 66711203, 'role': ''}, {'type': 'way', 'ref': 210509162, 'role': ''}, {'type': 'way', 'ref': 66711200, 'role': ''}, {'type': 'way', 'ref': 66711185, 'role': ''}, {'type': 'way', 'ref': 66711188, 'role': ''}, {'type': 'way', 'ref': 32399363, 'role': ''}, {'type': 'way', 'ref': 53526379, 'role': ''}, {'type': 'way', 'ref': 37145240, 'role': ''}, {'type': 'way', 'ref': 841270074, 'role': ''}, {'type': 'way', 'ref': 32399133, 'role': ''}]}\n"
     ]
    }
   ],
   "source": [
    "# Example ID\n",
    "relation_id = 334313\n",
    "relation = download_relation(relation_id)\n",
    "print(relation)"
   ]
  },
  {
   "cell_type": "code",
   "execution_count": 4,
   "id": "ce03d180-22d7-40ac-a8f1-010fd5cf7a80",
   "metadata": {},
   "outputs": [
    {
     "data": {
      "image/png": "[encoded data removed]",
      "text/plain": [
       "<Figure size 640x480 with 1 Axes>"
      ]
     },
     "metadata": {},
     "output_type": "display_data"
    }
   ],
   "source": [
    "# Function to get coordinates for ways\n",
    "def get_way_coordinates(way_id):\n",
    "    try:\n",
    "        way = osmapi.OsmApi().WayGet(way_id)\n",
    "        nodes = []\n",
    "        for node_id in way['nd']:\n",
    "            node = osmapi.OsmApi().NodeGet(node_id)  # Retrieve the coordinates for each node\n",
    "            if node:\n",
    "                nodes.append((node['lon'], node['lat']))  # Collecting the coordinates for the way\n",
    "        return nodes\n",
    "    except osmapi.errors.OsmApiError:\n",
    "        return None\n",
    "\n",
    "# Example relation ID\n",
    "relation_id = 222947\n",
    "relation = download_relation(relation_id)\n",
    "\n",
    "if relation:\n",
    "    members = relation.get('member', [])\n",
    "\n",
    "    # Initialize an empty list for the geometries\n",
    "    geometries = []\n",
    "\n",
    "    # Loop through members and filter out only 'way' members\n",
    "    for member in members:\n",
    "        if member.get('type') == 'way':\n",
    "            way_id = member.get('ref')\n",
    "            way_coords = get_way_coordinates(way_id)\n",
    "            if way_coords:\n",
    "                # Add line geometry (Way)\n",
    "                geometries.append({\n",
    "                    'type': 'way',\n",
    "                    'ref': member.get('ref'),\n",
    "                    'role': member.get('role'),\n",
    "                    'geometry': LineString(way_coords)  # Store the way as a line\n",
    "                })\n",
    "\n",
    "    # Create GeoDataFrame directly from geometries (only ways)\n",
    "    gdf = gpd.GeoDataFrame(geometries, crs=\"EPSG:4326\")\n",
    "\n",
    "    # Display the GeoDataFrame on a map\n",
    "    gdf.plot()\n",
    "    plt.show()\n"
   ]
  },
  {
   "cell_type": "code",
   "execution_count": 7,
   "id": "be7428d7-d174-4f07-abc2-4ff783ac3571",
   "metadata": {},
   "outputs": [],
   "source": [
    "a = 1"
   ]
  },
  {
   "cell_type": "code",
   "execution_count": 8,
   "id": "225f3a86-17c2-4b87-8a87-553a8a8a4fd7",
   "metadata": {},
   "outputs": [
    {
     "name": "stdout",
     "output_type": "stream",
     "text": [
      "helooword\n"
     ]
    }
   ],
   "source": [
    "print('helooword')"
   ]
  },
  {
   "cell_type": "code",
   "execution_count": null,
   "id": "aa298fac-b427-422d-85c7-0b769119c6e8",
   "metadata": {},
   "outputs": [],
   "source": []
  }
 ],
 "metadata": {
  "kernelspec": {
   "display_name": "Python 3 (ipykernel)",
   "language": "python",
   "name": "python3"
  },
  "language_info": {
   "codemirror_mode": {
    "name": "ipython",
    "version": 3
   },
   "file_extension": ".py",
   "mimetype": "text/x-python",
   "name": "python",
   "nbconvert_exporter": "python",
   "pygments_lexer": "ipython3",
   "version": "3.9.5"
  }
 },
 "nbformat": 4,
 "nbformat_minor": 5
}
