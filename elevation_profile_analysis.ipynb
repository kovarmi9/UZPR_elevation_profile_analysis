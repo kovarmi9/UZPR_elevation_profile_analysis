{
 "cells": [
  {
   "cell_type": "markdown",
   "id": "108f2914-3001-4a2d-a633-f3f7d458d4e3",
   "metadata": {},
   "source": [
    "# Analysis of Elevation Profiles of Hiking Trails\n",
    "\n",
    "## Introduction \n",
    "This project focuses on the analysis of elevation profiles of hiking trails. The data sources used are hiking trails from [OpenStreetMap (OSM)](https://www.openstreetmap.org) and elevation data from the [DMR 5G](https://ags.cuzk.cz/arcgis/rest/services/3D/dmr5g/ImageServer) obtained from the [Czech Office for Surveying, Mapping and Cadastre (ČÚZK)](https://cuzk.cz). The project primarily focuses on hiking trails marked by the [Czech Tourist Club (KČT)](https://www.kct.cz).\n"
   ]
  },
  {
   "cell_type": "markdown",
   "id": "8791c780-7cf0-48f4-ada1-ab11526d520c",
   "metadata": {},
   "source": [
    "## Import of libraries\n",
    "\n",
    "#### Import standard libraries\n",
    "[os](https://docs.python.org/3/library/os.html)  \n",
    "[warnings](https://docs.python.org/3/library/warnings.html)  \n",
    "[numpy](https://numpy.org/doc/stable/)  \n",
    "\n",
    "#### Import libraries for data and geospatial data processing\n",
    "[requests](https://docs.python-requests.org/en/latest/)  \n",
    "[geopandas](https://geopandas.org/)  \n",
    "[rasterio](https://rasterio.readthedocs.io/en/latest/)  \n",
    "[shapely](https://shapely.readthedocs.io/en/stable/)  \n",
    "\n",
    "#### Import libraries for visualization\n",
    "[matplotlib](https://matplotlib.org/)  \n",
    "[folium](https://python-visualization.github.io/folium/)  \n",
    "\n",
    "#### Import libraries for working with OSM data\n",
    "[osmapi](https://osmapi.tilmannr.de/)\n",
    "\n",
    "newer library to work with OSM\n",
    "\n",
    "[osmnx](https://osmnx.readthedocs.io/en/stable/)  \n"
   ]
  },
  {
   "cell_type": "code",
   "execution_count": 1,
   "id": "02197e13-b345-464f-b036-e2eab5848c1e",
   "metadata": {},
   "outputs": [],
   "source": [
    "# Import standard libraries\n",
    "import os\n",
    "import warnings\n",
    "import numpy as np\n",
    "\n",
    "# Import libraries for data and geospatial data processing\n",
    "import requests\n",
    "import geopandas as gpd\n",
    "import rasterio\n",
    "from rasterio.plot import show\n",
    "from shapely.geometry import Point, LineString, Polygon\n",
    "import folium\n",
    "\n",
    "# Import libraries for visualization\n",
    "import matplotlib.pyplot as plt\n",
    "\n",
    "# Import libraries for working with OSM data\n",
    "import osmapi\n",
    "import osmnx as ox"
   ]
  },
  {
   "cell_type": "markdown",
   "id": "58202be7-bec3-4c6b-bc31-0ba0cca660c9",
   "metadata": {},
   "source": [
    "The hiking trail relation is downloaded using [OsmApi](https://osmapi.tilmannr.de/). A complete overview of hiking trail numbers in the Czech Republic is available [here](https://osm.paws.cz/hiking.php)."
   ]
  },
  {
   "cell_type": "code",
   "execution_count": 2,
   "id": "f54c1823-0c51-452f-890a-b0623ab16d68",
   "metadata": {},
   "outputs": [],
   "source": [
    "# Function to download a relation by its ID\n",
    "def download_relation(relation_id):\n",
    "    try:\n",
    "        with osmapi.OsmApi() as api:\n",
    "            return api.RelationGet(relation_id)\n",
    "    except osmapi.errors.ElementDeletedApiError:\n",
    "        print(f\"Relation with ID {relation_id} not found.\")\n",
    "        return None"
   ]
  },
  {
   "cell_type": "markdown",
   "id": "f31e1fde-7f11-42fa-a8f1-477038bef79f",
   "metadata": {},
   "source": [
    "Example Usage"
   ]
  },
  {
   "cell_type": "code",
   "execution_count": 3,
   "id": "6d09f066-8da5-434c-a70d-737e3faed746",
   "metadata": {},
   "outputs": [
    {
     "name": "stdout",
     "output_type": "stream",
     "text": [
      "{'id': 334313, 'visible': True, 'version': 48, 'changeset': 159671790, 'timestamp': datetime.datetime(2024, 11, 27, 18, 14, 37), 'user': 'sannorra', 'uid': 1424365, 'tag': {'complete': 'yes', 'educational': 'yes', 'kct_yellow': 'major', 'name': 'Sigmondova okružní naučná stezka', 'network': 'lwn', 'note': 'Značena žlutým pásovým značením', 'official_name': 'Sigmondova okružní NS', 'operator': 'cz:KČT', 'osmc:symbol': 'yellow:white:yellow_bar', 'ref': '6711', 'route': 'hiking', 'type': 'route'}, 'member': [{'type': 'node', 'ref': 364493953, 'role': 'guidepost'}, {'type': 'node', 'ref': 676243685, 'role': 'guidepost'}, {'type': 'node', 'ref': 676475796, 'role': 'guidepost'}, {'type': 'node', 'ref': 655359905, 'role': 'guidepost'}, {'type': 'node', 'ref': 806808290, 'role': 'guidepost'}, {'type': 'node', 'ref': 2205940692, 'role': 'board'}, {'type': 'node', 'ref': 2205940676, 'role': 'board'}, {'type': 'node', 'ref': 676243685, 'role': 'guidepost'}, {'type': 'node', 'ref': 7099707271, 'role': 'board'}, {'type': 'node', 'ref': 8615308759, 'role': 'board'}, {'type': 'node', 'ref': 8615308758, 'role': 'board'}, {'type': 'node', 'ref': 8615308757, 'role': 'board'}, {'type': 'node', 'ref': 8615308756, 'role': 'board'}, {'type': 'node', 'ref': 8615308754, 'role': 'board'}, {'type': 'node', 'ref': 8615308753, 'role': 'board'}, {'type': 'node', 'ref': 8615308752, 'role': 'board'}, {'type': 'node', 'ref': 8615308750, 'role': 'board'}, {'type': 'node', 'ref': 2695870340, 'role': 'board'}, {'type': 'node', 'ref': 8615308751, 'role': 'guidepost'}, {'type': 'node', 'ref': 2709683640, 'role': 'board'}, {'type': 'node', 'ref': 8615308748, 'role': 'board'}, {'type': 'node', 'ref': 8615308755, 'role': 'board'}, {'type': 'way', 'ref': 841270075, 'role': ''}, {'type': 'way', 'ref': 1111089511, 'role': ''}, {'type': 'way', 'ref': 32399132, 'role': ''}, {'type': 'way', 'ref': 1111089513, 'role': ''}, {'type': 'way', 'ref': 1111089512, 'role': ''}, {'type': 'way', 'ref': 289230719, 'role': ''}, {'type': 'way', 'ref': 32399134, 'role': ''}, {'type': 'way', 'ref': 32399137, 'role': ''}, {'type': 'way', 'ref': 32399138, 'role': ''}, {'type': 'way', 'ref': 1040249818, 'role': ''}, {'type': 'way', 'ref': 1040249817, 'role': ''}, {'type': 'way', 'ref': 232660566, 'role': ''}, {'type': 'way', 'ref': 53526357, 'role': ''}, {'type': 'way', 'ref': 1109741050, 'role': ''}, {'type': 'way', 'ref': 32399139, 'role': ''}, {'type': 'way', 'ref': 32399141, 'role': ''}, {'type': 'way', 'ref': 1035095760, 'role': ''}, {'type': 'way', 'ref': 1035095759, 'role': ''}, {'type': 'way', 'ref': 53526348, 'role': ''}, {'type': 'way', 'ref': 51341378, 'role': ''}, {'type': 'way', 'ref': 1035104556, 'role': ''}, {'type': 'way', 'ref': 1035104557, 'role': ''}, {'type': 'way', 'ref': 1035104558, 'role': ''}, {'type': 'way', 'ref': 1035104559, 'role': ''}, {'type': 'way', 'ref': 1035104560, 'role': ''}, {'type': 'way', 'ref': 1035104561, 'role': ''}, {'type': 'way', 'ref': 454289378, 'role': ''}, {'type': 'way', 'ref': 484975973, 'role': ''}, {'type': 'way', 'ref': 51341374, 'role': ''}, {'type': 'way', 'ref': 51341372, 'role': ''}, {'type': 'way', 'ref': 262831687, 'role': ''}, {'type': 'way', 'ref': 51341368, 'role': ''}, {'type': 'way', 'ref': 51341370, 'role': ''}, {'type': 'way', 'ref': 66567563, 'role': ''}, {'type': 'way', 'ref': 66567582, 'role': ''}, {'type': 'way', 'ref': 66567555, 'role': ''}, {'type': 'way', 'ref': 766463893, 'role': ''}, {'type': 'way', 'ref': 66567550, 'role': ''}, {'type': 'way', 'ref': 66567587, 'role': ''}, {'type': 'way', 'ref': 66567585, 'role': ''}, {'type': 'way', 'ref': 66567572, 'role': ''}, {'type': 'way', 'ref': 66711190, 'role': ''}, {'type': 'way', 'ref': 66711201, 'role': ''}, {'type': 'way', 'ref': 66711198, 'role': ''}, {'type': 'way', 'ref': 66711191, 'role': ''}, {'type': 'way', 'ref': 66711197, 'role': ''}, {'type': 'way', 'ref': 66711196, 'role': ''}, {'type': 'way', 'ref': 66711187, 'role': ''}, {'type': 'way', 'ref': 66711203, 'role': ''}, {'type': 'way', 'ref': 210509162, 'role': ''}, {'type': 'way', 'ref': 66711200, 'role': ''}, {'type': 'way', 'ref': 66711185, 'role': ''}, {'type': 'way', 'ref': 66711188, 'role': ''}, {'type': 'way', 'ref': 32399363, 'role': ''}, {'type': 'way', 'ref': 53526379, 'role': ''}, {'type': 'way', 'ref': 37145240, 'role': ''}, {'type': 'way', 'ref': 841270074, 'role': ''}, {'type': 'way', 'ref': 32399133, 'role': ''}]}\n"
     ]
    }
   ],
   "source": [
    "# Example ID\n",
    "relation_id = 334313\n",
    "relation = download_relation(relation_id)\n",
    "print(relation)"
   ]
  },
  {
   "cell_type": "code",
   "execution_count": 4,
   "id": "bf6427ab-ef54-42f9-944a-cec108bc8a06",
   "metadata": {},
   "outputs": [],
   "source": [
    "# Function to extract descriptive route information from a relation\n",
    "def extract_route_info(relation):\n",
    "    tags = relation.get('tag', {})\n",
    "    route_info = {\n",
    "        'id': relation['id'],\n",
    "        'name': tags.get('name', 'Name not provided'),\n",
    "        'official_name': tags.get('official_name', 'Official name not provided'),\n",
    "        'route_type': tags.get('route', 'Unknown route type'),\n",
    "        'operator': tags.get('operator', 'Operator not provided'),\n",
    "        'symbol': tags.get('osmc:symbol', 'Symbol not provided'),\n",
    "        'ref': tags.get('ref', 'Reference not provided'),\n",
    "        'complete': tags.get('complete', 'Not specified'),\n",
    "        'educational': tags.get('educational', 'Not specified'),\n",
    "        'network': tags.get('network', 'Unknown network'),\n",
    "        'kct_yellow': tags.get('kct_yellow', 'Not specified'),\n",
    "        'note': tags.get('note', 'No note provided'),\n",
    "    }\n",
    "    return route_info"
   ]
  },
  {
   "cell_type": "code",
   "execution_count": 5,
   "id": "7a74ed9f-17ce-4d08-8475-176756b4d355",
   "metadata": {},
   "outputs": [
    {
     "name": "stdout",
     "output_type": "stream",
     "text": [
      "Descriptive information about the path:\n",
      "id: 334313\n",
      "name: Sigmondova okružní naučná stezka\n",
      "official_name: Sigmondova okružní NS\n",
      "route_type: hiking\n",
      "operator: cz:KČT\n",
      "symbol: yellow:white:yellow_bar\n",
      "ref: 6711\n",
      "complete: yes\n",
      "educational: yes\n",
      "network: lwn\n",
      "kct_yellow: major\n",
      "note: Značena žlutým pásovým značením\n"
     ]
    }
   ],
   "source": [
    "# Extract descriptive path information\n",
    "route_info = extract_route_info(relation)\n",
    "\n",
    "# Print descriptive path information\n",
    "print(\"Descriptive information about the path:\")\n",
    "for key, value in route_info.items():\n",
    "    print(f\"{key}: {value}\")"
   ]
  },
  {
   "cell_type": "markdown",
   "id": "bd400c93-f5e5-4822-b5a4-7a4e0cd9f07d",
   "metadata": {},
   "source": [
    "Function to save relation to geodataframe"
   ]
  },
  {
   "cell_type": "code",
   "execution_count": 6,
   "id": "0c4a24a6-b0a1-4df9-afcd-6451b0ccfbfb",
   "metadata": {},
   "outputs": [],
   "source": [
    "def relation_to_geodataframe(relation):\n",
    "    \n",
    "    members = relation.get('member', [])\n",
    "    data = []\n",
    "    \n",
    "    for member in members:\n",
    "        member_type = member.get('type')\n",
    "        ref = member.get('ref')\n",
    "        role = member.get('role', '')\n",
    "        \n",
    "        if member_type == 'way':\n",
    "            # Fetch geometry for \"way\" using the API\n",
    "            with osmapi.OsmApi() as api:\n",
    "                way = api.WayGet(ref)\n",
    "                nodes = way['nd']\n",
    "                coords = [(api.NodeGet(node_id)['lon'], api.NodeGet(node_id)['lat']) for node_id in nodes]\n",
    "                geometry = LineString(coords)\n",
    "                data.append({\n",
    "                    'type': member_type,\n",
    "                    'ref': ref,\n",
    "                    'role': role,\n",
    "                    'geometry': geometry\n",
    "                })\n",
    "\n",
    "    # Create GeoDataFrame\n",
    "    gdf = gpd.GeoDataFrame(data, geometry='geometry')\n",
    "    return gdf\n"
   ]
  },
  {
   "cell_type": "markdown",
   "id": "96632ff0-1cb4-4a7b-a9b2-b3d58274947e",
   "metadata": {},
   "source": [
    "Example of usage"
   ]
  },
  {
   "cell_type": "code",
   "execution_count": 7,
   "id": "2195aae2-1f1c-4152-9198-6646deac9b50",
   "metadata": {},
   "outputs": [
    {
     "data": {
      "text/html": [
       "<div>\n",
       "<style scoped>\n",
       "    .dataframe tbody tr th:only-of-type {\n",
       "        vertical-align: middle;\n",
       "    }\n",
       "\n",
       "    .dataframe tbody tr th {\n",
       "        vertical-align: top;\n",
       "    }\n",
       "\n",
       "    .dataframe thead th {\n",
       "        text-align: right;\n",
       "    }\n",
       "</style>\n",
       "<table border=\"1\" class=\"dataframe\">\n",
       "  <thead>\n",
       "    <tr style=\"text-align: right;\">\n",
       "      <th></th>\n",
       "      <th>type</th>\n",
       "      <th>ref</th>\n",
       "      <th>role</th>\n",
       "      <th>geometry</th>\n",
       "    </tr>\n",
       "  </thead>\n",
       "  <tbody>\n",
       "    <tr>\n",
       "      <th>0</th>\n",
       "      <td>way</td>\n",
       "      <td>841270075</td>\n",
       "      <td></td>\n",
       "      <td>LINESTRING (13.38333 49.78979, 13.38328 49.789...</td>\n",
       "    </tr>\n",
       "    <tr>\n",
       "      <th>1</th>\n",
       "      <td>way</td>\n",
       "      <td>1111089511</td>\n",
       "      <td></td>\n",
       "      <td>LINESTRING (13.38315 49.78947, 13.38278 49.789...</td>\n",
       "    </tr>\n",
       "    <tr>\n",
       "      <th>2</th>\n",
       "      <td>way</td>\n",
       "      <td>32399132</td>\n",
       "      <td></td>\n",
       "      <td>LINESTRING (13.38224 49.78926, 13.38162 49.789...</td>\n",
       "    </tr>\n",
       "    <tr>\n",
       "      <th>3</th>\n",
       "      <td>way</td>\n",
       "      <td>1111089513</td>\n",
       "      <td></td>\n",
       "      <td>LINESTRING (13.38120 49.78914, 13.38107 49.78914)</td>\n",
       "    </tr>\n",
       "    <tr>\n",
       "      <th>4</th>\n",
       "      <td>way</td>\n",
       "      <td>1111089512</td>\n",
       "      <td></td>\n",
       "      <td>LINESTRING (13.38107 49.78914, 13.38048 49.78912)</td>\n",
       "    </tr>\n",
       "  </tbody>\n",
       "</table>\n",
       "</div>"
      ],
      "text/plain": [
       "  type         ref role                                           geometry\n",
       "0  way   841270075       LINESTRING (13.38333 49.78979, 13.38328 49.789...\n",
       "1  way  1111089511       LINESTRING (13.38315 49.78947, 13.38278 49.789...\n",
       "2  way    32399132       LINESTRING (13.38224 49.78926, 13.38162 49.789...\n",
       "3  way  1111089513       LINESTRING (13.38120 49.78914, 13.38107 49.78914)\n",
       "4  way  1111089512       LINESTRING (13.38107 49.78914, 13.38048 49.78912)"
      ]
     },
     "metadata": {},
     "output_type": "display_data"
    }
   ],
   "source": [
    "# Example usage\n",
    "gdf = relation_to_geodataframe(relation)\n",
    "display(gdf.head())"
   ]
  },
  {
   "cell_type": "code",
   "execution_count": 8,
   "id": "1bbf0238-bf9b-4a1b-b7f6-45dd631a8b82",
   "metadata": {},
   "outputs": [],
   "source": [
    "# Function to determine the trail color from the \"osmc:symbol\" tag\n",
    "def get_trail_color(symbol):\n",
    "    # Examples of mapping the symbol to a color (you can add more symbols as needed)\n",
    "    if 'yellow' in symbol:\n",
    "        return 'yellow'\n",
    "    elif 'red' in symbol:\n",
    "        return 'red'\n",
    "    elif 'green' in symbol:\n",
    "        return 'green'\n",
    "    elif 'blue' in symbol:\n",
    "        return 'blue'\n",
    "    else:\n",
    "        return 'gray'  # Default color if no match\n"
   ]
  },
  {
   "cell_type": "code",
   "execution_count": 9,
   "id": "4aa90607-6d25-4c18-9b0a-717a88361ed7",
   "metadata": {},
   "outputs": [],
   "source": [
    "trail_symbol = route_info.get('symbol')\n",
    "\n",
    "trail_color = get_trail_color(trail_symbol)\n",
    "\n",
    "route_name = route_info.get('name', 'No name provided')"
   ]
  },
  {
   "cell_type": "code",
   "execution_count": 10,
   "id": "dc4e5946-ba15-4df3-9311-e9679ca22bcb",
   "metadata": {},
   "outputs": [
    {
     "data": {
      "text/html": [
       "<div style=\"width:100%;\"><div style=\"position:relative;width:100%;height:0;padding-bottom:60%;\"><span style=\"color:#565656\">Make this Notebook Trusted to load map: File -> Trust Notebook</span><iframe srcdoc=\"&lt;!DOCTYPE html&gt;\n",
       "&lt;html&gt;\n",
       "&lt;head&gt;\n",
       "    \n",
       "    &lt;meta http-equiv=&quot;content-type&quot; content=&quot;text/html; charset=UTF-8&quot; /&gt;\n",
       "    \n",
       "        &lt;script&gt;\n",
       "            L_NO_TOUCH = false;\n",
       "            L_DISABLE_3D = false;\n",
       "        &lt;/script&gt;\n",
       "    \n",
       "    &lt;style&gt;html, body {width: 100%;height: 100%;margin: 0;padding: 0;}&lt;/style&gt;\n",
       "    &lt;style&gt;#map {position:absolute;top:0;bottom:0;right:0;left:0;}&lt;/style&gt;\n",
       "    &lt;script src=&quot;https://cdn.jsdelivr.net/npm/leaflet@1.9.3/dist/leaflet.js&quot;&gt;&lt;/script&gt;\n",
       "    &lt;script src=&quot;https://code.jquery.com/jquery-3.7.1.min.js&quot;&gt;&lt;/script&gt;\n",
       "    &lt;script src=&quot;https://cdn.jsdelivr.net/npm/bootstrap@5.2.2/dist/js/bootstrap.bundle.min.js&quot;&gt;&lt;/script&gt;\n",
       "    &lt;script src=&quot;https://cdnjs.cloudflare.com/ajax/libs/Leaflet.awesome-markers/2.0.2/leaflet.awesome-markers.js&quot;&gt;&lt;/script&gt;\n",
       "    &lt;link rel=&quot;stylesheet&quot; href=&quot;https://cdn.jsdelivr.net/npm/leaflet@1.9.3/dist/leaflet.css&quot;/&gt;\n",
       "    &lt;link rel=&quot;stylesheet&quot; href=&quot;https://cdn.jsdelivr.net/npm/bootstrap@5.2.2/dist/css/bootstrap.min.css&quot;/&gt;\n",
       "    &lt;link rel=&quot;stylesheet&quot; href=&quot;https://netdna.bootstrapcdn.com/bootstrap/3.0.0/css/bootstrap-glyphicons.css&quot;/&gt;\n",
       "    &lt;link rel=&quot;stylesheet&quot; href=&quot;https://cdn.jsdelivr.net/npm/@fortawesome/fontawesome-free@6.2.0/css/all.min.css&quot;/&gt;\n",
       "    &lt;link rel=&quot;stylesheet&quot; href=&quot;https://cdnjs.cloudflare.com/ajax/libs/Leaflet.awesome-markers/2.0.2/leaflet.awesome-markers.css&quot;/&gt;\n",
       "    &lt;link rel=&quot;stylesheet&quot; href=&quot;https://cdn.jsdelivr.net/gh/python-visualization/folium/folium/templates/leaflet.awesome.rotate.min.css&quot;/&gt;\n",
       "    \n",
       "            &lt;meta name=&quot;viewport&quot; content=&quot;width=device-width,\n",
       "                initial-scale=1.0, maximum-scale=1.0, user-scalable=no&quot; /&gt;\n",
       "            &lt;style&gt;\n",
       "                #map_0add6b683a706b9b44ed063cc487bb46 {\n",
       "                    position: relative;\n",
       "                    width: 100.0%;\n",
       "                    height: 100.0%;\n",
       "                    left: 0.0%;\n",
       "                    top: 0.0%;\n",
       "                }\n",
       "                .leaflet-container { font-size: 1rem; }\n",
       "            &lt;/style&gt;\n",
       "        \n",
       "    \n",
       "                    &lt;style&gt;\n",
       "                        .foliumtooltip {\n",
       "                            \n",
       "                        }\n",
       "                       .foliumtooltip table{\n",
       "                            margin: auto;\n",
       "                        }\n",
       "                        .foliumtooltip tr{\n",
       "                            text-align: left;\n",
       "                        }\n",
       "                        .foliumtooltip th{\n",
       "                            padding: 2px; padding-right: 8px;\n",
       "                        }\n",
       "                    &lt;/style&gt;\n",
       "            \n",
       "&lt;/head&gt;\n",
       "&lt;body&gt;\n",
       "    \n",
       "    \n",
       "            &lt;div class=&quot;folium-map&quot; id=&quot;map_0add6b683a706b9b44ed063cc487bb46&quot; &gt;&lt;/div&gt;\n",
       "        \n",
       "&lt;/body&gt;\n",
       "&lt;script&gt;\n",
       "    \n",
       "    \n",
       "            var map_0add6b683a706b9b44ed063cc487bb46 = L.map(\n",
       "                &quot;map_0add6b683a706b9b44ed063cc487bb46&quot;,\n",
       "                {\n",
       "                    center: [49.792089649999994, 13.371019350000001],\n",
       "                    crs: L.CRS.EPSG3857,\n",
       "                    zoom: 14,\n",
       "                    zoomControl: true,\n",
       "                    preferCanvas: false,\n",
       "                }\n",
       "            );\n",
       "\n",
       "            \n",
       "\n",
       "        \n",
       "    \n",
       "            var tile_layer_10f6e8495cffd0fa29d722179a395998 = L.tileLayer(\n",
       "                &quot;https://tile.openstreetmap.org/{z}/{x}/{y}.png&quot;,\n",
       "                {&quot;attribution&quot;: &quot;\\u0026copy; \\u003ca href=\\&quot;https://www.openstreetmap.org/copyright\\&quot;\\u003eOpenStreetMap\\u003c/a\\u003e contributors&quot;, &quot;detectRetina&quot;: false, &quot;maxNativeZoom&quot;: 19, &quot;maxZoom&quot;: 19, &quot;minZoom&quot;: 0, &quot;noWrap&quot;: false, &quot;opacity&quot;: 1, &quot;subdomains&quot;: &quot;abc&quot;, &quot;tms&quot;: false}\n",
       "            );\n",
       "        \n",
       "    \n",
       "            tile_layer_10f6e8495cffd0fa29d722179a395998.addTo(map_0add6b683a706b9b44ed063cc487bb46);\n",
       "        \n",
       "    \n",
       "        function geo_json_16bb4ed09aecc394f8e7e93ec5b68fbb_styler(feature) {\n",
       "            switch(feature.id) {\n",
       "                default:\n",
       "                    return {&quot;color&quot;: &quot;yellow&quot;, &quot;fillColor&quot;: &quot;yellow&quot;, &quot;fillOpacity&quot;: 0.5, &quot;weight&quot;: 2};\n",
       "            }\n",
       "        }\n",
       "        function geo_json_16bb4ed09aecc394f8e7e93ec5b68fbb_highlighter(feature) {\n",
       "            switch(feature.id) {\n",
       "                default:\n",
       "                    return {&quot;fillOpacity&quot;: 0.75};\n",
       "            }\n",
       "        }\n",
       "        function geo_json_16bb4ed09aecc394f8e7e93ec5b68fbb_pointToLayer(feature, latlng) {\n",
       "            var opts = {&quot;bubblingMouseEvents&quot;: true, &quot;color&quot;: &quot;#3388ff&quot;, &quot;dashArray&quot;: null, &quot;dashOffset&quot;: null, &quot;fill&quot;: true, &quot;fillColor&quot;: &quot;#3388ff&quot;, &quot;fillOpacity&quot;: 0.2, &quot;fillRule&quot;: &quot;evenodd&quot;, &quot;lineCap&quot;: &quot;round&quot;, &quot;lineJoin&quot;: &quot;round&quot;, &quot;opacity&quot;: 1.0, &quot;radius&quot;: 2, &quot;stroke&quot;: true, &quot;weight&quot;: 3};\n",
       "            \n",
       "            let style = geo_json_16bb4ed09aecc394f8e7e93ec5b68fbb_styler(feature)\n",
       "            Object.assign(opts, style)\n",
       "            \n",
       "            return new L.CircleMarker(latlng, opts)\n",
       "        }\n",
       "\n",
       "        function geo_json_16bb4ed09aecc394f8e7e93ec5b68fbb_onEachFeature(feature, layer) {\n",
       "            layer.on({\n",
       "                mouseout: function(e) {\n",
       "                    if(typeof e.target.setStyle === &quot;function&quot;){\n",
       "                            geo_json_16bb4ed09aecc394f8e7e93ec5b68fbb.resetStyle(e.target);\n",
       "                    }\n",
       "                },\n",
       "                mouseover: function(e) {\n",
       "                    if(typeof e.target.setStyle === &quot;function&quot;){\n",
       "                        const highlightStyle = geo_json_16bb4ed09aecc394f8e7e93ec5b68fbb_highlighter(e.target.feature)\n",
       "                        e.target.setStyle(highlightStyle);\n",
       "                    }\n",
       "                },\n",
       "            });\n",
       "        };\n",
       "        var geo_json_16bb4ed09aecc394f8e7e93ec5b68fbb = L.geoJson(null, {\n",
       "                onEachFeature: geo_json_16bb4ed09aecc394f8e7e93ec5b68fbb_onEachFeature,\n",
       "            \n",
       "                style: geo_json_16bb4ed09aecc394f8e7e93ec5b68fbb_styler,\n",
       "                pointToLayer: geo_json_16bb4ed09aecc394f8e7e93ec5b68fbb_pointToLayer,\n",
       "        });\n",
       "\n",
       "        function geo_json_16bb4ed09aecc394f8e7e93ec5b68fbb_add (data) {\n",
       "            geo_json_16bb4ed09aecc394f8e7e93ec5b68fbb\n",
       "                .addData(data);\n",
       "        }\n",
       "            geo_json_16bb4ed09aecc394f8e7e93ec5b68fbb_add({&quot;bbox&quot;: [13.3585824, 49.7820695, 13.3834563, 49.8021098], &quot;features&quot;: [{&quot;bbox&quot;: [13.3831475, 49.7894657, 13.3833332, 49.789793], &quot;geometry&quot;: {&quot;coordinates&quot;: [[13.3833332, 49.789793], [13.3832762, 49.7897744], [13.3832242, 49.7897493], [13.3831947, 49.7897062], [13.3831783, 49.7895948], [13.3831475, 49.7894657]], &quot;type&quot;: &quot;LineString&quot;}, &quot;id&quot;: &quot;0&quot;, &quot;properties&quot;: {&quot;__folium_color&quot;: &quot;yellow&quot;, &quot;ref&quot;: 841270075, &quot;role&quot;: &quot;&quot;, &quot;type&quot;: &quot;way&quot;}, &quot;type&quot;: &quot;Feature&quot;}, {&quot;bbox&quot;: [13.3822433, 49.7892568, 13.3831475, 49.7894657], &quot;geometry&quot;: {&quot;coordinates&quot;: [[13.3831475, 49.7894657], [13.3827844, 49.7893594], [13.3822433, 49.7892568]], &quot;type&quot;: &quot;LineString&quot;}, &quot;id&quot;: &quot;1&quot;, &quot;properties&quot;: {&quot;__folium_color&quot;: &quot;yellow&quot;, &quot;ref&quot;: 1111089511, &quot;role&quot;: &quot;&quot;, &quot;type&quot;: &quot;way&quot;}, &quot;type&quot;: &quot;Feature&quot;}, {&quot;bbox&quot;: [13.3812049, 49.7891393, 13.3822433, 49.7892568], &quot;geometry&quot;: {&quot;coordinates&quot;: [[13.3822433, 49.7892568], [13.3816247, 49.7891516], [13.3812049, 49.7891393]], &quot;type&quot;: &quot;LineString&quot;}, &quot;id&quot;: &quot;2&quot;, &quot;properties&quot;: {&quot;__folium_color&quot;: &quot;yellow&quot;, &quot;ref&quot;: 32399132, &quot;role&quot;: &quot;&quot;, &quot;type&quot;: &quot;way&quot;}, &quot;type&quot;: &quot;Feature&quot;}, {&quot;bbox&quot;: [13.3810736, 49.7891354, 13.3812049, 49.7891393], &quot;geometry&quot;: {&quot;coordinates&quot;: [[13.3812049, 49.7891393], [13.3810736, 49.7891354]], &quot;type&quot;: &quot;LineString&quot;}, &quot;id&quot;: &quot;3&quot;, &quot;properties&quot;: {&quot;__folium_color&quot;: &quot;yellow&quot;, &quot;ref&quot;: 1111089513, &quot;role&quot;: &quot;&quot;, &quot;type&quot;: &quot;way&quot;}, &quot;type&quot;: &quot;Feature&quot;}, {&quot;bbox&quot;: [13.380479, 49.789118, 13.3810736, 49.7891354], &quot;geometry&quot;: {&quot;coordinates&quot;: [[13.3810736, 49.7891354], [13.380479, 49.789118]], &quot;type&quot;: &quot;LineString&quot;}, &quot;id&quot;: &quot;4&quot;, &quot;properties&quot;: {&quot;__folium_color&quot;: &quot;yellow&quot;, &quot;ref&quot;: 1111089512, &quot;role&quot;: &quot;&quot;, &quot;type&quot;: &quot;way&quot;}, &quot;type&quot;: &quot;Feature&quot;}, {&quot;bbox&quot;: [13.3799609, 49.7885814, 13.380479, 49.789118], &quot;geometry&quot;: {&quot;coordinates&quot;: [[13.3799609, 49.7885814], [13.380479, 49.789118]], &quot;type&quot;: &quot;LineString&quot;}, &quot;id&quot;: &quot;5&quot;, &quot;properties&quot;: {&quot;__folium_color&quot;: &quot;yellow&quot;, &quot;ref&quot;: 289230719, &quot;role&quot;: &quot;&quot;, &quot;type&quot;: &quot;way&quot;}, &quot;type&quot;: &quot;Feature&quot;}, {&quot;bbox&quot;: [13.3780067, 49.7863703, 13.3799609, 49.7885814], &quot;geometry&quot;: {&quot;coordinates&quot;: [[13.3780067, 49.7863703], [13.3782134, 49.7865443], [13.378572, 49.7868672], [13.3792519, 49.7874313], [13.3793796, 49.787576], [13.3795033, 49.7880342], [13.3795531, 49.7881274], [13.3799609, 49.7885814]], &quot;type&quot;: &quot;LineString&quot;}, &quot;id&quot;: &quot;6&quot;, &quot;properties&quot;: {&quot;__folium_color&quot;: &quot;yellow&quot;, &quot;ref&quot;: 32399134, &quot;role&quot;: &quot;&quot;, &quot;type&quot;: &quot;way&quot;}, &quot;type&quot;: &quot;Feature&quot;}, {&quot;bbox&quot;: [13.3780067, 49.7860289, 13.3782043, 49.7863703], &quot;geometry&quot;: {&quot;coordinates&quot;: [[13.3780067, 49.7863703], [13.3780993, 49.7862088], [13.3782043, 49.7860289]], &quot;type&quot;: &quot;LineString&quot;}, &quot;id&quot;: &quot;7&quot;, &quot;properties&quot;: {&quot;__folium_color&quot;: &quot;yellow&quot;, &quot;ref&quot;: 32399137, &quot;role&quot;: &quot;&quot;, &quot;type&quot;: &quot;way&quot;}, &quot;type&quot;: &quot;Feature&quot;}, {&quot;bbox&quot;: [13.3781681, 49.7852298, 13.3782541, 49.7860289], &quot;geometry&quot;: {&quot;coordinates&quot;: [[13.3782043, 49.7860289], [13.3781793, 49.7859257], [13.3781681, 49.7858154], [13.3781685, 49.7857659], [13.3781693, 49.7856704], [13.3782225, 49.7854272], [13.3782535, 49.7852347], [13.3782541, 49.7852298]], &quot;type&quot;: &quot;LineString&quot;}, &quot;id&quot;: &quot;8&quot;, &quot;properties&quot;: {&quot;__folium_color&quot;: &quot;yellow&quot;, &quot;ref&quot;: 32399138, &quot;role&quot;: &quot;&quot;, &quot;type&quot;: &quot;way&quot;}, &quot;type&quot;: &quot;Feature&quot;}, {&quot;bbox&quot;: [13.3782541, 49.7851782, 13.3782602, 49.7852298], &quot;geometry&quot;: {&quot;coordinates&quot;: [[13.3782541, 49.7852298], [13.3782602, 49.7851782]], &quot;type&quot;: &quot;LineString&quot;}, &quot;id&quot;: &quot;9&quot;, &quot;properties&quot;: {&quot;__folium_color&quot;: &quot;yellow&quot;, &quot;ref&quot;: 1040249818, &quot;role&quot;: &quot;&quot;, &quot;type&quot;: &quot;way&quot;}, &quot;type&quot;: &quot;Feature&quot;}, {&quot;bbox&quot;: [13.3781926, 49.7844887, 13.3782786, 49.7851782], &quot;geometry&quot;: {&quot;coordinates&quot;: [[13.3782602, 49.7851782], [13.3782786, 49.7850242], [13.3782783, 49.7847758], [13.3782121, 49.7845423], [13.3781926, 49.7844887]], &quot;type&quot;: &quot;LineString&quot;}, &quot;id&quot;: &quot;10&quot;, &quot;properties&quot;: {&quot;__folium_color&quot;: &quot;yellow&quot;, &quot;ref&quot;: 1040249817, &quot;role&quot;: &quot;&quot;, &quot;type&quot;: &quot;way&quot;}, &quot;type&quot;: &quot;Feature&quot;}, {&quot;bbox&quot;: [13.3781621, 49.7843822, 13.3781926, 49.7844887], &quot;geometry&quot;: {&quot;coordinates&quot;: [[13.3781926, 49.7844887], [13.3781621, 49.7843822]], &quot;type&quot;: &quot;LineString&quot;}, &quot;id&quot;: &quot;11&quot;, &quot;properties&quot;: {&quot;__folium_color&quot;: &quot;yellow&quot;, &quot;ref&quot;: 232660566, &quot;role&quot;: &quot;&quot;, &quot;type&quot;: &quot;way&quot;}, &quot;type&quot;: &quot;Feature&quot;}, {&quot;bbox&quot;: [13.3766033, 49.784127, 13.3781621, 49.7843845], &quot;geometry&quot;: {&quot;coordinates&quot;: [[13.3781621, 49.7843822], [13.3779178, 49.7843845], [13.3766033, 49.784127]], &quot;type&quot;: &quot;LineString&quot;}, &quot;id&quot;: &quot;12&quot;, &quot;properties&quot;: {&quot;__folium_color&quot;: &quot;yellow&quot;, &quot;ref&quot;: 53526357, &quot;role&quot;: &quot;&quot;, &quot;type&quot;: &quot;way&quot;}, &quot;type&quot;: &quot;Feature&quot;}, {&quot;bbox&quot;: [13.3765063, 49.78404, 13.3766033, 49.784127], &quot;geometry&quot;: {&quot;coordinates&quot;: [[13.3766033, 49.784127], [13.3765063, 49.78404]], &quot;type&quot;: &quot;LineString&quot;}, &quot;id&quot;: &quot;13&quot;, &quot;properties&quot;: {&quot;__folium_color&quot;: &quot;yellow&quot;, &quot;ref&quot;: 1109741050, &quot;role&quot;: &quot;&quot;, &quot;type&quot;: &quot;way&quot;}, &quot;type&quot;: &quot;Feature&quot;}, {&quot;bbox&quot;: [13.3761838, 49.7826248, 13.3765063, 49.78404], &quot;geometry&quot;: {&quot;coordinates&quot;: [[13.3765063, 49.78404], [13.3764924, 49.7838111], [13.3764665, 49.7833776], [13.3764618, 49.7832989], [13.376321, 49.7828574], [13.3761838, 49.7826248]], &quot;type&quot;: &quot;LineString&quot;}, &quot;id&quot;: &quot;14&quot;, &quot;properties&quot;: {&quot;__folium_color&quot;: &quot;yellow&quot;, &quot;ref&quot;: 32399139, &quot;role&quot;: &quot;&quot;, &quot;type&quot;: &quot;way&quot;}, &quot;type&quot;: &quot;Feature&quot;}, {&quot;bbox&quot;: [13.3748369, 49.7825678, 13.3761838, 49.7826248], &quot;geometry&quot;: {&quot;coordinates&quot;: [[13.3761838, 49.7826248], [13.3748369, 49.7825678]], &quot;type&quot;: &quot;LineString&quot;}, &quot;id&quot;: &quot;15&quot;, &quot;properties&quot;: {&quot;__folium_color&quot;: &quot;yellow&quot;, &quot;ref&quot;: 32399141, &quot;role&quot;: &quot;&quot;, &quot;type&quot;: &quot;way&quot;}, &quot;type&quot;: &quot;Feature&quot;}, {&quot;bbox&quot;: [13.3744072, 49.7825146, 13.3748369, 49.7825678], &quot;geometry&quot;: {&quot;coordinates&quot;: [[13.3744072, 49.7825166], [13.3745382, 49.7825146], [13.3748369, 49.7825678]], &quot;type&quot;: &quot;LineString&quot;}, &quot;id&quot;: &quot;16&quot;, &quot;properties&quot;: {&quot;__folium_color&quot;: &quot;yellow&quot;, &quot;ref&quot;: 1035095760, &quot;role&quot;: &quot;&quot;, &quot;type&quot;: &quot;way&quot;}, &quot;type&quot;: &quot;Feature&quot;}, {&quot;bbox&quot;: [13.3738243, 49.7823024, 13.3744072, 49.7825166], &quot;geometry&quot;: {&quot;coordinates&quot;: [[13.3738243, 49.7823024], [13.3739425, 49.782515], [13.3744072, 49.7825166]], &quot;type&quot;: &quot;LineString&quot;}, &quot;id&quot;: &quot;17&quot;, &quot;properties&quot;: {&quot;__folium_color&quot;: &quot;yellow&quot;, &quot;ref&quot;: 1035095759, &quot;role&quot;: &quot;&quot;, &quot;type&quot;: &quot;way&quot;}, &quot;type&quot;: &quot;Feature&quot;}, {&quot;bbox&quot;: [13.3730027, 49.7821537, 13.3738243, 49.7823024], &quot;geometry&quot;: {&quot;coordinates&quot;: [[13.3730027, 49.7822097], [13.3731127, 49.7822169], [13.3731257, 49.7821837], [13.3731491, 49.7821637], [13.373189, 49.7821537], [13.373252, 49.7821551], [13.3735133, 49.7821867], [13.3735454, 49.7821967], [13.3737477, 49.7822598], [13.3737899, 49.782279], [13.3738243, 49.7823024]], &quot;type&quot;: &quot;LineString&quot;}, &quot;id&quot;: &quot;18&quot;, &quot;properties&quot;: {&quot;__folium_color&quot;: &quot;yellow&quot;, &quot;ref&quot;: 53526348, &quot;role&quot;: &quot;&quot;, &quot;type&quot;: &quot;way&quot;}, &quot;type&quot;: &quot;Feature&quot;}, {&quot;bbox&quot;: [13.3721012, 49.7820695, 13.3730027, 49.7822097], &quot;geometry&quot;: {&quot;coordinates&quot;: [[13.3730027, 49.7822097], [13.3724578, 49.7821707], [13.3724134, 49.7821665], [13.3723316, 49.7821507], [13.3722102, 49.7821106], [13.3721198, 49.7820695], [13.3721012, 49.7820898]], &quot;type&quot;: &quot;LineString&quot;}, &quot;id&quot;: &quot;19&quot;, &quot;properties&quot;: {&quot;__folium_color&quot;: &quot;yellow&quot;, &quot;ref&quot;: 51341378, &quot;role&quot;: &quot;&quot;, &quot;type&quot;: &quot;way&quot;}, &quot;type&quot;: &quot;Feature&quot;}, {&quot;bbox&quot;: [13.3720228, 49.7820898, 13.3721012, 49.7821759], &quot;geometry&quot;: {&quot;coordinates&quot;: [[13.3721012, 49.7820898], [13.3720801, 49.7821129], [13.3720428, 49.7821539], [13.3720228, 49.7821759]], &quot;type&quot;: &quot;LineString&quot;}, &quot;id&quot;: &quot;20&quot;, &quot;properties&quot;: {&quot;__folium_color&quot;: &quot;yellow&quot;, &quot;ref&quot;: 1035104556, &quot;role&quot;: &quot;&quot;, &quot;type&quot;: &quot;way&quot;}, &quot;type&quot;: &quot;Feature&quot;}, {&quot;bbox&quot;: [13.3719604, 49.7821759, 13.3720228, 49.7822115], &quot;geometry&quot;: {&quot;coordinates&quot;: [[13.3720228, 49.7821759], [13.3719971, 49.782204], [13.3719604, 49.7822115]], &quot;type&quot;: &quot;LineString&quot;}, &quot;id&quot;: &quot;21&quot;, &quot;properties&quot;: {&quot;__folium_color&quot;: &quot;yellow&quot;, &quot;ref&quot;: 1035104557, &quot;role&quot;: &quot;&quot;, &quot;type&quot;: &quot;way&quot;}, &quot;type&quot;: &quot;Feature&quot;}, {&quot;bbox&quot;: [13.3718361, 49.7822115, 13.3719604, 49.7822371], &quot;geometry&quot;: {&quot;coordinates&quot;: [[13.3719604, 49.7822115], [13.3718938, 49.7822252], [13.3718361, 49.7822371]], &quot;type&quot;: &quot;LineString&quot;}, &quot;id&quot;: &quot;22&quot;, &quot;properties&quot;: {&quot;__folium_color&quot;: &quot;yellow&quot;, &quot;ref&quot;: 1035104558, &quot;role&quot;: &quot;&quot;, &quot;type&quot;: &quot;way&quot;}, &quot;type&quot;: &quot;Feature&quot;}, {&quot;bbox&quot;: [13.371784, 49.7822371, 13.3718361, 49.7822479], &quot;geometry&quot;: {&quot;coordinates&quot;: [[13.3718361, 49.7822371], [13.371784, 49.7822479]], &quot;type&quot;: &quot;LineString&quot;}, &quot;id&quot;: &quot;23&quot;, &quot;properties&quot;: {&quot;__folium_color&quot;: &quot;yellow&quot;, &quot;ref&quot;: 1035104559, &quot;role&quot;: &quot;&quot;, &quot;type&quot;: &quot;way&quot;}, &quot;type&quot;: &quot;Feature&quot;}, {&quot;bbox&quot;: [13.3717025, 49.7822479, 13.371784, 49.7822646], &quot;geometry&quot;: {&quot;coordinates&quot;: [[13.371784, 49.7822479], [13.3717547, 49.7822539], [13.3717025, 49.7822646]], &quot;type&quot;: &quot;LineString&quot;}, &quot;id&quot;: &quot;24&quot;, &quot;properties&quot;: {&quot;__folium_color&quot;: &quot;yellow&quot;, &quot;ref&quot;: 1035104560, &quot;role&quot;: &quot;&quot;, &quot;type&quot;: &quot;way&quot;}, &quot;type&quot;: &quot;Feature&quot;}, {&quot;bbox&quot;: [13.3716533, 49.7822646, 13.3717025, 49.7822747], &quot;geometry&quot;: {&quot;coordinates&quot;: [[13.3717025, 49.7822646], [13.3716533, 49.7822747]], &quot;type&quot;: &quot;LineString&quot;}, &quot;id&quot;: &quot;25&quot;, &quot;properties&quot;: {&quot;__folium_color&quot;: &quot;yellow&quot;, &quot;ref&quot;: 1035104561, &quot;role&quot;: &quot;&quot;, &quot;type&quot;: &quot;way&quot;}, &quot;type&quot;: &quot;Feature&quot;}, {&quot;bbox&quot;: [13.3716267, 49.7822747, 13.3716911, 49.7826949], &quot;geometry&quot;: {&quot;coordinates&quot;: [[13.3716533, 49.7822747], [13.3716851, 49.7823497], [13.3716911, 49.7824296], [13.3716643, 49.7825433], [13.3716267, 49.7826949]], &quot;type&quot;: &quot;LineString&quot;}, &quot;id&quot;: &quot;26&quot;, &quot;properties&quot;: {&quot;__folium_color&quot;: &quot;yellow&quot;, &quot;ref&quot;: 454289378, &quot;role&quot;: &quot;&quot;, &quot;type&quot;: &quot;way&quot;}, &quot;type&quot;: &quot;Feature&quot;}, {&quot;bbox&quot;: [13.3716267, 49.7826949, 13.3716972, 49.7829041], &quot;geometry&quot;: {&quot;coordinates&quot;: [[13.3716267, 49.7826949], [13.3716972, 49.7829041]], &quot;type&quot;: &quot;LineString&quot;}, &quot;id&quot;: &quot;27&quot;, &quot;properties&quot;: {&quot;__folium_color&quot;: &quot;yellow&quot;, &quot;ref&quot;: 484975973, &quot;role&quot;: &quot;&quot;, &quot;type&quot;: &quot;way&quot;}, &quot;type&quot;: &quot;Feature&quot;}, {&quot;bbox&quot;: [13.3716972, 49.7829041, 13.3717661, 49.7831162], &quot;geometry&quot;: {&quot;coordinates&quot;: [[13.3716972, 49.7829041], [13.3717661, 49.7831162]], &quot;type&quot;: &quot;LineString&quot;}, &quot;id&quot;: &quot;28&quot;, &quot;properties&quot;: {&quot;__folium_color&quot;: &quot;yellow&quot;, &quot;ref&quot;: 51341374, &quot;role&quot;: &quot;&quot;, &quot;type&quot;: &quot;way&quot;}, &quot;type&quot;: &quot;Feature&quot;}, {&quot;bbox&quot;: [13.3706831, 49.7831162, 13.3717661, 49.7836835], &quot;geometry&quot;: {&quot;coordinates&quot;: [[13.3717661, 49.7831162], [13.3715889, 49.7831858], [13.3711894, 49.7833443], [13.3710581, 49.7834033], [13.3708497, 49.7835138], [13.3707413, 49.7835949], [13.3706831, 49.7836835]], &quot;type&quot;: &quot;LineString&quot;}, &quot;id&quot;: &quot;29&quot;, &quot;properties&quot;: {&quot;__folium_color&quot;: &quot;yellow&quot;, &quot;ref&quot;: 51341372, &quot;role&quot;: &quot;&quot;, &quot;type&quot;: &quot;way&quot;}, &quot;type&quot;: &quot;Feature&quot;}, {&quot;bbox&quot;: [13.3695403, 49.7836835, 13.3706831, 49.7842592], &quot;geometry&quot;: {&quot;coordinates&quot;: [[13.3695403, 49.7842592], [13.3696981, 49.7841007], [13.3698944, 49.783974], [13.3700975, 49.7838888], [13.3702939, 49.7838103], [13.3705151, 49.7837182], [13.3706831, 49.7836835]], &quot;type&quot;: &quot;LineString&quot;}, &quot;id&quot;: &quot;30&quot;, &quot;properties&quot;: {&quot;__folium_color&quot;: &quot;yellow&quot;, &quot;ref&quot;: 262831687, &quot;role&quot;: &quot;&quot;, &quot;type&quot;: &quot;way&quot;}, &quot;type&quot;: &quot;Feature&quot;}, {&quot;bbox&quot;: [13.3689438, 49.7842592, 13.3695403, 49.7848401], &quot;geometry&quot;: {&quot;coordinates&quot;: [[13.3689438, 49.7848401], [13.3691946, 49.7845809], [13.3694536, 49.7843399], [13.3695403, 49.7842592]], &quot;type&quot;: &quot;LineString&quot;}, &quot;id&quot;: &quot;31&quot;, &quot;properties&quot;: {&quot;__folium_color&quot;: &quot;yellow&quot;, &quot;ref&quot;: 51341368, &quot;role&quot;: &quot;&quot;, &quot;type&quot;: &quot;way&quot;}, &quot;type&quot;: &quot;Feature&quot;}, {&quot;bbox&quot;: [13.368233, 49.7848401, 13.3689438, 49.7860547], &quot;geometry&quot;: {&quot;coordinates&quot;: [[13.3689438, 49.7848401], [13.3689128, 49.7849554], [13.3688985, 49.7849888], [13.3687806, 49.7851649], [13.3686953, 49.7853031], [13.368677, 49.7853364], [13.3686025, 49.7855042], [13.3685049, 49.7856754], [13.3683248, 49.7859299], [13.368233, 49.7860547]], &quot;type&quot;: &quot;LineString&quot;}, &quot;id&quot;: &quot;32&quot;, &quot;properties&quot;: {&quot;__folium_color&quot;: &quot;yellow&quot;, &quot;ref&quot;: 51341370, &quot;role&quot;: &quot;&quot;, &quot;type&quot;: &quot;way&quot;}, &quot;type&quot;: &quot;Feature&quot;}, {&quot;bbox&quot;: [13.368111, 49.7860547, 13.368233, 49.7863898], &quot;geometry&quot;: {&quot;coordinates&quot;: [[13.368233, 49.7860547], [13.3681554, 49.7862099], [13.368111, 49.7863433], [13.368112, 49.7863898]], &quot;type&quot;: &quot;LineString&quot;}, &quot;id&quot;: &quot;33&quot;, &quot;properties&quot;: {&quot;__folium_color&quot;: &quot;yellow&quot;, &quot;ref&quot;: 66567563, &quot;role&quot;: &quot;&quot;, &quot;type&quot;: &quot;way&quot;}, &quot;type&quot;: &quot;Feature&quot;}, {&quot;bbox&quot;: [13.3680975, 49.7863898, 13.368112, 49.7864927], &quot;geometry&quot;: {&quot;coordinates&quot;: [[13.368112, 49.7863898], [13.3680975, 49.7864927]], &quot;type&quot;: &quot;LineString&quot;}, &quot;id&quot;: &quot;34&quot;, &quot;properties&quot;: {&quot;__folium_color&quot;: &quot;yellow&quot;, &quot;ref&quot;: 66567582, &quot;role&quot;: &quot;&quot;, &quot;type&quot;: &quot;way&quot;}, &quot;type&quot;: &quot;Feature&quot;}, {&quot;bbox&quot;: [13.3674658, 49.7864927, 13.3680975, 49.7870305], &quot;geometry&quot;: {&quot;coordinates&quot;: [[13.3680975, 49.7864927], [13.3680593, 49.78661], [13.3680224, 49.786671], [13.3677027, 49.7868927], [13.3675628, 49.7869771], [13.3674658, 49.7870305]], &quot;type&quot;: &quot;LineString&quot;}, &quot;id&quot;: &quot;35&quot;, &quot;properties&quot;: {&quot;__folium_color&quot;: &quot;yellow&quot;, &quot;ref&quot;: 66567555, &quot;role&quot;: &quot;&quot;, &quot;type&quot;: &quot;way&quot;}, &quot;type&quot;: &quot;Feature&quot;}, {&quot;bbox&quot;: [13.3585824, 49.7870305, 13.3674658, 49.7921408], &quot;geometry&quot;: {&quot;coordinates&quot;: [[13.3674658, 49.7870305], [13.3666929, 49.7871981], [13.3662826, 49.7872587], [13.3659166, 49.7873005], [13.3656068, 49.7873138], [13.3652253, 49.7874046], [13.3648994, 49.7875049], [13.3646554, 49.7876242], [13.3644784, 49.7877727], [13.3643363, 49.7879242], [13.364208, 49.7880485], [13.3640528, 49.7881476], [13.3638774, 49.7882268], [13.3635467, 49.7883492], [13.3632093, 49.7884998], [13.3630258, 49.7885542], [13.3628682, 49.7885753], [13.3627589, 49.7885982], [13.3626023, 49.7887168], [13.3625313, 49.7888393], [13.3624244, 49.7889848], [13.3623518, 49.7891645], [13.362287, 49.7893462], [13.3622448, 49.7896143], [13.3620688, 49.7897778], [13.3617522, 49.7899732], [13.3613258, 49.7901223], [13.3610826, 49.7902532], [13.3607493, 49.7906544], [13.3604115, 49.7910062], [13.3600557, 49.7910818], [13.3598216, 49.7910934], [13.358994, 49.7916471], [13.3587778, 49.7918681], [13.3585824, 49.7921408]], &quot;type&quot;: &quot;LineString&quot;}, &quot;id&quot;: &quot;36&quot;, &quot;properties&quot;: {&quot;__folium_color&quot;: &quot;yellow&quot;, &quot;ref&quot;: 766463893, &quot;role&quot;: &quot;&quot;, &quot;type&quot;: &quot;way&quot;}, &quot;type&quot;: &quot;Feature&quot;}, {&quot;bbox&quot;: [13.3585824, 49.7921356, 13.3603942, 49.7922927], &quot;geometry&quot;: {&quot;coordinates&quot;: [[13.3585824, 49.7921408], [13.358758, 49.7921356], [13.3593498, 49.7921705], [13.3600225, 49.7922503], [13.3603942, 49.7922927]], &quot;type&quot;: &quot;LineString&quot;}, &quot;id&quot;: &quot;37&quot;, &quot;properties&quot;: {&quot;__folium_color&quot;: &quot;yellow&quot;, &quot;ref&quot;: 66567550, &quot;role&quot;: &quot;&quot;, &quot;type&quot;: &quot;way&quot;}, &quot;type&quot;: &quot;Feature&quot;}, {&quot;bbox&quot;: [13.3603942, 49.7919228, 13.3618807, 49.7922927], &quot;geometry&quot;: {&quot;coordinates&quot;: [[13.3603942, 49.7922927], [13.3607313, 49.7921578], [13.3611169, 49.7920345], [13.361506, 49.7919507], [13.3618807, 49.7919228]], &quot;type&quot;: &quot;LineString&quot;}, &quot;id&quot;: &quot;38&quot;, &quot;properties&quot;: {&quot;__folium_color&quot;: &quot;yellow&quot;, &quot;ref&quot;: 66567587, &quot;role&quot;: &quot;&quot;, &quot;type&quot;: &quot;way&quot;}, &quot;type&quot;: &quot;Feature&quot;}, {&quot;bbox&quot;: [13.3618807, 49.7919228, 13.3619728, 49.7922182], &quot;geometry&quot;: {&quot;coordinates&quot;: [[13.3618807, 49.7919228], [13.361913, 49.7920734], [13.3619728, 49.7922182]], &quot;type&quot;: &quot;LineString&quot;}, &quot;id&quot;: &quot;39&quot;, &quot;properties&quot;: {&quot;__folium_color&quot;: &quot;yellow&quot;, &quot;ref&quot;: 66567585, &quot;role&quot;: &quot;&quot;, &quot;type&quot;: &quot;way&quot;}, &quot;type&quot;: &quot;Feature&quot;}, {&quot;bbox&quot;: [13.3618256, 49.7922182, 13.3620102, 49.7929705], &quot;geometry&quot;: {&quot;coordinates&quot;: [[13.3619728, 49.7922182], [13.3620102, 49.7923761], [13.3619959, 49.7925277], [13.3619636, 49.7927212], [13.3618256, 49.7929705]], &quot;type&quot;: &quot;LineString&quot;}, &quot;id&quot;: &quot;40&quot;, &quot;properties&quot;: {&quot;__folium_color&quot;: &quot;yellow&quot;, &quot;ref&quot;: 66567572, &quot;role&quot;: &quot;&quot;, &quot;type&quot;: &quot;way&quot;}, &quot;type&quot;: &quot;Feature&quot;}, {&quot;bbox&quot;: [13.3618256, 49.7929705, 13.3628954, 49.7943239], &quot;geometry&quot;: {&quot;coordinates&quot;: [[13.3628954, 49.7943239], [13.3628015, 49.7942066], [13.3623225, 49.7936077], [13.3618256, 49.7929705]], &quot;type&quot;: &quot;LineString&quot;}, &quot;id&quot;: &quot;41&quot;, &quot;properties&quot;: {&quot;__folium_color&quot;: &quot;yellow&quot;, &quot;ref&quot;: 66711190, &quot;role&quot;: &quot;&quot;, &quot;type&quot;: &quot;way&quot;}, &quot;type&quot;: &quot;Feature&quot;}, {&quot;bbox&quot;: [13.3628954, 49.7942683, 13.3660052, 49.7946572], &quot;geometry&quot;: {&quot;coordinates&quot;: [[13.3660052, 49.7946572], [13.3654816, 49.7945627], [13.3648632, 49.79445], [13.3641136, 49.7944318], [13.3635507, 49.7942938], [13.3632242, 49.7942683], [13.3628954, 49.7943239]], &quot;type&quot;: &quot;LineString&quot;}, &quot;id&quot;: &quot;42&quot;, &quot;properties&quot;: {&quot;__folium_color&quot;: &quot;yellow&quot;, &quot;ref&quot;: 66711201, &quot;role&quot;: &quot;&quot;, &quot;type&quot;: &quot;way&quot;}, &quot;type&quot;: &quot;Feature&quot;}, {&quot;bbox&quot;: [13.3660052, 49.7942594, 13.3704856, 49.7982152], &quot;geometry&quot;: {&quot;coordinates&quot;: [[13.3704856, 49.7982152], [13.3701759, 49.7978582], [13.36988, 49.7974672], [13.3696757, 49.7972195], [13.3691352, 49.7965276], [13.368669, 49.7958571], [13.3683753, 49.7954348], [13.3679888, 49.7949322], [13.3674713, 49.7942594], [13.3672453, 49.7943457], [13.366692, 49.7944973], [13.3660052, 49.7946572]], &quot;type&quot;: &quot;LineString&quot;}, &quot;id&quot;: &quot;43&quot;, &quot;properties&quot;: {&quot;__folium_color&quot;: &quot;yellow&quot;, &quot;ref&quot;: 66711198, &quot;role&quot;: &quot;&quot;, &quot;type&quot;: &quot;way&quot;}, &quot;type&quot;: &quot;Feature&quot;}, {&quot;bbox&quot;: [13.3703863, 49.7982152, 13.3704856, 49.7984636], &quot;geometry&quot;: {&quot;coordinates&quot;: [[13.3704856, 49.7982152], [13.3703863, 49.7984636]], &quot;type&quot;: &quot;LineString&quot;}, &quot;id&quot;: &quot;44&quot;, &quot;properties&quot;: {&quot;__folium_color&quot;: &quot;yellow&quot;, &quot;ref&quot;: 66711191, &quot;role&quot;: &quot;&quot;, &quot;type&quot;: &quot;way&quot;}, &quot;type&quot;: &quot;Feature&quot;}, {&quot;bbox&quot;: [13.3703863, 49.7984636, 13.3711497, 49.7986038], &quot;geometry&quot;: {&quot;coordinates&quot;: [[13.3703863, 49.7984636], [13.3705755, 49.7984833], [13.3708176, 49.7984848], [13.3709929, 49.7985503], [13.3711497, 49.7986038]], &quot;type&quot;: &quot;LineString&quot;}, &quot;id&quot;: &quot;45&quot;, &quot;properties&quot;: {&quot;__folium_color&quot;: &quot;yellow&quot;, &quot;ref&quot;: 66711197, &quot;role&quot;: &quot;&quot;, &quot;type&quot;: &quot;way&quot;}, &quot;type&quot;: &quot;Feature&quot;}, {&quot;bbox&quot;: [13.3710187, 49.7986038, 13.3711497, 49.7991099], &quot;geometry&quot;: {&quot;coordinates&quot;: [[13.3711497, 49.7986038], [13.3710187, 49.7991099]], &quot;type&quot;: &quot;LineString&quot;}, &quot;id&quot;: &quot;46&quot;, &quot;properties&quot;: {&quot;__folium_color&quot;: &quot;yellow&quot;, &quot;ref&quot;: 66711196, &quot;role&quot;: &quot;&quot;, &quot;type&quot;: &quot;way&quot;}, &quot;type&quot;: &quot;Feature&quot;}, {&quot;bbox&quot;: [13.3710187, 49.7986641, 13.3743797, 49.7991099], &quot;geometry&quot;: {&quot;coordinates&quot;: [[13.3710187, 49.7991099], [13.3714178, 49.7990574], [13.3725183, 49.7989115], [13.3735816, 49.7987721], [13.3743797, 49.7986641]], &quot;type&quot;: &quot;LineString&quot;}, &quot;id&quot;: &quot;47&quot;, &quot;properties&quot;: {&quot;__folium_color&quot;: &quot;yellow&quot;, &quot;ref&quot;: 66711187, &quot;role&quot;: &quot;&quot;, &quot;type&quot;: &quot;way&quot;}, &quot;type&quot;: &quot;Feature&quot;}, {&quot;bbox&quot;: [13.3743797, 49.7986641, 13.3755458, 49.8021098], &quot;geometry&quot;: {&quot;coordinates&quot;: [[13.3743797, 49.7986641], [13.3751042, 49.800935], [13.3755458, 49.8021098]], &quot;type&quot;: &quot;LineString&quot;}, &quot;id&quot;: &quot;48&quot;, &quot;properties&quot;: {&quot;__folium_color&quot;: &quot;yellow&quot;, &quot;ref&quot;: 66711203, &quot;role&quot;: &quot;&quot;, &quot;type&quot;: &quot;way&quot;}, &quot;type&quot;: &quot;Feature&quot;}, {&quot;bbox&quot;: [13.3755458, 49.8017239, 13.3787682, 49.8021098], &quot;geometry&quot;: {&quot;coordinates&quot;: [[13.3787682, 49.8017239], [13.3755458, 49.8021098]], &quot;type&quot;: &quot;LineString&quot;}, &quot;id&quot;: &quot;49&quot;, &quot;properties&quot;: {&quot;__folium_color&quot;: &quot;yellow&quot;, &quot;ref&quot;: 210509162, &quot;role&quot;: &quot;&quot;, &quot;type&quot;: &quot;way&quot;}, &quot;type&quot;: &quot;Feature&quot;}, {&quot;bbox&quot;: [13.3787682, 49.8013842, 13.3812135, 49.8017239], &quot;geometry&quot;: {&quot;coordinates&quot;: [[13.3812135, 49.8013842], [13.3796834, 49.8015737], [13.3787682, 49.8017239]], &quot;type&quot;: &quot;LineString&quot;}, &quot;id&quot;: &quot;50&quot;, &quot;properties&quot;: {&quot;__folium_color&quot;: &quot;yellow&quot;, &quot;ref&quot;: 66711200, &quot;role&quot;: &quot;&quot;, &quot;type&quot;: &quot;way&quot;}, &quot;type&quot;: &quot;Feature&quot;}, {&quot;bbox&quot;: [13.3769632, 49.7952108, 13.3814353, 49.8013842], &quot;geometry&quot;: {&quot;coordinates&quot;: [[13.3812135, 49.8013842], [13.3813871, 49.8011681], [13.3814193, 49.8010151], [13.3814353, 49.8008426], [13.3813733, 49.8006572], [13.3812157, 49.8004211], [13.3811087, 49.8002212], [13.3810975, 49.7999777], [13.3811763, 49.7997488], [13.3813094, 49.799184], [13.3812889, 49.7988949], [13.3812213, 49.7987096], [13.3810525, 49.7985061], [13.3808779, 49.7983062], [13.3807991, 49.7981572], [13.3807541, 49.797961], [13.3807192, 49.7978389], [13.3806131, 49.7977022], [13.3803825, 49.7975613], [13.380056, 49.7974741], [13.3796394, 49.7973723], [13.3794536, 49.7972088], [13.379144, 49.7967873], [13.3788288, 49.7963403], [13.3787049, 49.7960641], [13.378536, 49.7957589], [13.3783671, 49.795628], [13.3780631, 49.7955336], [13.377579, 49.7954245], [13.3772207, 49.795333], [13.3770135, 49.7952862], [13.3769726, 49.7952453], [13.3769632, 49.7952108]], &quot;type&quot;: &quot;LineString&quot;}, &quot;id&quot;: &quot;51&quot;, &quot;properties&quot;: {&quot;__folium_color&quot;: &quot;yellow&quot;, &quot;ref&quot;: 66711185, &quot;role&quot;: &quot;&quot;, &quot;type&quot;: &quot;way&quot;}, &quot;type&quot;: &quot;Feature&quot;}, {&quot;bbox&quot;: [13.3769632, 49.7949613, 13.3773782, 49.7952108], &quot;geometry&quot;: {&quot;coordinates&quot;: [[13.3769632, 49.7952108], [13.3772487, 49.7950445], [13.3773782, 49.7949613]], &quot;type&quot;: &quot;LineString&quot;}, &quot;id&quot;: &quot;52&quot;, &quot;properties&quot;: {&quot;__folium_color&quot;: &quot;yellow&quot;, &quot;ref&quot;: 66711188, &quot;role&quot;: &quot;&quot;, &quot;type&quot;: &quot;way&quot;}, &quot;type&quot;: &quot;Feature&quot;}, {&quot;bbox&quot;: [13.3767922, 49.7926554, 13.3791918, 49.7949613], &quot;geometry&quot;: {&quot;coordinates&quot;: [[13.3773782, 49.7949613], [13.3774516, 49.7948549], [13.3775461, 49.7947177], [13.3775663, 49.7944482], [13.377508, 49.7941879], [13.3773262, 49.7940807], [13.3770434, 49.7940056], [13.3768342, 49.7938331], [13.3767922, 49.7936699], [13.3768807, 49.793473], [13.3776048, 49.7932218], [13.3782512, 49.7929673], [13.3788142, 49.7928362], [13.3791918, 49.7926554]], &quot;type&quot;: &quot;LineString&quot;}, &quot;id&quot;: &quot;53&quot;, &quot;properties&quot;: {&quot;__folium_color&quot;: &quot;yellow&quot;, &quot;ref&quot;: 32399363, &quot;role&quot;: &quot;&quot;, &quot;type&quot;: &quot;way&quot;}, &quot;type&quot;: &quot;Feature&quot;}, {&quot;bbox&quot;: [13.3791918, 49.7907306, 13.3832977, 49.7926554], &quot;geometry&quot;: {&quot;coordinates&quot;: [[13.3791918, 49.7926554], [13.3793671, 49.7924785], [13.3794297, 49.7922579], [13.3797128, 49.7920545], [13.3801926, 49.7920178], [13.3808754, 49.7919583], [13.3813787, 49.7918887], [13.3817782, 49.7917973], [13.38256, 49.7915211], [13.3829584, 49.7912068], [13.3832977, 49.7907306]], &quot;type&quot;: &quot;LineString&quot;}, &quot;id&quot;: &quot;54&quot;, &quot;properties&quot;: {&quot;__folium_color&quot;: &quot;yellow&quot;, &quot;ref&quot;: 53526379, &quot;role&quot;: &quot;&quot;, &quot;type&quot;: &quot;way&quot;}, &quot;type&quot;: &quot;Feature&quot;}, {&quot;bbox&quot;: [13.3832977, 49.7900623, 13.3833814, 49.7907306], &quot;geometry&quot;: {&quot;coordinates&quot;: [[13.3832977, 49.7907306], [13.3833419, 49.7902129], [13.3833814, 49.7900623]], &quot;type&quot;: &quot;LineString&quot;}, &quot;id&quot;: &quot;55&quot;, &quot;properties&quot;: {&quot;__folium_color&quot;: &quot;yellow&quot;, &quot;ref&quot;: 37145240, &quot;role&quot;: &quot;&quot;, &quot;type&quot;: &quot;way&quot;}, &quot;type&quot;: &quot;Feature&quot;}, {&quot;bbox&quot;: [13.3833814, 49.7898675, 13.3834563, 49.7900623], &quot;geometry&quot;: {&quot;coordinates&quot;: [[13.3833814, 49.7900623], [13.3834563, 49.7898675]], &quot;type&quot;: &quot;LineString&quot;}, &quot;id&quot;: &quot;56&quot;, &quot;properties&quot;: {&quot;__folium_color&quot;: &quot;yellow&quot;, &quot;ref&quot;: 841270074, &quot;role&quot;: &quot;&quot;, &quot;type&quot;: &quot;way&quot;}, &quot;type&quot;: &quot;Feature&quot;}, {&quot;bbox&quot;: [13.3833332, 49.789793, 13.3834563, 49.7898675], &quot;geometry&quot;: {&quot;coordinates&quot;: [[13.3834563, 49.7898675], [13.383392, 49.78984], [13.3833583, 49.7898214], [13.3833486, 49.7898138], [13.3833392, 49.7898069], [13.3833332, 49.789793]], &quot;type&quot;: &quot;LineString&quot;}, &quot;id&quot;: &quot;57&quot;, &quot;properties&quot;: {&quot;__folium_color&quot;: &quot;yellow&quot;, &quot;ref&quot;: 32399133, &quot;role&quot;: &quot;&quot;, &quot;type&quot;: &quot;way&quot;}, &quot;type&quot;: &quot;Feature&quot;}], &quot;type&quot;: &quot;FeatureCollection&quot;});\n",
       "\n",
       "        \n",
       "    \n",
       "    geo_json_16bb4ed09aecc394f8e7e93ec5b68fbb.bindTooltip(\n",
       "    function(layer){\n",
       "    let div = L.DomUtil.create(&#x27;div&#x27;);\n",
       "    \n",
       "    let handleObject = feature=&gt;typeof(feature)==&#x27;object&#x27; ? JSON.stringify(feature) : feature;\n",
       "    let fields = [&quot;type&quot;, &quot;ref&quot;, &quot;role&quot;];\n",
       "    let aliases = [&quot;type&quot;, &quot;ref&quot;, &quot;role&quot;];\n",
       "    let table = &#x27;&lt;table&gt;&#x27; +\n",
       "        String(\n",
       "        fields.map(\n",
       "        (v,i)=&gt;\n",
       "        `&lt;tr&gt;\n",
       "            &lt;th&gt;${aliases[i]}&lt;/th&gt;\n",
       "            \n",
       "            &lt;td&gt;${handleObject(layer.feature.properties[v])}&lt;/td&gt;\n",
       "        &lt;/tr&gt;`).join(&#x27;&#x27;))\n",
       "    +&#x27;&lt;/table&gt;&#x27;;\n",
       "    div.innerHTML=table;\n",
       "    \n",
       "    return div\n",
       "    }\n",
       "    ,{&quot;className&quot;: &quot;foliumtooltip&quot;, &quot;sticky&quot;: true});\n",
       "                     \n",
       "    \n",
       "            geo_json_16bb4ed09aecc394f8e7e93ec5b68fbb.addTo(map_0add6b683a706b9b44ed063cc487bb46);\n",
       "        \n",
       "&lt;/script&gt;\n",
       "&lt;/html&gt;\" style=\"position:absolute;width:100%;height:100%;left:0;top:0;border:none !important;\" allowfullscreen webkitallowfullscreen mozallowfullscreen></iframe></div></div>"
      ],
      "text/plain": [
       "<folium.folium.Map at 0x2967f83c070>"
      ]
     },
     "metadata": {},
     "output_type": "display_data"
    }
   ],
   "source": [
    "# Getting the bounds of the GeoDataFrame (bounding box)\n",
    "bbox = gdf.total_bounds  # Returns [minx, miny, maxx, maxy]\n",
    "\n",
    "# Calculate width and height from the bounding box\n",
    "minx, miny, maxx, maxy = bbox\n",
    "\n",
    "center = [(miny + maxy) / 2, (minx + maxx) / 2]\n",
    "\n",
    "m = folium.Map(location=center, zoom_start=14)\n",
    "\n",
    "gdf.explore(m=m, tiles=\"carto positron\", color=trail_color)\n",
    "\n",
    "display(m)"
   ]
  },
  {
   "cell_type": "code",
   "execution_count": 11,
   "id": "467d040c-f3f0-44b5-b09f-1c878defc82b",
   "metadata": {},
   "outputs": [
    {
     "ename": "UnicodeDecodeError",
     "evalue": "'utf-8' codec can't decode byte 0xe1 in position 106: invalid continuation byte",
     "output_type": "error",
     "traceback": [
      "\u001b[1;31m---------------------------------------------------------------------------\u001b[0m",
      "\u001b[1;31mUnicodeDecodeError\u001b[0m                        Traceback (most recent call last)",
      "\u001b[1;31mUnicodeDecodeError\u001b[0m: 'utf-8' codec can't decode byte 0xe1 in position 106: invalid continuation byte"
     ]
    },
    {
     "name": "stderr",
     "output_type": "stream",
     "text": [
      "Exception ignored in: 'rasterio._env.log_error'\n",
      "Traceback (most recent call last):\n",
      "  File \"C:\\Users\\kovar\\AppData\\Roaming\\Python\\Python39\\site-packages\\rasterio\\env.py\", line 338, in defenv\n",
      "    local._env.start()\n",
      "UnicodeDecodeError: 'utf-8' codec can't decode byte 0xe1 in position 106: invalid continuation byte\n"
     ]
    },
    {
     "ename": "UnicodeDecodeError",
     "evalue": "'utf-8' codec can't decode byte 0xe1 in position 106: invalid continuation byte",
     "output_type": "error",
     "traceback": [
      "\u001b[1;31m---------------------------------------------------------------------------\u001b[0m",
      "\u001b[1;31mUnicodeDecodeError\u001b[0m                        Traceback (most recent call last)",
      "\u001b[1;31mUnicodeDecodeError\u001b[0m: 'utf-8' codec can't decode byte 0xe1 in position 106: invalid continuation byte"
     ]
    },
    {
     "name": "stderr",
     "output_type": "stream",
     "text": [
      "Exception ignored in: 'rasterio._env.log_error'\n",
      "Traceback (most recent call last):\n",
      "  File \"C:\\Users\\kovar\\AppData\\Roaming\\Python\\Python39\\site-packages\\rasterio\\env.py\", line 338, in defenv\n",
      "    local._env.start()\n",
      "UnicodeDecodeError: 'utf-8' codec can't decode byte 0xe1 in position 106: invalid continuation byte\n"
     ]
    },
    {
     "ename": "UnicodeDecodeError",
     "evalue": "'utf-8' codec can't decode byte 0xe1 in position 100: invalid continuation byte",
     "output_type": "error",
     "traceback": [
      "\u001b[1;31m---------------------------------------------------------------------------\u001b[0m",
      "\u001b[1;31mUnicodeDecodeError\u001b[0m                        Traceback (most recent call last)",
      "\u001b[1;31mUnicodeDecodeError\u001b[0m: 'utf-8' codec can't decode byte 0xe1 in position 100: invalid continuation byte"
     ]
    },
    {
     "name": "stderr",
     "output_type": "stream",
     "text": [
      "Exception ignored in: 'rasterio._env.log_error'\n",
      "Traceback (most recent call last):\n",
      "  File \"C:\\Users\\kovar\\AppData\\Roaming\\Python\\Python39\\site-packages\\rasterio\\env.py\", line 338, in defenv\n",
      "    local._env.start()\n",
      "UnicodeDecodeError: 'utf-8' codec can't decode byte 0xe1 in position 100: invalid continuation byte\n"
     ]
    },
    {
     "ename": "UnicodeDecodeError",
     "evalue": "'utf-8' codec can't decode byte 0xe1 in position 100: invalid continuation byte",
     "output_type": "error",
     "traceback": [
      "\u001b[1;31m---------------------------------------------------------------------------\u001b[0m",
      "\u001b[1;31mUnicodeDecodeError\u001b[0m                        Traceback (most recent call last)",
      "\u001b[1;31mUnicodeDecodeError\u001b[0m: 'utf-8' codec can't decode byte 0xe1 in position 100: invalid continuation byte"
     ]
    },
    {
     "name": "stderr",
     "output_type": "stream",
     "text": [
      "Exception ignored in: 'rasterio._env.log_error'\n",
      "Traceback (most recent call last):\n",
      "  File \"C:\\Users\\kovar\\AppData\\Roaming\\Python\\Python39\\site-packages\\rasterio\\env.py\", line 338, in defenv\n",
      "    local._env.start()\n",
      "UnicodeDecodeError: 'utf-8' codec can't decode byte 0xe1 in position 100: invalid continuation byte\n"
     ]
    },
    {
     "ename": "UnicodeDecodeError",
     "evalue": "'utf-8' codec can't decode byte 0xe1 in position 100: invalid continuation byte",
     "output_type": "error",
     "traceback": [
      "\u001b[1;31m---------------------------------------------------------------------------\u001b[0m",
      "\u001b[1;31mUnicodeDecodeError\u001b[0m                        Traceback (most recent call last)",
      "\u001b[1;31mUnicodeDecodeError\u001b[0m: 'utf-8' codec can't decode byte 0xe1 in position 100: invalid continuation byte"
     ]
    },
    {
     "name": "stderr",
     "output_type": "stream",
     "text": [
      "Exception ignored in: 'rasterio._env.log_error'\n",
      "Traceback (most recent call last):\n",
      "  File \"C:\\Users\\kovar\\AppData\\Roaming\\Python\\Python39\\site-packages\\rasterio\\env.py\", line 338, in defenv\n",
      "    local._env.start()\n",
      "UnicodeDecodeError: 'utf-8' codec can't decode byte 0xe1 in position 100: invalid continuation byte\n"
     ]
    },
    {
     "ename": "UnicodeDecodeError",
     "evalue": "'utf-8' codec can't decode byte 0xe1 in position 100: invalid continuation byte",
     "output_type": "error",
     "traceback": [
      "\u001b[1;31m---------------------------------------------------------------------------\u001b[0m",
      "\u001b[1;31mUnicodeDecodeError\u001b[0m                        Traceback (most recent call last)",
      "\u001b[1;31mUnicodeDecodeError\u001b[0m: 'utf-8' codec can't decode byte 0xe1 in position 100: invalid continuation byte"
     ]
    },
    {
     "name": "stderr",
     "output_type": "stream",
     "text": [
      "Exception ignored in: 'rasterio._env.log_error'\n",
      "Traceback (most recent call last):\n",
      "  File \"C:\\Users\\kovar\\AppData\\Roaming\\Python\\Python39\\site-packages\\rasterio\\env.py\", line 338, in defenv\n",
      "    local._env.start()\n",
      "UnicodeDecodeError: 'utf-8' codec can't decode byte 0xe1 in position 100: invalid continuation byte\n"
     ]
    },
    {
     "ename": "UnicodeDecodeError",
     "evalue": "'utf-8' codec can't decode byte 0xe1 in position 101: invalid continuation byte",
     "output_type": "error",
     "traceback": [
      "\u001b[1;31m---------------------------------------------------------------------------\u001b[0m",
      "\u001b[1;31mUnicodeDecodeError\u001b[0m                        Traceback (most recent call last)",
      "\u001b[1;31mUnicodeDecodeError\u001b[0m: 'utf-8' codec can't decode byte 0xe1 in position 101: invalid continuation byte"
     ]
    },
    {
     "name": "stderr",
     "output_type": "stream",
     "text": [
      "Exception ignored in: 'rasterio._env.log_error'\n",
      "Traceback (most recent call last):\n",
      "  File \"C:\\Users\\kovar\\AppData\\Roaming\\Python\\Python39\\site-packages\\rasterio\\env.py\", line 338, in defenv\n",
      "    local._env.start()\n",
      "UnicodeDecodeError: 'utf-8' codec can't decode byte 0xe1 in position 101: invalid continuation byte\n"
     ]
    },
    {
     "ename": "UnicodeDecodeError",
     "evalue": "'utf-8' codec can't decode byte 0xe1 in position 101: invalid continuation byte",
     "output_type": "error",
     "traceback": [
      "\u001b[1;31m---------------------------------------------------------------------------\u001b[0m",
      "\u001b[1;31mUnicodeDecodeError\u001b[0m                        Traceback (most recent call last)",
      "\u001b[1;31mUnicodeDecodeError\u001b[0m: 'utf-8' codec can't decode byte 0xe1 in position 101: invalid continuation byte"
     ]
    },
    {
     "name": "stderr",
     "output_type": "stream",
     "text": [
      "Exception ignored in: 'rasterio._env.log_error'\n",
      "Traceback (most recent call last):\n",
      "  File \"C:\\Users\\kovar\\AppData\\Roaming\\Python\\Python39\\site-packages\\rasterio\\env.py\", line 338, in defenv\n",
      "    local._env.start()\n",
      "UnicodeDecodeError: 'utf-8' codec can't decode byte 0xe1 in position 101: invalid continuation byte\n"
     ]
    },
    {
     "ename": "UnicodeDecodeError",
     "evalue": "'utf-8' codec can't decode byte 0xe1 in position 107: invalid continuation byte",
     "output_type": "error",
     "traceback": [
      "\u001b[1;31m---------------------------------------------------------------------------\u001b[0m",
      "\u001b[1;31mUnicodeDecodeError\u001b[0m                        Traceback (most recent call last)",
      "\u001b[1;31mUnicodeDecodeError\u001b[0m: 'utf-8' codec can't decode byte 0xe1 in position 107: invalid continuation byte"
     ]
    },
    {
     "name": "stderr",
     "output_type": "stream",
     "text": [
      "Exception ignored in: 'rasterio._env.log_error'\n",
      "Traceback (most recent call last):\n",
      "  File \"C:\\Users\\kovar\\AppData\\Roaming\\Python\\Python39\\site-packages\\rasterio\\env.py\", line 338, in defenv\n",
      "    local._env.start()\n",
      "UnicodeDecodeError: 'utf-8' codec can't decode byte 0xe1 in position 107: invalid continuation byte\n"
     ]
    },
    {
     "ename": "UnicodeDecodeError",
     "evalue": "'utf-8' codec can't decode byte 0xe1 in position 107: invalid continuation byte",
     "output_type": "error",
     "traceback": [
      "\u001b[1;31m---------------------------------------------------------------------------\u001b[0m",
      "\u001b[1;31mUnicodeDecodeError\u001b[0m                        Traceback (most recent call last)",
      "\u001b[1;31mUnicodeDecodeError\u001b[0m: 'utf-8' codec can't decode byte 0xe1 in position 107: invalid continuation byte"
     ]
    },
    {
     "name": "stderr",
     "output_type": "stream",
     "text": [
      "Exception ignored in: 'rasterio._env.log_error'\n",
      "Traceback (most recent call last):\n",
      "  File \"C:\\Users\\kovar\\AppData\\Roaming\\Python\\Python39\\site-packages\\rasterio\\env.py\", line 338, in defenv\n",
      "    local._env.start()\n",
      "UnicodeDecodeError: 'utf-8' codec can't decode byte 0xe1 in position 107: invalid continuation byte\n"
     ]
    },
    {
     "ename": "UnicodeDecodeError",
     "evalue": "'utf-8' codec can't decode byte 0xe1 in position 98: invalid continuation byte",
     "output_type": "error",
     "traceback": [
      "\u001b[1;31m---------------------------------------------------------------------------\u001b[0m",
      "\u001b[1;31mUnicodeDecodeError\u001b[0m                        Traceback (most recent call last)",
      "\u001b[1;31mUnicodeDecodeError\u001b[0m: 'utf-8' codec can't decode byte 0xe1 in position 98: invalid continuation byte"
     ]
    },
    {
     "name": "stderr",
     "output_type": "stream",
     "text": [
      "Exception ignored in: 'rasterio._env.log_error'\n",
      "Traceback (most recent call last):\n",
      "  File \"C:\\Users\\kovar\\AppData\\Roaming\\Python\\Python39\\site-packages\\rasterio\\env.py\", line 338, in defenv\n",
      "    local._env.start()\n",
      "UnicodeDecodeError: 'utf-8' codec can't decode byte 0xe1 in position 98: invalid continuation byte\n"
     ]
    },
    {
     "ename": "UnicodeDecodeError",
     "evalue": "'utf-8' codec can't decode byte 0xe1 in position 98: invalid continuation byte",
     "output_type": "error",
     "traceback": [
      "\u001b[1;31m---------------------------------------------------------------------------\u001b[0m",
      "\u001b[1;31mUnicodeDecodeError\u001b[0m                        Traceback (most recent call last)",
      "\u001b[1;31mUnicodeDecodeError\u001b[0m: 'utf-8' codec can't decode byte 0xe1 in position 98: invalid continuation byte"
     ]
    },
    {
     "name": "stderr",
     "output_type": "stream",
     "text": [
      "Exception ignored in: 'rasterio._env.log_error'\n",
      "Traceback (most recent call last):\n",
      "  File \"C:\\Users\\kovar\\AppData\\Roaming\\Python\\Python39\\site-packages\\rasterio\\env.py\", line 338, in defenv\n",
      "    local._env.start()\n",
      "UnicodeDecodeError: 'utf-8' codec can't decode byte 0xe1 in position 98: invalid continuation byte\n"
     ]
    },
    {
     "ename": "UnicodeDecodeError",
     "evalue": "'utf-8' codec can't decode byte 0xe1 in position 99: invalid continuation byte",
     "output_type": "error",
     "traceback": [
      "\u001b[1;31m---------------------------------------------------------------------------\u001b[0m",
      "\u001b[1;31mUnicodeDecodeError\u001b[0m                        Traceback (most recent call last)",
      "\u001b[1;31mUnicodeDecodeError\u001b[0m: 'utf-8' codec can't decode byte 0xe1 in position 99: invalid continuation byte"
     ]
    },
    {
     "name": "stderr",
     "output_type": "stream",
     "text": [
      "Exception ignored in: 'rasterio._env.log_error'\n",
      "Traceback (most recent call last):\n",
      "  File \"C:\\Users\\kovar\\AppData\\Roaming\\Python\\Python39\\site-packages\\rasterio\\env.py\", line 338, in defenv\n",
      "    local._env.start()\n",
      "UnicodeDecodeError: 'utf-8' codec can't decode byte 0xe1 in position 99: invalid continuation byte\n"
     ]
    },
    {
     "ename": "UnicodeDecodeError",
     "evalue": "'utf-8' codec can't decode byte 0xe1 in position 99: invalid continuation byte",
     "output_type": "error",
     "traceback": [
      "\u001b[1;31m---------------------------------------------------------------------------\u001b[0m",
      "\u001b[1;31mUnicodeDecodeError\u001b[0m                        Traceback (most recent call last)",
      "\u001b[1;31mUnicodeDecodeError\u001b[0m: 'utf-8' codec can't decode byte 0xe1 in position 99: invalid continuation byte"
     ]
    },
    {
     "name": "stderr",
     "output_type": "stream",
     "text": [
      "Exception ignored in: 'rasterio._env.log_error'\n",
      "Traceback (most recent call last):\n",
      "  File \"C:\\Users\\kovar\\AppData\\Roaming\\Python\\Python39\\site-packages\\rasterio\\env.py\", line 338, in defenv\n",
      "    local._env.start()\n",
      "UnicodeDecodeError: 'utf-8' codec can't decode byte 0xe1 in position 99: invalid continuation byte\n"
     ]
    },
    {
     "ename": "UnicodeDecodeError",
     "evalue": "'utf-8' codec can't decode byte 0xe1 in position 106: invalid continuation byte",
     "output_type": "error",
     "traceback": [
      "\u001b[1;31m---------------------------------------------------------------------------\u001b[0m",
      "\u001b[1;31mUnicodeDecodeError\u001b[0m                        Traceback (most recent call last)",
      "\u001b[1;31mUnicodeDecodeError\u001b[0m: 'utf-8' codec can't decode byte 0xe1 in position 106: invalid continuation byte"
     ]
    },
    {
     "name": "stderr",
     "output_type": "stream",
     "text": [
      "Exception ignored in: 'rasterio._env.log_error'\n",
      "Traceback (most recent call last):\n",
      "  File \"C:\\Users\\kovar\\AppData\\Roaming\\Python\\Python39\\site-packages\\rasterio\\env.py\", line 338, in defenv\n",
      "    local._env.start()\n",
      "UnicodeDecodeError: 'utf-8' codec can't decode byte 0xe1 in position 106: invalid continuation byte\n"
     ]
    },
    {
     "ename": "UnicodeDecodeError",
     "evalue": "'utf-8' codec can't decode byte 0xe1 in position 106: invalid continuation byte",
     "output_type": "error",
     "traceback": [
      "\u001b[1;31m---------------------------------------------------------------------------\u001b[0m",
      "\u001b[1;31mUnicodeDecodeError\u001b[0m                        Traceback (most recent call last)",
      "\u001b[1;31mUnicodeDecodeError\u001b[0m: 'utf-8' codec can't decode byte 0xe1 in position 106: invalid continuation byte"
     ]
    },
    {
     "name": "stderr",
     "output_type": "stream",
     "text": [
      "Exception ignored in: 'rasterio._env.log_error'\n",
      "Traceback (most recent call last):\n",
      "  File \"C:\\Users\\kovar\\AppData\\Roaming\\Python\\Python39\\site-packages\\rasterio\\env.py\", line 338, in defenv\n",
      "    local._env.start()\n",
      "UnicodeDecodeError: 'utf-8' codec can't decode byte 0xe1 in position 106: invalid continuation byte\n"
     ]
    },
    {
     "ename": "UnicodeDecodeError",
     "evalue": "'utf-8' codec can't decode byte 0xe1 in position 100: invalid continuation byte",
     "output_type": "error",
     "traceback": [
      "\u001b[1;31m---------------------------------------------------------------------------\u001b[0m",
      "\u001b[1;31mUnicodeDecodeError\u001b[0m                        Traceback (most recent call last)",
      "\u001b[1;31mUnicodeDecodeError\u001b[0m: 'utf-8' codec can't decode byte 0xe1 in position 100: invalid continuation byte"
     ]
    },
    {
     "name": "stderr",
     "output_type": "stream",
     "text": [
      "Exception ignored in: 'rasterio._env.log_error'\n",
      "Traceback (most recent call last):\n",
      "  File \"C:\\Users\\kovar\\AppData\\Roaming\\Python\\Python39\\site-packages\\rasterio\\env.py\", line 338, in defenv\n",
      "    local._env.start()\n",
      "UnicodeDecodeError: 'utf-8' codec can't decode byte 0xe1 in position 100: invalid continuation byte\n"
     ]
    },
    {
     "ename": "UnicodeDecodeError",
     "evalue": "'utf-8' codec can't decode byte 0xe1 in position 100: invalid continuation byte",
     "output_type": "error",
     "traceback": [
      "\u001b[1;31m---------------------------------------------------------------------------\u001b[0m",
      "\u001b[1;31mUnicodeDecodeError\u001b[0m                        Traceback (most recent call last)",
      "\u001b[1;31mUnicodeDecodeError\u001b[0m: 'utf-8' codec can't decode byte 0xe1 in position 100: invalid continuation byte"
     ]
    },
    {
     "name": "stderr",
     "output_type": "stream",
     "text": [
      "Exception ignored in: 'rasterio._env.log_error'\n",
      "Traceback (most recent call last):\n",
      "  File \"C:\\Users\\kovar\\AppData\\Roaming\\Python\\Python39\\site-packages\\rasterio\\env.py\", line 338, in defenv\n",
      "    local._env.start()\n",
      "UnicodeDecodeError: 'utf-8' codec can't decode byte 0xe1 in position 100: invalid continuation byte\n"
     ]
    },
    {
     "ename": "UnicodeDecodeError",
     "evalue": "'utf-8' codec can't decode byte 0xe1 in position 100: invalid continuation byte",
     "output_type": "error",
     "traceback": [
      "\u001b[1;31m---------------------------------------------------------------------------\u001b[0m",
      "\u001b[1;31mUnicodeDecodeError\u001b[0m                        Traceback (most recent call last)",
      "\u001b[1;31mUnicodeDecodeError\u001b[0m: 'utf-8' codec can't decode byte 0xe1 in position 100: invalid continuation byte"
     ]
    },
    {
     "name": "stderr",
     "output_type": "stream",
     "text": [
      "Exception ignored in: 'rasterio._env.log_error'\n",
      "Traceback (most recent call last):\n",
      "  File \"C:\\Users\\kovar\\AppData\\Roaming\\Python\\Python39\\site-packages\\rasterio\\env.py\", line 338, in defenv\n",
      "    local._env.start()\n",
      "UnicodeDecodeError: 'utf-8' codec can't decode byte 0xe1 in position 100: invalid continuation byte\n"
     ]
    },
    {
     "ename": "UnicodeDecodeError",
     "evalue": "'utf-8' codec can't decode byte 0xe1 in position 100: invalid continuation byte",
     "output_type": "error",
     "traceback": [
      "\u001b[1;31m---------------------------------------------------------------------------\u001b[0m",
      "\u001b[1;31mUnicodeDecodeError\u001b[0m                        Traceback (most recent call last)",
      "\u001b[1;31mUnicodeDecodeError\u001b[0m: 'utf-8' codec can't decode byte 0xe1 in position 100: invalid continuation byte"
     ]
    },
    {
     "name": "stderr",
     "output_type": "stream",
     "text": [
      "Exception ignored in: 'rasterio._env.log_error'\n",
      "Traceback (most recent call last):\n",
      "  File \"C:\\Users\\kovar\\AppData\\Roaming\\Python\\Python39\\site-packages\\rasterio\\env.py\", line 338, in defenv\n",
      "    local._env.start()\n",
      "UnicodeDecodeError: 'utf-8' codec can't decode byte 0xe1 in position 100: invalid continuation byte\n"
     ]
    },
    {
     "ename": "UnicodeDecodeError",
     "evalue": "'utf-8' codec can't decode byte 0xe1 in position 101: invalid continuation byte",
     "output_type": "error",
     "traceback": [
      "\u001b[1;31m---------------------------------------------------------------------------\u001b[0m",
      "\u001b[1;31mUnicodeDecodeError\u001b[0m                        Traceback (most recent call last)",
      "\u001b[1;31mUnicodeDecodeError\u001b[0m: 'utf-8' codec can't decode byte 0xe1 in position 101: invalid continuation byte"
     ]
    },
    {
     "name": "stderr",
     "output_type": "stream",
     "text": [
      "Exception ignored in: 'rasterio._env.log_error'\n",
      "Traceback (most recent call last):\n",
      "  File \"C:\\Users\\kovar\\AppData\\Roaming\\Python\\Python39\\site-packages\\rasterio\\env.py\", line 338, in defenv\n",
      "    local._env.start()\n",
      "UnicodeDecodeError: 'utf-8' codec can't decode byte 0xe1 in position 101: invalid continuation byte\n"
     ]
    },
    {
     "ename": "UnicodeDecodeError",
     "evalue": "'utf-8' codec can't decode byte 0xe1 in position 101: invalid continuation byte",
     "output_type": "error",
     "traceback": [
      "\u001b[1;31m---------------------------------------------------------------------------\u001b[0m",
      "\u001b[1;31mUnicodeDecodeError\u001b[0m                        Traceback (most recent call last)",
      "\u001b[1;31mUnicodeDecodeError\u001b[0m: 'utf-8' codec can't decode byte 0xe1 in position 101: invalid continuation byte"
     ]
    },
    {
     "name": "stderr",
     "output_type": "stream",
     "text": [
      "Exception ignored in: 'rasterio._env.log_error'\n",
      "Traceback (most recent call last):\n",
      "  File \"C:\\Users\\kovar\\AppData\\Roaming\\Python\\Python39\\site-packages\\rasterio\\env.py\", line 338, in defenv\n",
      "    local._env.start()\n",
      "UnicodeDecodeError: 'utf-8' codec can't decode byte 0xe1 in position 101: invalid continuation byte\n"
     ]
    },
    {
     "ename": "UnicodeDecodeError",
     "evalue": "'utf-8' codec can't decode byte 0xe1 in position 107: invalid continuation byte",
     "output_type": "error",
     "traceback": [
      "\u001b[1;31m---------------------------------------------------------------------------\u001b[0m",
      "\u001b[1;31mUnicodeDecodeError\u001b[0m                        Traceback (most recent call last)",
      "\u001b[1;31mUnicodeDecodeError\u001b[0m: 'utf-8' codec can't decode byte 0xe1 in position 107: invalid continuation byte"
     ]
    },
    {
     "name": "stderr",
     "output_type": "stream",
     "text": [
      "Exception ignored in: 'rasterio._env.log_error'\n",
      "Traceback (most recent call last):\n",
      "  File \"C:\\Users\\kovar\\AppData\\Roaming\\Python\\Python39\\site-packages\\rasterio\\env.py\", line 338, in defenv\n",
      "    local._env.start()\n",
      "UnicodeDecodeError: 'utf-8' codec can't decode byte 0xe1 in position 107: invalid continuation byte\n"
     ]
    },
    {
     "ename": "UnicodeDecodeError",
     "evalue": "'utf-8' codec can't decode byte 0xe1 in position 107: invalid continuation byte",
     "output_type": "error",
     "traceback": [
      "\u001b[1;31m---------------------------------------------------------------------------\u001b[0m",
      "\u001b[1;31mUnicodeDecodeError\u001b[0m                        Traceback (most recent call last)",
      "\u001b[1;31mUnicodeDecodeError\u001b[0m: 'utf-8' codec can't decode byte 0xe1 in position 107: invalid continuation byte"
     ]
    },
    {
     "name": "stderr",
     "output_type": "stream",
     "text": [
      "Exception ignored in: 'rasterio._env.log_error'\n",
      "Traceback (most recent call last):\n",
      "  File \"C:\\Users\\kovar\\AppData\\Roaming\\Python\\Python39\\site-packages\\rasterio\\env.py\", line 338, in defenv\n",
      "    local._env.start()\n",
      "UnicodeDecodeError: 'utf-8' codec can't decode byte 0xe1 in position 107: invalid continuation byte\n"
     ]
    },
    {
     "ename": "UnicodeDecodeError",
     "evalue": "'utf-8' codec can't decode byte 0xe1 in position 98: invalid continuation byte",
     "output_type": "error",
     "traceback": [
      "\u001b[1;31m---------------------------------------------------------------------------\u001b[0m",
      "\u001b[1;31mUnicodeDecodeError\u001b[0m                        Traceback (most recent call last)",
      "\u001b[1;31mUnicodeDecodeError\u001b[0m: 'utf-8' codec can't decode byte 0xe1 in position 98: invalid continuation byte"
     ]
    },
    {
     "name": "stderr",
     "output_type": "stream",
     "text": [
      "Exception ignored in: 'rasterio._env.log_error'\n",
      "Traceback (most recent call last):\n",
      "  File \"C:\\Users\\kovar\\AppData\\Roaming\\Python\\Python39\\site-packages\\rasterio\\env.py\", line 338, in defenv\n",
      "    local._env.start()\n",
      "UnicodeDecodeError: 'utf-8' codec can't decode byte 0xe1 in position 98: invalid continuation byte\n"
     ]
    },
    {
     "ename": "UnicodeDecodeError",
     "evalue": "'utf-8' codec can't decode byte 0xe1 in position 98: invalid continuation byte",
     "output_type": "error",
     "traceback": [
      "\u001b[1;31m---------------------------------------------------------------------------\u001b[0m",
      "\u001b[1;31mUnicodeDecodeError\u001b[0m                        Traceback (most recent call last)",
      "\u001b[1;31mUnicodeDecodeError\u001b[0m: 'utf-8' codec can't decode byte 0xe1 in position 98: invalid continuation byte"
     ]
    },
    {
     "name": "stderr",
     "output_type": "stream",
     "text": [
      "Exception ignored in: 'rasterio._env.log_error'\n",
      "Traceback (most recent call last):\n",
      "  File \"C:\\Users\\kovar\\AppData\\Roaming\\Python\\Python39\\site-packages\\rasterio\\env.py\", line 338, in defenv\n",
      "    local._env.start()\n",
      "UnicodeDecodeError: 'utf-8' codec can't decode byte 0xe1 in position 98: invalid continuation byte\n"
     ]
    },
    {
     "ename": "UnicodeDecodeError",
     "evalue": "'utf-8' codec can't decode byte 0xe1 in position 99: invalid continuation byte",
     "output_type": "error",
     "traceback": [
      "\u001b[1;31m---------------------------------------------------------------------------\u001b[0m",
      "\u001b[1;31mUnicodeDecodeError\u001b[0m                        Traceback (most recent call last)",
      "\u001b[1;31mUnicodeDecodeError\u001b[0m: 'utf-8' codec can't decode byte 0xe1 in position 99: invalid continuation byte"
     ]
    },
    {
     "name": "stderr",
     "output_type": "stream",
     "text": [
      "Exception ignored in: 'rasterio._env.log_error'\n",
      "Traceback (most recent call last):\n",
      "  File \"C:\\Users\\kovar\\AppData\\Roaming\\Python\\Python39\\site-packages\\rasterio\\env.py\", line 338, in defenv\n",
      "    local._env.start()\n",
      "UnicodeDecodeError: 'utf-8' codec can't decode byte 0xe1 in position 99: invalid continuation byte\n"
     ]
    },
    {
     "ename": "UnicodeDecodeError",
     "evalue": "'utf-8' codec can't decode byte 0xe1 in position 99: invalid continuation byte",
     "output_type": "error",
     "traceback": [
      "\u001b[1;31m---------------------------------------------------------------------------\u001b[0m",
      "\u001b[1;31mUnicodeDecodeError\u001b[0m                        Traceback (most recent call last)",
      "\u001b[1;31mUnicodeDecodeError\u001b[0m: 'utf-8' codec can't decode byte 0xe1 in position 99: invalid continuation byte"
     ]
    },
    {
     "name": "stderr",
     "output_type": "stream",
     "text": [
      "Exception ignored in: 'rasterio._env.log_error'\n",
      "Traceback (most recent call last):\n",
      "  File \"C:\\Users\\kovar\\AppData\\Roaming\\Python\\Python39\\site-packages\\rasterio\\env.py\", line 338, in defenv\n",
      "    local._env.start()\n",
      "UnicodeDecodeError: 'utf-8' codec can't decode byte 0xe1 in position 99: invalid continuation byte\n"
     ]
    },
    {
     "ename": "UnicodeDecodeError",
     "evalue": "'utf-8' codec can't decode byte 0xe1 in position 106: invalid continuation byte",
     "output_type": "error",
     "traceback": [
      "\u001b[1;31m---------------------------------------------------------------------------\u001b[0m",
      "\u001b[1;31mUnicodeDecodeError\u001b[0m                        Traceback (most recent call last)",
      "\u001b[1;31mUnicodeDecodeError\u001b[0m: 'utf-8' codec can't decode byte 0xe1 in position 106: invalid continuation byte"
     ]
    },
    {
     "name": "stderr",
     "output_type": "stream",
     "text": [
      "Exception ignored in: 'rasterio._env.log_error'\n",
      "Traceback (most recent call last):\n",
      "  File \"C:\\Users\\kovar\\AppData\\Roaming\\Python\\Python39\\site-packages\\rasterio\\env.py\", line 338, in defenv\n",
      "    local._env.start()\n",
      "UnicodeDecodeError: 'utf-8' codec can't decode byte 0xe1 in position 106: invalid continuation byte\n"
     ]
    },
    {
     "ename": "UnicodeDecodeError",
     "evalue": "'utf-8' codec can't decode byte 0xe1 in position 106: invalid continuation byte",
     "output_type": "error",
     "traceback": [
      "\u001b[1;31m---------------------------------------------------------------------------\u001b[0m",
      "\u001b[1;31mUnicodeDecodeError\u001b[0m                        Traceback (most recent call last)",
      "\u001b[1;31mUnicodeDecodeError\u001b[0m: 'utf-8' codec can't decode byte 0xe1 in position 106: invalid continuation byte"
     ]
    },
    {
     "name": "stderr",
     "output_type": "stream",
     "text": [
      "Exception ignored in: 'rasterio._env.log_error'\n",
      "Traceback (most recent call last):\n",
      "  File \"C:\\Users\\kovar\\AppData\\Roaming\\Python\\Python39\\site-packages\\rasterio\\env.py\", line 338, in defenv\n",
      "    local._env.start()\n",
      "UnicodeDecodeError: 'utf-8' codec can't decode byte 0xe1 in position 106: invalid continuation byte\n"
     ]
    },
    {
     "ename": "UnicodeDecodeError",
     "evalue": "'utf-8' codec can't decode byte 0xe1 in position 100: invalid continuation byte",
     "output_type": "error",
     "traceback": [
      "\u001b[1;31m---------------------------------------------------------------------------\u001b[0m",
      "\u001b[1;31mUnicodeDecodeError\u001b[0m                        Traceback (most recent call last)",
      "\u001b[1;31mUnicodeDecodeError\u001b[0m: 'utf-8' codec can't decode byte 0xe1 in position 100: invalid continuation byte"
     ]
    },
    {
     "name": "stderr",
     "output_type": "stream",
     "text": [
      "Exception ignored in: 'rasterio._env.log_error'\n",
      "Traceback (most recent call last):\n",
      "  File \"C:\\Users\\kovar\\AppData\\Roaming\\Python\\Python39\\site-packages\\rasterio\\env.py\", line 338, in defenv\n",
      "    local._env.start()\n",
      "UnicodeDecodeError: 'utf-8' codec can't decode byte 0xe1 in position 100: invalid continuation byte\n"
     ]
    },
    {
     "ename": "UnicodeDecodeError",
     "evalue": "'utf-8' codec can't decode byte 0xe1 in position 100: invalid continuation byte",
     "output_type": "error",
     "traceback": [
      "\u001b[1;31m---------------------------------------------------------------------------\u001b[0m",
      "\u001b[1;31mUnicodeDecodeError\u001b[0m                        Traceback (most recent call last)",
      "\u001b[1;31mUnicodeDecodeError\u001b[0m: 'utf-8' codec can't decode byte 0xe1 in position 100: invalid continuation byte"
     ]
    },
    {
     "name": "stderr",
     "output_type": "stream",
     "text": [
      "Exception ignored in: 'rasterio._env.log_error'\n",
      "Traceback (most recent call last):\n",
      "  File \"C:\\Users\\kovar\\AppData\\Roaming\\Python\\Python39\\site-packages\\rasterio\\env.py\", line 338, in defenv\n",
      "    local._env.start()\n",
      "UnicodeDecodeError: 'utf-8' codec can't decode byte 0xe1 in position 100: invalid continuation byte\n"
     ]
    },
    {
     "ename": "UnicodeDecodeError",
     "evalue": "'utf-8' codec can't decode byte 0xe1 in position 100: invalid continuation byte",
     "output_type": "error",
     "traceback": [
      "\u001b[1;31m---------------------------------------------------------------------------\u001b[0m",
      "\u001b[1;31mUnicodeDecodeError\u001b[0m                        Traceback (most recent call last)",
      "\u001b[1;31mUnicodeDecodeError\u001b[0m: 'utf-8' codec can't decode byte 0xe1 in position 100: invalid continuation byte"
     ]
    },
    {
     "name": "stderr",
     "output_type": "stream",
     "text": [
      "Exception ignored in: 'rasterio._env.log_error'\n",
      "Traceback (most recent call last):\n",
      "  File \"C:\\Users\\kovar\\AppData\\Roaming\\Python\\Python39\\site-packages\\rasterio\\env.py\", line 338, in defenv\n",
      "    local._env.start()\n",
      "UnicodeDecodeError: 'utf-8' codec can't decode byte 0xe1 in position 100: invalid continuation byte\n"
     ]
    },
    {
     "ename": "UnicodeDecodeError",
     "evalue": "'utf-8' codec can't decode byte 0xe1 in position 100: invalid continuation byte",
     "output_type": "error",
     "traceback": [
      "\u001b[1;31m---------------------------------------------------------------------------\u001b[0m",
      "\u001b[1;31mUnicodeDecodeError\u001b[0m                        Traceback (most recent call last)",
      "\u001b[1;31mUnicodeDecodeError\u001b[0m: 'utf-8' codec can't decode byte 0xe1 in position 100: invalid continuation byte"
     ]
    },
    {
     "name": "stderr",
     "output_type": "stream",
     "text": [
      "Exception ignored in: 'rasterio._env.log_error'\n",
      "Traceback (most recent call last):\n",
      "  File \"C:\\Users\\kovar\\AppData\\Roaming\\Python\\Python39\\site-packages\\rasterio\\env.py\", line 338, in defenv\n",
      "    local._env.start()\n",
      "UnicodeDecodeError: 'utf-8' codec can't decode byte 0xe1 in position 100: invalid continuation byte\n"
     ]
    },
    {
     "ename": "UnicodeDecodeError",
     "evalue": "'utf-8' codec can't decode byte 0xe1 in position 101: invalid continuation byte",
     "output_type": "error",
     "traceback": [
      "\u001b[1;31m---------------------------------------------------------------------------\u001b[0m",
      "\u001b[1;31mUnicodeDecodeError\u001b[0m                        Traceback (most recent call last)",
      "\u001b[1;31mUnicodeDecodeError\u001b[0m: 'utf-8' codec can't decode byte 0xe1 in position 101: invalid continuation byte"
     ]
    },
    {
     "name": "stderr",
     "output_type": "stream",
     "text": [
      "Exception ignored in: 'rasterio._env.log_error'\n",
      "Traceback (most recent call last):\n",
      "  File \"C:\\Users\\kovar\\AppData\\Roaming\\Python\\Python39\\site-packages\\rasterio\\env.py\", line 338, in defenv\n",
      "    local._env.start()\n",
      "UnicodeDecodeError: 'utf-8' codec can't decode byte 0xe1 in position 101: invalid continuation byte\n"
     ]
    },
    {
     "ename": "UnicodeDecodeError",
     "evalue": "'utf-8' codec can't decode byte 0xe1 in position 101: invalid continuation byte",
     "output_type": "error",
     "traceback": [
      "\u001b[1;31m---------------------------------------------------------------------------\u001b[0m",
      "\u001b[1;31mUnicodeDecodeError\u001b[0m                        Traceback (most recent call last)",
      "\u001b[1;31mUnicodeDecodeError\u001b[0m: 'utf-8' codec can't decode byte 0xe1 in position 101: invalid continuation byte"
     ]
    },
    {
     "name": "stderr",
     "output_type": "stream",
     "text": [
      "Exception ignored in: 'rasterio._env.log_error'\n",
      "Traceback (most recent call last):\n",
      "  File \"C:\\Users\\kovar\\AppData\\Roaming\\Python\\Python39\\site-packages\\rasterio\\env.py\", line 338, in defenv\n",
      "    local._env.start()\n",
      "UnicodeDecodeError: 'utf-8' codec can't decode byte 0xe1 in position 101: invalid continuation byte\n"
     ]
    },
    {
     "ename": "UnicodeDecodeError",
     "evalue": "'utf-8' codec can't decode byte 0xe1 in position 107: invalid continuation byte",
     "output_type": "error",
     "traceback": [
      "\u001b[1;31m---------------------------------------------------------------------------\u001b[0m",
      "\u001b[1;31mUnicodeDecodeError\u001b[0m                        Traceback (most recent call last)",
      "\u001b[1;31mUnicodeDecodeError\u001b[0m: 'utf-8' codec can't decode byte 0xe1 in position 107: invalid continuation byte"
     ]
    },
    {
     "name": "stderr",
     "output_type": "stream",
     "text": [
      "Exception ignored in: 'rasterio._env.log_error'\n",
      "Traceback (most recent call last):\n",
      "  File \"C:\\Users\\kovar\\AppData\\Roaming\\Python\\Python39\\site-packages\\rasterio\\env.py\", line 338, in defenv\n",
      "    local._env.start()\n",
      "UnicodeDecodeError: 'utf-8' codec can't decode byte 0xe1 in position 107: invalid continuation byte\n"
     ]
    },
    {
     "ename": "UnicodeDecodeError",
     "evalue": "'utf-8' codec can't decode byte 0xe1 in position 107: invalid continuation byte",
     "output_type": "error",
     "traceback": [
      "\u001b[1;31m---------------------------------------------------------------------------\u001b[0m",
      "\u001b[1;31mUnicodeDecodeError\u001b[0m                        Traceback (most recent call last)",
      "\u001b[1;31mUnicodeDecodeError\u001b[0m: 'utf-8' codec can't decode byte 0xe1 in position 107: invalid continuation byte"
     ]
    },
    {
     "name": "stderr",
     "output_type": "stream",
     "text": [
      "Exception ignored in: 'rasterio._env.log_error'\n",
      "Traceback (most recent call last):\n",
      "  File \"C:\\Users\\kovar\\AppData\\Roaming\\Python\\Python39\\site-packages\\rasterio\\env.py\", line 338, in defenv\n",
      "    local._env.start()\n",
      "UnicodeDecodeError: 'utf-8' codec can't decode byte 0xe1 in position 107: invalid continuation byte\n"
     ]
    },
    {
     "ename": "UnicodeDecodeError",
     "evalue": "'utf-8' codec can't decode byte 0xe1 in position 98: invalid continuation byte",
     "output_type": "error",
     "traceback": [
      "\u001b[1;31m---------------------------------------------------------------------------\u001b[0m",
      "\u001b[1;31mUnicodeDecodeError\u001b[0m                        Traceback (most recent call last)",
      "\u001b[1;31mUnicodeDecodeError\u001b[0m: 'utf-8' codec can't decode byte 0xe1 in position 98: invalid continuation byte"
     ]
    },
    {
     "name": "stderr",
     "output_type": "stream",
     "text": [
      "Exception ignored in: 'rasterio._env.log_error'\n",
      "Traceback (most recent call last):\n",
      "  File \"C:\\Users\\kovar\\AppData\\Roaming\\Python\\Python39\\site-packages\\rasterio\\env.py\", line 338, in defenv\n",
      "    local._env.start()\n",
      "UnicodeDecodeError: 'utf-8' codec can't decode byte 0xe1 in position 98: invalid continuation byte\n"
     ]
    },
    {
     "ename": "UnicodeDecodeError",
     "evalue": "'utf-8' codec can't decode byte 0xe1 in position 98: invalid continuation byte",
     "output_type": "error",
     "traceback": [
      "\u001b[1;31m---------------------------------------------------------------------------\u001b[0m",
      "\u001b[1;31mUnicodeDecodeError\u001b[0m                        Traceback (most recent call last)",
      "\u001b[1;31mUnicodeDecodeError\u001b[0m: 'utf-8' codec can't decode byte 0xe1 in position 98: invalid continuation byte"
     ]
    },
    {
     "name": "stderr",
     "output_type": "stream",
     "text": [
      "Exception ignored in: 'rasterio._env.log_error'\n",
      "Traceback (most recent call last):\n",
      "  File \"C:\\Users\\kovar\\AppData\\Roaming\\Python\\Python39\\site-packages\\rasterio\\env.py\", line 338, in defenv\n",
      "    local._env.start()\n",
      "UnicodeDecodeError: 'utf-8' codec can't decode byte 0xe1 in position 98: invalid continuation byte\n"
     ]
    },
    {
     "ename": "UnicodeDecodeError",
     "evalue": "'utf-8' codec can't decode byte 0xe1 in position 99: invalid continuation byte",
     "output_type": "error",
     "traceback": [
      "\u001b[1;31m---------------------------------------------------------------------------\u001b[0m",
      "\u001b[1;31mUnicodeDecodeError\u001b[0m                        Traceback (most recent call last)",
      "\u001b[1;31mUnicodeDecodeError\u001b[0m: 'utf-8' codec can't decode byte 0xe1 in position 99: invalid continuation byte"
     ]
    },
    {
     "name": "stderr",
     "output_type": "stream",
     "text": [
      "Exception ignored in: 'rasterio._env.log_error'\n",
      "Traceback (most recent call last):\n",
      "  File \"C:\\Users\\kovar\\AppData\\Roaming\\Python\\Python39\\site-packages\\rasterio\\env.py\", line 338, in defenv\n",
      "    local._env.start()\n",
      "UnicodeDecodeError: 'utf-8' codec can't decode byte 0xe1 in position 99: invalid continuation byte\n"
     ]
    },
    {
     "ename": "UnicodeDecodeError",
     "evalue": "'utf-8' codec can't decode byte 0xe1 in position 99: invalid continuation byte",
     "output_type": "error",
     "traceback": [
      "\u001b[1;31m---------------------------------------------------------------------------\u001b[0m",
      "\u001b[1;31mUnicodeDecodeError\u001b[0m                        Traceback (most recent call last)",
      "\u001b[1;31mUnicodeDecodeError\u001b[0m: 'utf-8' codec can't decode byte 0xe1 in position 99: invalid continuation byte"
     ]
    },
    {
     "name": "stderr",
     "output_type": "stream",
     "text": [
      "Exception ignored in: 'rasterio._env.log_error'\n",
      "Traceback (most recent call last):\n",
      "  File \"C:\\Users\\kovar\\AppData\\Roaming\\Python\\Python39\\site-packages\\rasterio\\env.py\", line 338, in defenv\n",
      "    local._env.start()\n",
      "UnicodeDecodeError: 'utf-8' codec can't decode byte 0xe1 in position 99: invalid continuation byte\n"
     ]
    },
    {
     "ename": "UnicodeDecodeError",
     "evalue": "'utf-8' codec can't decode byte 0xe1 in position 106: invalid continuation byte",
     "output_type": "error",
     "traceback": [
      "\u001b[1;31m---------------------------------------------------------------------------\u001b[0m",
      "\u001b[1;31mUnicodeDecodeError\u001b[0m                        Traceback (most recent call last)",
      "\u001b[1;31mUnicodeDecodeError\u001b[0m: 'utf-8' codec can't decode byte 0xe1 in position 106: invalid continuation byte"
     ]
    },
    {
     "name": "stderr",
     "output_type": "stream",
     "text": [
      "Exception ignored in: 'rasterio._env.log_error'\n",
      "Traceback (most recent call last):\n",
      "  File \"C:\\Users\\kovar\\AppData\\Roaming\\Python\\Python39\\site-packages\\rasterio\\env.py\", line 338, in defenv\n",
      "    local._env.start()\n",
      "UnicodeDecodeError: 'utf-8' codec can't decode byte 0xe1 in position 106: invalid continuation byte\n"
     ]
    },
    {
     "ename": "UnicodeDecodeError",
     "evalue": "'utf-8' codec can't decode byte 0xe1 in position 106: invalid continuation byte",
     "output_type": "error",
     "traceback": [
      "\u001b[1;31m---------------------------------------------------------------------------\u001b[0m",
      "\u001b[1;31mUnicodeDecodeError\u001b[0m                        Traceback (most recent call last)",
      "\u001b[1;31mUnicodeDecodeError\u001b[0m: 'utf-8' codec can't decode byte 0xe1 in position 106: invalid continuation byte"
     ]
    },
    {
     "name": "stderr",
     "output_type": "stream",
     "text": [
      "Exception ignored in: 'rasterio._env.log_error'\n",
      "Traceback (most recent call last):\n",
      "  File \"C:\\Users\\kovar\\AppData\\Roaming\\Python\\Python39\\site-packages\\rasterio\\env.py\", line 338, in defenv\n",
      "    local._env.start()\n",
      "UnicodeDecodeError: 'utf-8' codec can't decode byte 0xe1 in position 106: invalid continuation byte\n"
     ]
    },
    {
     "ename": "UnicodeDecodeError",
     "evalue": "'utf-8' codec can't decode byte 0xe1 in position 100: invalid continuation byte",
     "output_type": "error",
     "traceback": [
      "\u001b[1;31m---------------------------------------------------------------------------\u001b[0m",
      "\u001b[1;31mUnicodeDecodeError\u001b[0m                        Traceback (most recent call last)",
      "\u001b[1;31mUnicodeDecodeError\u001b[0m: 'utf-8' codec can't decode byte 0xe1 in position 100: invalid continuation byte"
     ]
    },
    {
     "name": "stderr",
     "output_type": "stream",
     "text": [
      "Exception ignored in: 'rasterio._env.log_error'\n",
      "Traceback (most recent call last):\n",
      "  File \"C:\\Users\\kovar\\AppData\\Roaming\\Python\\Python39\\site-packages\\rasterio\\env.py\", line 338, in defenv\n",
      "    local._env.start()\n",
      "UnicodeDecodeError: 'utf-8' codec can't decode byte 0xe1 in position 100: invalid continuation byte\n"
     ]
    },
    {
     "ename": "UnicodeDecodeError",
     "evalue": "'utf-8' codec can't decode byte 0xe1 in position 100: invalid continuation byte",
     "output_type": "error",
     "traceback": [
      "\u001b[1;31m---------------------------------------------------------------------------\u001b[0m",
      "\u001b[1;31mUnicodeDecodeError\u001b[0m                        Traceback (most recent call last)",
      "\u001b[1;31mUnicodeDecodeError\u001b[0m: 'utf-8' codec can't decode byte 0xe1 in position 100: invalid continuation byte"
     ]
    },
    {
     "name": "stderr",
     "output_type": "stream",
     "text": [
      "Exception ignored in: 'rasterio._env.log_error'\n",
      "Traceback (most recent call last):\n",
      "  File \"C:\\Users\\kovar\\AppData\\Roaming\\Python\\Python39\\site-packages\\rasterio\\env.py\", line 338, in defenv\n",
      "    local._env.start()\n",
      "UnicodeDecodeError: 'utf-8' codec can't decode byte 0xe1 in position 100: invalid continuation byte\n"
     ]
    },
    {
     "ename": "UnicodeDecodeError",
     "evalue": "'utf-8' codec can't decode byte 0xe1 in position 100: invalid continuation byte",
     "output_type": "error",
     "traceback": [
      "\u001b[1;31m---------------------------------------------------------------------------\u001b[0m",
      "\u001b[1;31mUnicodeDecodeError\u001b[0m                        Traceback (most recent call last)",
      "\u001b[1;31mUnicodeDecodeError\u001b[0m: 'utf-8' codec can't decode byte 0xe1 in position 100: invalid continuation byte"
     ]
    },
    {
     "name": "stderr",
     "output_type": "stream",
     "text": [
      "Exception ignored in: 'rasterio._env.log_error'\n",
      "Traceback (most recent call last):\n",
      "  File \"C:\\Users\\kovar\\AppData\\Roaming\\Python\\Python39\\site-packages\\rasterio\\env.py\", line 338, in defenv\n",
      "    local._env.start()\n",
      "UnicodeDecodeError: 'utf-8' codec can't decode byte 0xe1 in position 100: invalid continuation byte\n"
     ]
    },
    {
     "ename": "UnicodeDecodeError",
     "evalue": "'utf-8' codec can't decode byte 0xe1 in position 100: invalid continuation byte",
     "output_type": "error",
     "traceback": [
      "\u001b[1;31m---------------------------------------------------------------------------\u001b[0m",
      "\u001b[1;31mUnicodeDecodeError\u001b[0m                        Traceback (most recent call last)",
      "\u001b[1;31mUnicodeDecodeError\u001b[0m: 'utf-8' codec can't decode byte 0xe1 in position 100: invalid continuation byte"
     ]
    },
    {
     "name": "stderr",
     "output_type": "stream",
     "text": [
      "Exception ignored in: 'rasterio._env.log_error'\n",
      "Traceback (most recent call last):\n",
      "  File \"C:\\Users\\kovar\\AppData\\Roaming\\Python\\Python39\\site-packages\\rasterio\\env.py\", line 338, in defenv\n",
      "    local._env.start()\n",
      "UnicodeDecodeError: 'utf-8' codec can't decode byte 0xe1 in position 100: invalid continuation byte\n"
     ]
    },
    {
     "ename": "UnicodeDecodeError",
     "evalue": "'utf-8' codec can't decode byte 0xe1 in position 101: invalid continuation byte",
     "output_type": "error",
     "traceback": [
      "\u001b[1;31m---------------------------------------------------------------------------\u001b[0m",
      "\u001b[1;31mUnicodeDecodeError\u001b[0m                        Traceback (most recent call last)",
      "\u001b[1;31mUnicodeDecodeError\u001b[0m: 'utf-8' codec can't decode byte 0xe1 in position 101: invalid continuation byte"
     ]
    },
    {
     "name": "stderr",
     "output_type": "stream",
     "text": [
      "Exception ignored in: 'rasterio._env.log_error'\n",
      "Traceback (most recent call last):\n",
      "  File \"C:\\Users\\kovar\\AppData\\Roaming\\Python\\Python39\\site-packages\\rasterio\\env.py\", line 338, in defenv\n",
      "    local._env.start()\n",
      "UnicodeDecodeError: 'utf-8' codec can't decode byte 0xe1 in position 101: invalid continuation byte\n"
     ]
    },
    {
     "ename": "UnicodeDecodeError",
     "evalue": "'utf-8' codec can't decode byte 0xe1 in position 101: invalid continuation byte",
     "output_type": "error",
     "traceback": [
      "\u001b[1;31m---------------------------------------------------------------------------\u001b[0m",
      "\u001b[1;31mUnicodeDecodeError\u001b[0m                        Traceback (most recent call last)",
      "\u001b[1;31mUnicodeDecodeError\u001b[0m: 'utf-8' codec can't decode byte 0xe1 in position 101: invalid continuation byte"
     ]
    },
    {
     "name": "stderr",
     "output_type": "stream",
     "text": [
      "Exception ignored in: 'rasterio._env.log_error'\n",
      "Traceback (most recent call last):\n",
      "  File \"C:\\Users\\kovar\\AppData\\Roaming\\Python\\Python39\\site-packages\\rasterio\\env.py\", line 338, in defenv\n",
      "    local._env.start()\n",
      "UnicodeDecodeError: 'utf-8' codec can't decode byte 0xe1 in position 101: invalid continuation byte\n"
     ]
    },
    {
     "ename": "UnicodeDecodeError",
     "evalue": "'utf-8' codec can't decode byte 0xe1 in position 107: invalid continuation byte",
     "output_type": "error",
     "traceback": [
      "\u001b[1;31m---------------------------------------------------------------------------\u001b[0m",
      "\u001b[1;31mUnicodeDecodeError\u001b[0m                        Traceback (most recent call last)",
      "\u001b[1;31mUnicodeDecodeError\u001b[0m: 'utf-8' codec can't decode byte 0xe1 in position 107: invalid continuation byte"
     ]
    },
    {
     "name": "stderr",
     "output_type": "stream",
     "text": [
      "Exception ignored in: 'rasterio._env.log_error'\n",
      "Traceback (most recent call last):\n",
      "  File \"C:\\Users\\kovar\\AppData\\Roaming\\Python\\Python39\\site-packages\\rasterio\\env.py\", line 338, in defenv\n",
      "    local._env.start()\n",
      "UnicodeDecodeError: 'utf-8' codec can't decode byte 0xe1 in position 107: invalid continuation byte\n"
     ]
    },
    {
     "ename": "UnicodeDecodeError",
     "evalue": "'utf-8' codec can't decode byte 0xe1 in position 107: invalid continuation byte",
     "output_type": "error",
     "traceback": [
      "\u001b[1;31m---------------------------------------------------------------------------\u001b[0m",
      "\u001b[1;31mUnicodeDecodeError\u001b[0m                        Traceback (most recent call last)",
      "\u001b[1;31mUnicodeDecodeError\u001b[0m: 'utf-8' codec can't decode byte 0xe1 in position 107: invalid continuation byte"
     ]
    },
    {
     "name": "stderr",
     "output_type": "stream",
     "text": [
      "Exception ignored in: 'rasterio._env.log_error'\n",
      "Traceback (most recent call last):\n",
      "  File \"C:\\Users\\kovar\\AppData\\Roaming\\Python\\Python39\\site-packages\\rasterio\\env.py\", line 338, in defenv\n",
      "    local._env.start()\n",
      "UnicodeDecodeError: 'utf-8' codec can't decode byte 0xe1 in position 107: invalid continuation byte\n"
     ]
    },
    {
     "ename": "UnicodeDecodeError",
     "evalue": "'utf-8' codec can't decode byte 0xe1 in position 98: invalid continuation byte",
     "output_type": "error",
     "traceback": [
      "\u001b[1;31m---------------------------------------------------------------------------\u001b[0m",
      "\u001b[1;31mUnicodeDecodeError\u001b[0m                        Traceback (most recent call last)",
      "\u001b[1;31mUnicodeDecodeError\u001b[0m: 'utf-8' codec can't decode byte 0xe1 in position 98: invalid continuation byte"
     ]
    },
    {
     "name": "stderr",
     "output_type": "stream",
     "text": [
      "Exception ignored in: 'rasterio._env.log_error'\n",
      "Traceback (most recent call last):\n",
      "  File \"C:\\Users\\kovar\\AppData\\Roaming\\Python\\Python39\\site-packages\\rasterio\\env.py\", line 338, in defenv\n",
      "    local._env.start()\n",
      "UnicodeDecodeError: 'utf-8' codec can't decode byte 0xe1 in position 98: invalid continuation byte\n"
     ]
    },
    {
     "ename": "UnicodeDecodeError",
     "evalue": "'utf-8' codec can't decode byte 0xe1 in position 98: invalid continuation byte",
     "output_type": "error",
     "traceback": [
      "\u001b[1;31m---------------------------------------------------------------------------\u001b[0m",
      "\u001b[1;31mUnicodeDecodeError\u001b[0m                        Traceback (most recent call last)",
      "\u001b[1;31mUnicodeDecodeError\u001b[0m: 'utf-8' codec can't decode byte 0xe1 in position 98: invalid continuation byte"
     ]
    },
    {
     "name": "stderr",
     "output_type": "stream",
     "text": [
      "Exception ignored in: 'rasterio._env.log_error'\n",
      "Traceback (most recent call last):\n",
      "  File \"C:\\Users\\kovar\\AppData\\Roaming\\Python\\Python39\\site-packages\\rasterio\\env.py\", line 338, in defenv\n",
      "    local._env.start()\n",
      "UnicodeDecodeError: 'utf-8' codec can't decode byte 0xe1 in position 98: invalid continuation byte\n"
     ]
    },
    {
     "ename": "UnicodeDecodeError",
     "evalue": "'utf-8' codec can't decode byte 0xe1 in position 99: invalid continuation byte",
     "output_type": "error",
     "traceback": [
      "\u001b[1;31m---------------------------------------------------------------------------\u001b[0m",
      "\u001b[1;31mUnicodeDecodeError\u001b[0m                        Traceback (most recent call last)",
      "\u001b[1;31mUnicodeDecodeError\u001b[0m: 'utf-8' codec can't decode byte 0xe1 in position 99: invalid continuation byte"
     ]
    },
    {
     "name": "stderr",
     "output_type": "stream",
     "text": [
      "Exception ignored in: 'rasterio._env.log_error'\n",
      "Traceback (most recent call last):\n",
      "  File \"C:\\Users\\kovar\\AppData\\Roaming\\Python\\Python39\\site-packages\\rasterio\\env.py\", line 338, in defenv\n",
      "    local._env.start()\n",
      "UnicodeDecodeError: 'utf-8' codec can't decode byte 0xe1 in position 99: invalid continuation byte\n"
     ]
    },
    {
     "ename": "UnicodeDecodeError",
     "evalue": "'utf-8' codec can't decode byte 0xe1 in position 99: invalid continuation byte",
     "output_type": "error",
     "traceback": [
      "\u001b[1;31m---------------------------------------------------------------------------\u001b[0m",
      "\u001b[1;31mUnicodeDecodeError\u001b[0m                        Traceback (most recent call last)",
      "\u001b[1;31mUnicodeDecodeError\u001b[0m: 'utf-8' codec can't decode byte 0xe1 in position 99: invalid continuation byte"
     ]
    },
    {
     "name": "stderr",
     "output_type": "stream",
     "text": [
      "Exception ignored in: 'rasterio._env.log_error'\n",
      "Traceback (most recent call last):\n",
      "  File \"C:\\Users\\kovar\\AppData\\Roaming\\Python\\Python39\\site-packages\\rasterio\\env.py\", line 338, in defenv\n",
      "    local._env.start()\n",
      "UnicodeDecodeError: 'utf-8' codec can't decode byte 0xe1 in position 99: invalid continuation byte\n"
     ]
    },
    {
     "data": {
      "image/png": "[encoded data removed]",
      "text/plain": [
       "<Figure size 1000x1000 with 1 Axes>"
      ]
     },
     "metadata": {},
     "output_type": "display_data"
    }
   ],
   "source": [
    "width = maxx - minx\n",
    "height = maxy - miny\n",
    "\n",
    "max_size = 1200  # Maximum dimension size (for either width or height)\n",
    "\n",
    "aspect_ratio = width / height\n",
    "\n",
    "if width > height:\n",
    "    image_width = max_size\n",
    "    image_height = int(image_width / aspect_ratio)\n",
    "else:\n",
    "    image_height = max_size\n",
    "    image_width = int(image_height * aspect_ratio)\n",
    "\n",
    "url = \"https://ags.cuzk.cz/arcgis2/rest/services/dmr5g/ImageServer/exportImage\"\n",
    "\n",
    "params = {\n",
    "    \"bbox\": f\"{minx},{miny},{maxx},{maxy}\",  # Bounding box coordinates (minx, miny, maxx, maxy)\n",
    "    \"bboxSR\": 4326,  # Spatial reference for the bounding box (WGS 84)\n",
    "    \"imageSR\": 4326,  # Spatial reference for the image (WGS 84)\n",
    "    \"size\": f\"{image_width},{image_height}\",  # Dynamically set image size (in pixels)\n",
    "    \"format\": \"tiff\",  # Output format (TIFF)\n",
    "    \"f\": \"image\"  # Requesting the image (raster data)\n",
    "}\n",
    "\n",
    "response = requests.get(url, params=params)\n",
    "\n",
    "if response.status_code == 200:\n",
    "    # Save the response content (TIFF file) to a local file\n",
    "    with open(\"dmr5g_bounding_box.tif\", \"wb\") as f:\n",
    "        f.write(response.content)\n",
    "\n",
    "    #Open the saved TIFF file using rasterio\n",
    "    with rasterio.open(\"dmr5g_bounding_box.tif\") as src:\n",
    "\n",
    "        fig, ax = plt.subplots(figsize=(10, 10))\n",
    "        \n",
    "        show(src, ax=ax, cmap='gray')\n",
    "        \n",
    "        gdf.plot(ax=ax, color=trail_color, alpha=0.7, edgecolor='black', linewidth=2, label=route_name)\n",
    "        \n",
    "        # Add a title\n",
    "        plt.title(\"DMR 5G Raster and Tourist Path\")\n",
    "        \n",
    "        # Display the plot\n",
    "        plt.legend()\n",
    "        plt.show()\n",
    "\n",
    "else:\n",
    "    print(f\"Failed to download raster data. Status code: {response.status_code}\")"
   ]
  },
  {
   "cell_type": "code",
   "execution_count": 12,
   "id": "78c9bff6-4d4d-4f13-98fc-93d67e14df96",
   "metadata": {},
   "outputs": [
    {
     "name": "stdout",
     "output_type": "stream",
     "text": [
      "None\n",
      "  type         ref role                                           geometry  \\\n",
      "0  way   841270075       LINESTRING (1489825.83694 6377301.02636, 14898...   \n",
      "1  way  1111089511       LINESTRING (1489805.16491 6377244.74842, 14897...   \n",
      "2  way    32399132       LINESTRING (1489704.50983 6377208.82908, 14896...   \n",
      "3  way  1111089513       LINESTRING (1489588.91567 6377188.62560, 14895...   \n",
      "4  way  1111089512       LINESTRING (1489574.29942 6377187.95502, 14895...   \n",
      "\n",
      "       length  \n",
      "0   64.134991  \n",
      "1  107.125845  \n",
      "2  117.978096  \n",
      "3   14.631624  \n",
      "4   66.258150  \n"
     ]
    }
   ],
   "source": [
    "print(gdf.crs)\n",
    "\n",
    "gdf_length = gdf.set_crs(epsg=4326, allow_override=True)\n",
    "\n",
    "gdf_length = gdf_length.to_crs(epsg=3395)\n",
    "\n",
    "gdf_length['length'] = gdf_length.length\n",
    "\n",
    "gdf_length = gdf_length.set_crs(epsg=4326, allow_override=True)\n",
    "\n",
    "print(gdf_length.head())"
   ]
  },
  {
   "cell_type": "code",
   "execution_count": 13,
   "id": "0faedd89-58c2-4fb5-82ba-78923185900e",
   "metadata": {},
   "outputs": [
    {
     "ename": "UnicodeDecodeError",
     "evalue": "'utf-8' codec can't decode byte 0xe1 in position 106: invalid continuation byte",
     "output_type": "error",
     "traceback": [
      "\u001b[1;31m---------------------------------------------------------------------------\u001b[0m",
      "\u001b[1;31mUnicodeDecodeError\u001b[0m                        Traceback (most recent call last)",
      "\u001b[1;31mUnicodeDecodeError\u001b[0m: 'utf-8' codec can't decode byte 0xe1 in position 106: invalid continuation byte"
     ]
    },
    {
     "name": "stderr",
     "output_type": "stream",
     "text": [
      "Exception ignored in: 'rasterio._env.log_error'\n",
      "Traceback (most recent call last):\n",
      "  File \"C:\\Users\\kovar\\AppData\\Roaming\\Python\\Python39\\site-packages\\rasterio\\env.py\", line 338, in defenv\n",
      "    local._env.start()\n",
      "UnicodeDecodeError: 'utf-8' codec can't decode byte 0xe1 in position 106: invalid continuation byte\n"
     ]
    },
    {
     "ename": "UnicodeDecodeError",
     "evalue": "'utf-8' codec can't decode byte 0xe1 in position 106: invalid continuation byte",
     "output_type": "error",
     "traceback": [
      "\u001b[1;31m---------------------------------------------------------------------------\u001b[0m",
      "\u001b[1;31mUnicodeDecodeError\u001b[0m                        Traceback (most recent call last)",
      "\u001b[1;31mUnicodeDecodeError\u001b[0m: 'utf-8' codec can't decode byte 0xe1 in position 106: invalid continuation byte"
     ]
    },
    {
     "name": "stderr",
     "output_type": "stream",
     "text": [
      "Exception ignored in: 'rasterio._env.log_error'\n",
      "Traceback (most recent call last):\n",
      "  File \"C:\\Users\\kovar\\AppData\\Roaming\\Python\\Python39\\site-packages\\rasterio\\env.py\", line 338, in defenv\n",
      "    local._env.start()\n",
      "UnicodeDecodeError: 'utf-8' codec can't decode byte 0xe1 in position 106: invalid continuation byte\n"
     ]
    },
    {
     "ename": "UnicodeDecodeError",
     "evalue": "'utf-8' codec can't decode byte 0xe1 in position 100: invalid continuation byte",
     "output_type": "error",
     "traceback": [
      "\u001b[1;31m---------------------------------------------------------------------------\u001b[0m",
      "\u001b[1;31mUnicodeDecodeError\u001b[0m                        Traceback (most recent call last)",
      "\u001b[1;31mUnicodeDecodeError\u001b[0m: 'utf-8' codec can't decode byte 0xe1 in position 100: invalid continuation byte"
     ]
    },
    {
     "name": "stderr",
     "output_type": "stream",
     "text": [
      "Exception ignored in: 'rasterio._env.log_error'\n",
      "Traceback (most recent call last):\n",
      "  File \"C:\\Users\\kovar\\AppData\\Roaming\\Python\\Python39\\site-packages\\rasterio\\env.py\", line 338, in defenv\n",
      "    local._env.start()\n",
      "UnicodeDecodeError: 'utf-8' codec can't decode byte 0xe1 in position 100: invalid continuation byte\n"
     ]
    },
    {
     "ename": "UnicodeDecodeError",
     "evalue": "'utf-8' codec can't decode byte 0xe1 in position 100: invalid continuation byte",
     "output_type": "error",
     "traceback": [
      "\u001b[1;31m---------------------------------------------------------------------------\u001b[0m",
      "\u001b[1;31mUnicodeDecodeError\u001b[0m                        Traceback (most recent call last)",
      "\u001b[1;31mUnicodeDecodeError\u001b[0m: 'utf-8' codec can't decode byte 0xe1 in position 100: invalid continuation byte"
     ]
    },
    {
     "name": "stderr",
     "output_type": "stream",
     "text": [
      "Exception ignored in: 'rasterio._env.log_error'\n",
      "Traceback (most recent call last):\n",
      "  File \"C:\\Users\\kovar\\AppData\\Roaming\\Python\\Python39\\site-packages\\rasterio\\env.py\", line 338, in defenv\n",
      "    local._env.start()\n",
      "UnicodeDecodeError: 'utf-8' codec can't decode byte 0xe1 in position 100: invalid continuation byte\n"
     ]
    },
    {
     "ename": "UnicodeDecodeError",
     "evalue": "'utf-8' codec can't decode byte 0xe1 in position 100: invalid continuation byte",
     "output_type": "error",
     "traceback": [
      "\u001b[1;31m---------------------------------------------------------------------------\u001b[0m",
      "\u001b[1;31mUnicodeDecodeError\u001b[0m                        Traceback (most recent call last)",
      "\u001b[1;31mUnicodeDecodeError\u001b[0m: 'utf-8' codec can't decode byte 0xe1 in position 100: invalid continuation byte"
     ]
    },
    {
     "name": "stderr",
     "output_type": "stream",
     "text": [
      "Exception ignored in: 'rasterio._env.log_error'\n",
      "Traceback (most recent call last):\n",
      "  File \"C:\\Users\\kovar\\AppData\\Roaming\\Python\\Python39\\site-packages\\rasterio\\env.py\", line 338, in defenv\n",
      "    local._env.start()\n",
      "UnicodeDecodeError: 'utf-8' codec can't decode byte 0xe1 in position 100: invalid continuation byte\n"
     ]
    },
    {
     "ename": "UnicodeDecodeError",
     "evalue": "'utf-8' codec can't decode byte 0xe1 in position 100: invalid continuation byte",
     "output_type": "error",
     "traceback": [
      "\u001b[1;31m---------------------------------------------------------------------------\u001b[0m",
      "\u001b[1;31mUnicodeDecodeError\u001b[0m                        Traceback (most recent call last)",
      "\u001b[1;31mUnicodeDecodeError\u001b[0m: 'utf-8' codec can't decode byte 0xe1 in position 100: invalid continuation byte"
     ]
    },
    {
     "name": "stderr",
     "output_type": "stream",
     "text": [
      "Exception ignored in: 'rasterio._env.log_error'\n",
      "Traceback (most recent call last):\n",
      "  File \"C:\\Users\\kovar\\AppData\\Roaming\\Python\\Python39\\site-packages\\rasterio\\env.py\", line 338, in defenv\n",
      "    local._env.start()\n",
      "UnicodeDecodeError: 'utf-8' codec can't decode byte 0xe1 in position 100: invalid continuation byte\n"
     ]
    },
    {
     "ename": "UnicodeDecodeError",
     "evalue": "'utf-8' codec can't decode byte 0xe1 in position 101: invalid continuation byte",
     "output_type": "error",
     "traceback": [
      "\u001b[1;31m---------------------------------------------------------------------------\u001b[0m",
      "\u001b[1;31mUnicodeDecodeError\u001b[0m                        Traceback (most recent call last)",
      "\u001b[1;31mUnicodeDecodeError\u001b[0m: 'utf-8' codec can't decode byte 0xe1 in position 101: invalid continuation byte"
     ]
    },
    {
     "name": "stderr",
     "output_type": "stream",
     "text": [
      "Exception ignored in: 'rasterio._env.log_error'\n",
      "Traceback (most recent call last):\n",
      "  File \"C:\\Users\\kovar\\AppData\\Roaming\\Python\\Python39\\site-packages\\rasterio\\env.py\", line 338, in defenv\n",
      "    local._env.start()\n",
      "UnicodeDecodeError: 'utf-8' codec can't decode byte 0xe1 in position 101: invalid continuation byte\n"
     ]
    },
    {
     "ename": "UnicodeDecodeError",
     "evalue": "'utf-8' codec can't decode byte 0xe1 in position 101: invalid continuation byte",
     "output_type": "error",
     "traceback": [
      "\u001b[1;31m---------------------------------------------------------------------------\u001b[0m",
      "\u001b[1;31mUnicodeDecodeError\u001b[0m                        Traceback (most recent call last)",
      "\u001b[1;31mUnicodeDecodeError\u001b[0m: 'utf-8' codec can't decode byte 0xe1 in position 101: invalid continuation byte"
     ]
    },
    {
     "name": "stderr",
     "output_type": "stream",
     "text": [
      "Exception ignored in: 'rasterio._env.log_error'\n",
      "Traceback (most recent call last):\n",
      "  File \"C:\\Users\\kovar\\AppData\\Roaming\\Python\\Python39\\site-packages\\rasterio\\env.py\", line 338, in defenv\n",
      "    local._env.start()\n",
      "UnicodeDecodeError: 'utf-8' codec can't decode byte 0xe1 in position 101: invalid continuation byte\n"
     ]
    },
    {
     "ename": "UnicodeDecodeError",
     "evalue": "'utf-8' codec can't decode byte 0xe1 in position 107: invalid continuation byte",
     "output_type": "error",
     "traceback": [
      "\u001b[1;31m---------------------------------------------------------------------------\u001b[0m",
      "\u001b[1;31mUnicodeDecodeError\u001b[0m                        Traceback (most recent call last)",
      "\u001b[1;31mUnicodeDecodeError\u001b[0m: 'utf-8' codec can't decode byte 0xe1 in position 107: invalid continuation byte"
     ]
    },
    {
     "name": "stderr",
     "output_type": "stream",
     "text": [
      "Exception ignored in: 'rasterio._env.log_error'\n",
      "Traceback (most recent call last):\n",
      "  File \"C:\\Users\\kovar\\AppData\\Roaming\\Python\\Python39\\site-packages\\rasterio\\env.py\", line 338, in defenv\n",
      "    local._env.start()\n",
      "UnicodeDecodeError: 'utf-8' codec can't decode byte 0xe1 in position 107: invalid continuation byte\n"
     ]
    },
    {
     "ename": "UnicodeDecodeError",
     "evalue": "'utf-8' codec can't decode byte 0xe1 in position 107: invalid continuation byte",
     "output_type": "error",
     "traceback": [
      "\u001b[1;31m---------------------------------------------------------------------------\u001b[0m",
      "\u001b[1;31mUnicodeDecodeError\u001b[0m                        Traceback (most recent call last)",
      "\u001b[1;31mUnicodeDecodeError\u001b[0m: 'utf-8' codec can't decode byte 0xe1 in position 107: invalid continuation byte"
     ]
    },
    {
     "name": "stderr",
     "output_type": "stream",
     "text": [
      "Exception ignored in: 'rasterio._env.log_error'\n",
      "Traceback (most recent call last):\n",
      "  File \"C:\\Users\\kovar\\AppData\\Roaming\\Python\\Python39\\site-packages\\rasterio\\env.py\", line 338, in defenv\n",
      "    local._env.start()\n",
      "UnicodeDecodeError: 'utf-8' codec can't decode byte 0xe1 in position 107: invalid continuation byte\n"
     ]
    },
    {
     "ename": "UnicodeDecodeError",
     "evalue": "'utf-8' codec can't decode byte 0xe1 in position 98: invalid continuation byte",
     "output_type": "error",
     "traceback": [
      "\u001b[1;31m---------------------------------------------------------------------------\u001b[0m",
      "\u001b[1;31mUnicodeDecodeError\u001b[0m                        Traceback (most recent call last)",
      "\u001b[1;31mUnicodeDecodeError\u001b[0m: 'utf-8' codec can't decode byte 0xe1 in position 98: invalid continuation byte"
     ]
    },
    {
     "name": "stderr",
     "output_type": "stream",
     "text": [
      "Exception ignored in: 'rasterio._env.log_error'\n",
      "Traceback (most recent call last):\n",
      "  File \"C:\\Users\\kovar\\AppData\\Roaming\\Python\\Python39\\site-packages\\rasterio\\env.py\", line 338, in defenv\n",
      "    local._env.start()\n",
      "UnicodeDecodeError: 'utf-8' codec can't decode byte 0xe1 in position 98: invalid continuation byte\n"
     ]
    },
    {
     "ename": "UnicodeDecodeError",
     "evalue": "'utf-8' codec can't decode byte 0xe1 in position 98: invalid continuation byte",
     "output_type": "error",
     "traceback": [
      "\u001b[1;31m---------------------------------------------------------------------------\u001b[0m",
      "\u001b[1;31mUnicodeDecodeError\u001b[0m                        Traceback (most recent call last)",
      "\u001b[1;31mUnicodeDecodeError\u001b[0m: 'utf-8' codec can't decode byte 0xe1 in position 98: invalid continuation byte"
     ]
    },
    {
     "name": "stderr",
     "output_type": "stream",
     "text": [
      "Exception ignored in: 'rasterio._env.log_error'\n",
      "Traceback (most recent call last):\n",
      "  File \"C:\\Users\\kovar\\AppData\\Roaming\\Python\\Python39\\site-packages\\rasterio\\env.py\", line 338, in defenv\n",
      "    local._env.start()\n",
      "UnicodeDecodeError: 'utf-8' codec can't decode byte 0xe1 in position 98: invalid continuation byte\n"
     ]
    },
    {
     "ename": "UnicodeDecodeError",
     "evalue": "'utf-8' codec can't decode byte 0xe1 in position 99: invalid continuation byte",
     "output_type": "error",
     "traceback": [
      "\u001b[1;31m---------------------------------------------------------------------------\u001b[0m",
      "\u001b[1;31mUnicodeDecodeError\u001b[0m                        Traceback (most recent call last)",
      "\u001b[1;31mUnicodeDecodeError\u001b[0m: 'utf-8' codec can't decode byte 0xe1 in position 99: invalid continuation byte"
     ]
    },
    {
     "name": "stderr",
     "output_type": "stream",
     "text": [
      "Exception ignored in: 'rasterio._env.log_error'\n",
      "Traceback (most recent call last):\n",
      "  File \"C:\\Users\\kovar\\AppData\\Roaming\\Python\\Python39\\site-packages\\rasterio\\env.py\", line 338, in defenv\n",
      "    local._env.start()\n",
      "UnicodeDecodeError: 'utf-8' codec can't decode byte 0xe1 in position 99: invalid continuation byte\n"
     ]
    },
    {
     "ename": "UnicodeDecodeError",
     "evalue": "'utf-8' codec can't decode byte 0xe1 in position 99: invalid continuation byte",
     "output_type": "error",
     "traceback": [
      "\u001b[1;31m---------------------------------------------------------------------------\u001b[0m",
      "\u001b[1;31mUnicodeDecodeError\u001b[0m                        Traceback (most recent call last)",
      "\u001b[1;31mUnicodeDecodeError\u001b[0m: 'utf-8' codec can't decode byte 0xe1 in position 99: invalid continuation byte"
     ]
    },
    {
     "name": "stderr",
     "output_type": "stream",
     "text": [
      "Exception ignored in: 'rasterio._env.log_error'\n",
      "Traceback (most recent call last):\n",
      "  File \"C:\\Users\\kovar\\AppData\\Roaming\\Python\\Python39\\site-packages\\rasterio\\env.py\", line 338, in defenv\n",
      "    local._env.start()\n",
      "UnicodeDecodeError: 'utf-8' codec can't decode byte 0xe1 in position 99: invalid continuation byte\n"
     ]
    },
    {
     "ename": "UnicodeDecodeError",
     "evalue": "'utf-8' codec can't decode byte 0xe1 in position 106: invalid continuation byte",
     "output_type": "error",
     "traceback": [
      "\u001b[1;31m---------------------------------------------------------------------------\u001b[0m",
      "\u001b[1;31mUnicodeDecodeError\u001b[0m                        Traceback (most recent call last)",
      "\u001b[1;31mUnicodeDecodeError\u001b[0m: 'utf-8' codec can't decode byte 0xe1 in position 106: invalid continuation byte"
     ]
    },
    {
     "name": "stderr",
     "output_type": "stream",
     "text": [
      "Exception ignored in: 'rasterio._env.log_error'\n",
      "Traceback (most recent call last):\n",
      "  File \"C:\\Users\\kovar\\AppData\\Roaming\\Python\\Python39\\site-packages\\rasterio\\env.py\", line 338, in defenv\n",
      "    local._env.start()\n",
      "UnicodeDecodeError: 'utf-8' codec can't decode byte 0xe1 in position 106: invalid continuation byte\n"
     ]
    },
    {
     "ename": "UnicodeDecodeError",
     "evalue": "'utf-8' codec can't decode byte 0xe1 in position 106: invalid continuation byte",
     "output_type": "error",
     "traceback": [
      "\u001b[1;31m---------------------------------------------------------------------------\u001b[0m",
      "\u001b[1;31mUnicodeDecodeError\u001b[0m                        Traceback (most recent call last)",
      "\u001b[1;31mUnicodeDecodeError\u001b[0m: 'utf-8' codec can't decode byte 0xe1 in position 106: invalid continuation byte"
     ]
    },
    {
     "name": "stderr",
     "output_type": "stream",
     "text": [
      "Exception ignored in: 'rasterio._env.log_error'\n",
      "Traceback (most recent call last):\n",
      "  File \"C:\\Users\\kovar\\AppData\\Roaming\\Python\\Python39\\site-packages\\rasterio\\env.py\", line 338, in defenv\n",
      "    local._env.start()\n",
      "UnicodeDecodeError: 'utf-8' codec can't decode byte 0xe1 in position 106: invalid continuation byte\n"
     ]
    },
    {
     "ename": "UnicodeDecodeError",
     "evalue": "'utf-8' codec can't decode byte 0xe1 in position 100: invalid continuation byte",
     "output_type": "error",
     "traceback": [
      "\u001b[1;31m---------------------------------------------------------------------------\u001b[0m",
      "\u001b[1;31mUnicodeDecodeError\u001b[0m                        Traceback (most recent call last)",
      "\u001b[1;31mUnicodeDecodeError\u001b[0m: 'utf-8' codec can't decode byte 0xe1 in position 100: invalid continuation byte"
     ]
    },
    {
     "name": "stderr",
     "output_type": "stream",
     "text": [
      "Exception ignored in: 'rasterio._env.log_error'\n",
      "Traceback (most recent call last):\n",
      "  File \"C:\\Users\\kovar\\AppData\\Roaming\\Python\\Python39\\site-packages\\rasterio\\env.py\", line 338, in defenv\n",
      "    local._env.start()\n",
      "UnicodeDecodeError: 'utf-8' codec can't decode byte 0xe1 in position 100: invalid continuation byte\n"
     ]
    },
    {
     "ename": "UnicodeDecodeError",
     "evalue": "'utf-8' codec can't decode byte 0xe1 in position 100: invalid continuation byte",
     "output_type": "error",
     "traceback": [
      "\u001b[1;31m---------------------------------------------------------------------------\u001b[0m",
      "\u001b[1;31mUnicodeDecodeError\u001b[0m                        Traceback (most recent call last)",
      "\u001b[1;31mUnicodeDecodeError\u001b[0m: 'utf-8' codec can't decode byte 0xe1 in position 100: invalid continuation byte"
     ]
    },
    {
     "name": "stderr",
     "output_type": "stream",
     "text": [
      "Exception ignored in: 'rasterio._env.log_error'\n",
      "Traceback (most recent call last):\n",
      "  File \"C:\\Users\\kovar\\AppData\\Roaming\\Python\\Python39\\site-packages\\rasterio\\env.py\", line 338, in defenv\n",
      "    local._env.start()\n",
      "UnicodeDecodeError: 'utf-8' codec can't decode byte 0xe1 in position 100: invalid continuation byte\n"
     ]
    },
    {
     "ename": "UnicodeDecodeError",
     "evalue": "'utf-8' codec can't decode byte 0xe1 in position 100: invalid continuation byte",
     "output_type": "error",
     "traceback": [
      "\u001b[1;31m---------------------------------------------------------------------------\u001b[0m",
      "\u001b[1;31mUnicodeDecodeError\u001b[0m                        Traceback (most recent call last)",
      "\u001b[1;31mUnicodeDecodeError\u001b[0m: 'utf-8' codec can't decode byte 0xe1 in position 100: invalid continuation byte"
     ]
    },
    {
     "name": "stderr",
     "output_type": "stream",
     "text": [
      "Exception ignored in: 'rasterio._env.log_error'\n",
      "Traceback (most recent call last):\n",
      "  File \"C:\\Users\\kovar\\AppData\\Roaming\\Python\\Python39\\site-packages\\rasterio\\env.py\", line 338, in defenv\n",
      "    local._env.start()\n",
      "UnicodeDecodeError: 'utf-8' codec can't decode byte 0xe1 in position 100: invalid continuation byte\n"
     ]
    },
    {
     "ename": "UnicodeDecodeError",
     "evalue": "'utf-8' codec can't decode byte 0xe1 in position 100: invalid continuation byte",
     "output_type": "error",
     "traceback": [
      "\u001b[1;31m---------------------------------------------------------------------------\u001b[0m",
      "\u001b[1;31mUnicodeDecodeError\u001b[0m                        Traceback (most recent call last)",
      "\u001b[1;31mUnicodeDecodeError\u001b[0m: 'utf-8' codec can't decode byte 0xe1 in position 100: invalid continuation byte"
     ]
    },
    {
     "name": "stderr",
     "output_type": "stream",
     "text": [
      "Exception ignored in: 'rasterio._env.log_error'\n",
      "Traceback (most recent call last):\n",
      "  File \"C:\\Users\\kovar\\AppData\\Roaming\\Python\\Python39\\site-packages\\rasterio\\env.py\", line 338, in defenv\n",
      "    local._env.start()\n",
      "UnicodeDecodeError: 'utf-8' codec can't decode byte 0xe1 in position 100: invalid continuation byte\n"
     ]
    },
    {
     "ename": "UnicodeDecodeError",
     "evalue": "'utf-8' codec can't decode byte 0xe1 in position 101: invalid continuation byte",
     "output_type": "error",
     "traceback": [
      "\u001b[1;31m---------------------------------------------------------------------------\u001b[0m",
      "\u001b[1;31mUnicodeDecodeError\u001b[0m                        Traceback (most recent call last)",
      "\u001b[1;31mUnicodeDecodeError\u001b[0m: 'utf-8' codec can't decode byte 0xe1 in position 101: invalid continuation byte"
     ]
    },
    {
     "name": "stderr",
     "output_type": "stream",
     "text": [
      "Exception ignored in: 'rasterio._env.log_error'\n",
      "Traceback (most recent call last):\n",
      "  File \"C:\\Users\\kovar\\AppData\\Roaming\\Python\\Python39\\site-packages\\rasterio\\env.py\", line 338, in defenv\n",
      "    local._env.start()\n",
      "UnicodeDecodeError: 'utf-8' codec can't decode byte 0xe1 in position 101: invalid continuation byte\n"
     ]
    },
    {
     "ename": "UnicodeDecodeError",
     "evalue": "'utf-8' codec can't decode byte 0xe1 in position 101: invalid continuation byte",
     "output_type": "error",
     "traceback": [
      "\u001b[1;31m---------------------------------------------------------------------------\u001b[0m",
      "\u001b[1;31mUnicodeDecodeError\u001b[0m                        Traceback (most recent call last)",
      "\u001b[1;31mUnicodeDecodeError\u001b[0m: 'utf-8' codec can't decode byte 0xe1 in position 101: invalid continuation byte"
     ]
    },
    {
     "name": "stderr",
     "output_type": "stream",
     "text": [
      "Exception ignored in: 'rasterio._env.log_error'\n",
      "Traceback (most recent call last):\n",
      "  File \"C:\\Users\\kovar\\AppData\\Roaming\\Python\\Python39\\site-packages\\rasterio\\env.py\", line 338, in defenv\n",
      "    local._env.start()\n",
      "UnicodeDecodeError: 'utf-8' codec can't decode byte 0xe1 in position 101: invalid continuation byte\n"
     ]
    },
    {
     "ename": "UnicodeDecodeError",
     "evalue": "'utf-8' codec can't decode byte 0xe1 in position 107: invalid continuation byte",
     "output_type": "error",
     "traceback": [
      "\u001b[1;31m---------------------------------------------------------------------------\u001b[0m",
      "\u001b[1;31mUnicodeDecodeError\u001b[0m                        Traceback (most recent call last)",
      "\u001b[1;31mUnicodeDecodeError\u001b[0m: 'utf-8' codec can't decode byte 0xe1 in position 107: invalid continuation byte"
     ]
    },
    {
     "name": "stderr",
     "output_type": "stream",
     "text": [
      "Exception ignored in: 'rasterio._env.log_error'\n",
      "Traceback (most recent call last):\n",
      "  File \"C:\\Users\\kovar\\AppData\\Roaming\\Python\\Python39\\site-packages\\rasterio\\env.py\", line 338, in defenv\n",
      "    local._env.start()\n",
      "UnicodeDecodeError: 'utf-8' codec can't decode byte 0xe1 in position 107: invalid continuation byte\n"
     ]
    },
    {
     "ename": "UnicodeDecodeError",
     "evalue": "'utf-8' codec can't decode byte 0xe1 in position 107: invalid continuation byte",
     "output_type": "error",
     "traceback": [
      "\u001b[1;31m---------------------------------------------------------------------------\u001b[0m",
      "\u001b[1;31mUnicodeDecodeError\u001b[0m                        Traceback (most recent call last)",
      "\u001b[1;31mUnicodeDecodeError\u001b[0m: 'utf-8' codec can't decode byte 0xe1 in position 107: invalid continuation byte"
     ]
    },
    {
     "name": "stderr",
     "output_type": "stream",
     "text": [
      "Exception ignored in: 'rasterio._env.log_error'\n",
      "Traceback (most recent call last):\n",
      "  File \"C:\\Users\\kovar\\AppData\\Roaming\\Python\\Python39\\site-packages\\rasterio\\env.py\", line 338, in defenv\n",
      "    local._env.start()\n",
      "UnicodeDecodeError: 'utf-8' codec can't decode byte 0xe1 in position 107: invalid continuation byte\n"
     ]
    },
    {
     "ename": "UnicodeDecodeError",
     "evalue": "'utf-8' codec can't decode byte 0xe1 in position 98: invalid continuation byte",
     "output_type": "error",
     "traceback": [
      "\u001b[1;31m---------------------------------------------------------------------------\u001b[0m",
      "\u001b[1;31mUnicodeDecodeError\u001b[0m                        Traceback (most recent call last)",
      "\u001b[1;31mUnicodeDecodeError\u001b[0m: 'utf-8' codec can't decode byte 0xe1 in position 98: invalid continuation byte"
     ]
    },
    {
     "name": "stderr",
     "output_type": "stream",
     "text": [
      "Exception ignored in: 'rasterio._env.log_error'\n",
      "Traceback (most recent call last):\n",
      "  File \"C:\\Users\\kovar\\AppData\\Roaming\\Python\\Python39\\site-packages\\rasterio\\env.py\", line 338, in defenv\n",
      "    local._env.start()\n",
      "UnicodeDecodeError: 'utf-8' codec can't decode byte 0xe1 in position 98: invalid continuation byte\n"
     ]
    },
    {
     "ename": "UnicodeDecodeError",
     "evalue": "'utf-8' codec can't decode byte 0xe1 in position 98: invalid continuation byte",
     "output_type": "error",
     "traceback": [
      "\u001b[1;31m---------------------------------------------------------------------------\u001b[0m",
      "\u001b[1;31mUnicodeDecodeError\u001b[0m                        Traceback (most recent call last)",
      "\u001b[1;31mUnicodeDecodeError\u001b[0m: 'utf-8' codec can't decode byte 0xe1 in position 98: invalid continuation byte"
     ]
    },
    {
     "name": "stderr",
     "output_type": "stream",
     "text": [
      "Exception ignored in: 'rasterio._env.log_error'\n",
      "Traceback (most recent call last):\n",
      "  File \"C:\\Users\\kovar\\AppData\\Roaming\\Python\\Python39\\site-packages\\rasterio\\env.py\", line 338, in defenv\n",
      "    local._env.start()\n",
      "UnicodeDecodeError: 'utf-8' codec can't decode byte 0xe1 in position 98: invalid continuation byte\n"
     ]
    },
    {
     "ename": "UnicodeDecodeError",
     "evalue": "'utf-8' codec can't decode byte 0xe1 in position 99: invalid continuation byte",
     "output_type": "error",
     "traceback": [
      "\u001b[1;31m---------------------------------------------------------------------------\u001b[0m",
      "\u001b[1;31mUnicodeDecodeError\u001b[0m                        Traceback (most recent call last)",
      "\u001b[1;31mUnicodeDecodeError\u001b[0m: 'utf-8' codec can't decode byte 0xe1 in position 99: invalid continuation byte"
     ]
    },
    {
     "name": "stderr",
     "output_type": "stream",
     "text": [
      "Exception ignored in: 'rasterio._env.log_error'\n",
      "Traceback (most recent call last):\n",
      "  File \"C:\\Users\\kovar\\AppData\\Roaming\\Python\\Python39\\site-packages\\rasterio\\env.py\", line 338, in defenv\n",
      "    local._env.start()\n",
      "UnicodeDecodeError: 'utf-8' codec can't decode byte 0xe1 in position 99: invalid continuation byte\n"
     ]
    },
    {
     "ename": "UnicodeDecodeError",
     "evalue": "'utf-8' codec can't decode byte 0xe1 in position 99: invalid continuation byte",
     "output_type": "error",
     "traceback": [
      "\u001b[1;31m---------------------------------------------------------------------------\u001b[0m",
      "\u001b[1;31mUnicodeDecodeError\u001b[0m                        Traceback (most recent call last)",
      "\u001b[1;31mUnicodeDecodeError\u001b[0m: 'utf-8' codec can't decode byte 0xe1 in position 99: invalid continuation byte"
     ]
    },
    {
     "name": "stderr",
     "output_type": "stream",
     "text": [
      "Exception ignored in: 'rasterio._env.log_error'\n",
      "Traceback (most recent call last):\n",
      "  File \"C:\\Users\\kovar\\AppData\\Roaming\\Python\\Python39\\site-packages\\rasterio\\env.py\", line 338, in defenv\n",
      "    local._env.start()\n",
      "UnicodeDecodeError: 'utf-8' codec can't decode byte 0xe1 in position 99: invalid continuation byte\n"
     ]
    },
    {
     "ename": "UnicodeDecodeError",
     "evalue": "'utf-8' codec can't decode byte 0xe1 in position 106: invalid continuation byte",
     "output_type": "error",
     "traceback": [
      "\u001b[1;31m---------------------------------------------------------------------------\u001b[0m",
      "\u001b[1;31mUnicodeDecodeError\u001b[0m                        Traceback (most recent call last)",
      "\u001b[1;31mUnicodeDecodeError\u001b[0m: 'utf-8' codec can't decode byte 0xe1 in position 106: invalid continuation byte"
     ]
    },
    {
     "name": "stderr",
     "output_type": "stream",
     "text": [
      "Exception ignored in: 'rasterio._env.log_error'\n",
      "Traceback (most recent call last):\n",
      "  File \"C:\\Users\\kovar\\AppData\\Roaming\\Python\\Python39\\site-packages\\rasterio\\env.py\", line 338, in defenv\n",
      "    local._env.start()\n",
      "UnicodeDecodeError: 'utf-8' codec can't decode byte 0xe1 in position 106: invalid continuation byte\n"
     ]
    },
    {
     "ename": "UnicodeDecodeError",
     "evalue": "'utf-8' codec can't decode byte 0xe1 in position 106: invalid continuation byte",
     "output_type": "error",
     "traceback": [
      "\u001b[1;31m---------------------------------------------------------------------------\u001b[0m",
      "\u001b[1;31mUnicodeDecodeError\u001b[0m                        Traceback (most recent call last)",
      "\u001b[1;31mUnicodeDecodeError\u001b[0m: 'utf-8' codec can't decode byte 0xe1 in position 106: invalid continuation byte"
     ]
    },
    {
     "name": "stderr",
     "output_type": "stream",
     "text": [
      "Exception ignored in: 'rasterio._env.log_error'\n",
      "Traceback (most recent call last):\n",
      "  File \"C:\\Users\\kovar\\AppData\\Roaming\\Python\\Python39\\site-packages\\rasterio\\env.py\", line 338, in defenv\n",
      "    local._env.start()\n",
      "UnicodeDecodeError: 'utf-8' codec can't decode byte 0xe1 in position 106: invalid continuation byte\n"
     ]
    },
    {
     "ename": "UnicodeDecodeError",
     "evalue": "'utf-8' codec can't decode byte 0xe1 in position 100: invalid continuation byte",
     "output_type": "error",
     "traceback": [
      "\u001b[1;31m---------------------------------------------------------------------------\u001b[0m",
      "\u001b[1;31mUnicodeDecodeError\u001b[0m                        Traceback (most recent call last)",
      "\u001b[1;31mUnicodeDecodeError\u001b[0m: 'utf-8' codec can't decode byte 0xe1 in position 100: invalid continuation byte"
     ]
    },
    {
     "name": "stderr",
     "output_type": "stream",
     "text": [
      "Exception ignored in: 'rasterio._env.log_error'\n",
      "Traceback (most recent call last):\n",
      "  File \"C:\\Users\\kovar\\AppData\\Roaming\\Python\\Python39\\site-packages\\rasterio\\env.py\", line 338, in defenv\n",
      "    local._env.start()\n",
      "UnicodeDecodeError: 'utf-8' codec can't decode byte 0xe1 in position 100: invalid continuation byte\n"
     ]
    },
    {
     "ename": "UnicodeDecodeError",
     "evalue": "'utf-8' codec can't decode byte 0xe1 in position 100: invalid continuation byte",
     "output_type": "error",
     "traceback": [
      "\u001b[1;31m---------------------------------------------------------------------------\u001b[0m",
      "\u001b[1;31mUnicodeDecodeError\u001b[0m                        Traceback (most recent call last)",
      "\u001b[1;31mUnicodeDecodeError\u001b[0m: 'utf-8' codec can't decode byte 0xe1 in position 100: invalid continuation byte"
     ]
    },
    {
     "name": "stderr",
     "output_type": "stream",
     "text": [
      "Exception ignored in: 'rasterio._env.log_error'\n",
      "Traceback (most recent call last):\n",
      "  File \"C:\\Users\\kovar\\AppData\\Roaming\\Python\\Python39\\site-packages\\rasterio\\env.py\", line 338, in defenv\n",
      "    local._env.start()\n",
      "UnicodeDecodeError: 'utf-8' codec can't decode byte 0xe1 in position 100: invalid continuation byte\n"
     ]
    },
    {
     "ename": "UnicodeDecodeError",
     "evalue": "'utf-8' codec can't decode byte 0xe1 in position 100: invalid continuation byte",
     "output_type": "error",
     "traceback": [
      "\u001b[1;31m---------------------------------------------------------------------------\u001b[0m",
      "\u001b[1;31mUnicodeDecodeError\u001b[0m                        Traceback (most recent call last)",
      "\u001b[1;31mUnicodeDecodeError\u001b[0m: 'utf-8' codec can't decode byte 0xe1 in position 100: invalid continuation byte"
     ]
    },
    {
     "name": "stderr",
     "output_type": "stream",
     "text": [
      "Exception ignored in: 'rasterio._env.log_error'\n",
      "Traceback (most recent call last):\n",
      "  File \"C:\\Users\\kovar\\AppData\\Roaming\\Python\\Python39\\site-packages\\rasterio\\env.py\", line 338, in defenv\n",
      "    local._env.start()\n",
      "UnicodeDecodeError: 'utf-8' codec can't decode byte 0xe1 in position 100: invalid continuation byte\n"
     ]
    },
    {
     "ename": "UnicodeDecodeError",
     "evalue": "'utf-8' codec can't decode byte 0xe1 in position 100: invalid continuation byte",
     "output_type": "error",
     "traceback": [
      "\u001b[1;31m---------------------------------------------------------------------------\u001b[0m",
      "\u001b[1;31mUnicodeDecodeError\u001b[0m                        Traceback (most recent call last)",
      "\u001b[1;31mUnicodeDecodeError\u001b[0m: 'utf-8' codec can't decode byte 0xe1 in position 100: invalid continuation byte"
     ]
    },
    {
     "name": "stderr",
     "output_type": "stream",
     "text": [
      "Exception ignored in: 'rasterio._env.log_error'\n",
      "Traceback (most recent call last):\n",
      "  File \"C:\\Users\\kovar\\AppData\\Roaming\\Python\\Python39\\site-packages\\rasterio\\env.py\", line 338, in defenv\n",
      "    local._env.start()\n",
      "UnicodeDecodeError: 'utf-8' codec can't decode byte 0xe1 in position 100: invalid continuation byte\n"
     ]
    },
    {
     "ename": "UnicodeDecodeError",
     "evalue": "'utf-8' codec can't decode byte 0xe1 in position 101: invalid continuation byte",
     "output_type": "error",
     "traceback": [
      "\u001b[1;31m---------------------------------------------------------------------------\u001b[0m",
      "\u001b[1;31mUnicodeDecodeError\u001b[0m                        Traceback (most recent call last)",
      "\u001b[1;31mUnicodeDecodeError\u001b[0m: 'utf-8' codec can't decode byte 0xe1 in position 101: invalid continuation byte"
     ]
    },
    {
     "name": "stderr",
     "output_type": "stream",
     "text": [
      "Exception ignored in: 'rasterio._env.log_error'\n",
      "Traceback (most recent call last):\n",
      "  File \"C:\\Users\\kovar\\AppData\\Roaming\\Python\\Python39\\site-packages\\rasterio\\env.py\", line 338, in defenv\n",
      "    local._env.start()\n",
      "UnicodeDecodeError: 'utf-8' codec can't decode byte 0xe1 in position 101: invalid continuation byte\n"
     ]
    },
    {
     "ename": "UnicodeDecodeError",
     "evalue": "'utf-8' codec can't decode byte 0xe1 in position 101: invalid continuation byte",
     "output_type": "error",
     "traceback": [
      "\u001b[1;31m---------------------------------------------------------------------------\u001b[0m",
      "\u001b[1;31mUnicodeDecodeError\u001b[0m                        Traceback (most recent call last)",
      "\u001b[1;31mUnicodeDecodeError\u001b[0m: 'utf-8' codec can't decode byte 0xe1 in position 101: invalid continuation byte"
     ]
    },
    {
     "name": "stderr",
     "output_type": "stream",
     "text": [
      "Exception ignored in: 'rasterio._env.log_error'\n",
      "Traceback (most recent call last):\n",
      "  File \"C:\\Users\\kovar\\AppData\\Roaming\\Python\\Python39\\site-packages\\rasterio\\env.py\", line 338, in defenv\n",
      "    local._env.start()\n",
      "UnicodeDecodeError: 'utf-8' codec can't decode byte 0xe1 in position 101: invalid continuation byte\n"
     ]
    },
    {
     "ename": "UnicodeDecodeError",
     "evalue": "'utf-8' codec can't decode byte 0xe1 in position 107: invalid continuation byte",
     "output_type": "error",
     "traceback": [
      "\u001b[1;31m---------------------------------------------------------------------------\u001b[0m",
      "\u001b[1;31mUnicodeDecodeError\u001b[0m                        Traceback (most recent call last)",
      "\u001b[1;31mUnicodeDecodeError\u001b[0m: 'utf-8' codec can't decode byte 0xe1 in position 107: invalid continuation byte"
     ]
    },
    {
     "name": "stderr",
     "output_type": "stream",
     "text": [
      "Exception ignored in: 'rasterio._env.log_error'\n",
      "Traceback (most recent call last):\n",
      "  File \"C:\\Users\\kovar\\AppData\\Roaming\\Python\\Python39\\site-packages\\rasterio\\env.py\", line 338, in defenv\n",
      "    local._env.start()\n",
      "UnicodeDecodeError: 'utf-8' codec can't decode byte 0xe1 in position 107: invalid continuation byte\n"
     ]
    },
    {
     "ename": "UnicodeDecodeError",
     "evalue": "'utf-8' codec can't decode byte 0xe1 in position 107: invalid continuation byte",
     "output_type": "error",
     "traceback": [
      "\u001b[1;31m---------------------------------------------------------------------------\u001b[0m",
      "\u001b[1;31mUnicodeDecodeError\u001b[0m                        Traceback (most recent call last)",
      "\u001b[1;31mUnicodeDecodeError\u001b[0m: 'utf-8' codec can't decode byte 0xe1 in position 107: invalid continuation byte"
     ]
    },
    {
     "name": "stderr",
     "output_type": "stream",
     "text": [
      "Exception ignored in: 'rasterio._env.log_error'\n",
      "Traceback (most recent call last):\n",
      "  File \"C:\\Users\\kovar\\AppData\\Roaming\\Python\\Python39\\site-packages\\rasterio\\env.py\", line 338, in defenv\n",
      "    local._env.start()\n",
      "UnicodeDecodeError: 'utf-8' codec can't decode byte 0xe1 in position 107: invalid continuation byte\n"
     ]
    },
    {
     "ename": "UnicodeDecodeError",
     "evalue": "'utf-8' codec can't decode byte 0xe1 in position 98: invalid continuation byte",
     "output_type": "error",
     "traceback": [
      "\u001b[1;31m---------------------------------------------------------------------------\u001b[0m",
      "\u001b[1;31mUnicodeDecodeError\u001b[0m                        Traceback (most recent call last)",
      "\u001b[1;31mUnicodeDecodeError\u001b[0m: 'utf-8' codec can't decode byte 0xe1 in position 98: invalid continuation byte"
     ]
    },
    {
     "name": "stderr",
     "output_type": "stream",
     "text": [
      "Exception ignored in: 'rasterio._env.log_error'\n",
      "Traceback (most recent call last):\n",
      "  File \"C:\\Users\\kovar\\AppData\\Roaming\\Python\\Python39\\site-packages\\rasterio\\env.py\", line 338, in defenv\n",
      "    local._env.start()\n",
      "UnicodeDecodeError: 'utf-8' codec can't decode byte 0xe1 in position 98: invalid continuation byte\n"
     ]
    },
    {
     "ename": "UnicodeDecodeError",
     "evalue": "'utf-8' codec can't decode byte 0xe1 in position 98: invalid continuation byte",
     "output_type": "error",
     "traceback": [
      "\u001b[1;31m---------------------------------------------------------------------------\u001b[0m",
      "\u001b[1;31mUnicodeDecodeError\u001b[0m                        Traceback (most recent call last)",
      "\u001b[1;31mUnicodeDecodeError\u001b[0m: 'utf-8' codec can't decode byte 0xe1 in position 98: invalid continuation byte"
     ]
    },
    {
     "name": "stderr",
     "output_type": "stream",
     "text": [
      "Exception ignored in: 'rasterio._env.log_error'\n",
      "Traceback (most recent call last):\n",
      "  File \"C:\\Users\\kovar\\AppData\\Roaming\\Python\\Python39\\site-packages\\rasterio\\env.py\", line 338, in defenv\n",
      "    local._env.start()\n",
      "UnicodeDecodeError: 'utf-8' codec can't decode byte 0xe1 in position 98: invalid continuation byte\n"
     ]
    },
    {
     "ename": "UnicodeDecodeError",
     "evalue": "'utf-8' codec can't decode byte 0xe1 in position 99: invalid continuation byte",
     "output_type": "error",
     "traceback": [
      "\u001b[1;31m---------------------------------------------------------------------------\u001b[0m",
      "\u001b[1;31mUnicodeDecodeError\u001b[0m                        Traceback (most recent call last)",
      "\u001b[1;31mUnicodeDecodeError\u001b[0m: 'utf-8' codec can't decode byte 0xe1 in position 99: invalid continuation byte"
     ]
    },
    {
     "name": "stderr",
     "output_type": "stream",
     "text": [
      "Exception ignored in: 'rasterio._env.log_error'\n",
      "Traceback (most recent call last):\n",
      "  File \"C:\\Users\\kovar\\AppData\\Roaming\\Python\\Python39\\site-packages\\rasterio\\env.py\", line 338, in defenv\n",
      "    local._env.start()\n",
      "UnicodeDecodeError: 'utf-8' codec can't decode byte 0xe1 in position 99: invalid continuation byte\n"
     ]
    },
    {
     "ename": "UnicodeDecodeError",
     "evalue": "'utf-8' codec can't decode byte 0xe1 in position 99: invalid continuation byte",
     "output_type": "error",
     "traceback": [
      "\u001b[1;31m---------------------------------------------------------------------------\u001b[0m",
      "\u001b[1;31mUnicodeDecodeError\u001b[0m                        Traceback (most recent call last)",
      "\u001b[1;31mUnicodeDecodeError\u001b[0m: 'utf-8' codec can't decode byte 0xe1 in position 99: invalid continuation byte"
     ]
    },
    {
     "name": "stderr",
     "output_type": "stream",
     "text": [
      "Exception ignored in: 'rasterio._env.log_error'\n",
      "Traceback (most recent call last):\n",
      "  File \"C:\\Users\\kovar\\AppData\\Roaming\\Python\\Python39\\site-packages\\rasterio\\env.py\", line 338, in defenv\n",
      "    local._env.start()\n",
      "UnicodeDecodeError: 'utf-8' codec can't decode byte 0xe1 in position 99: invalid continuation byte\n"
     ]
    },
    {
     "ename": "UnicodeDecodeError",
     "evalue": "'utf-8' codec can't decode byte 0xe1 in position 106: invalid continuation byte",
     "output_type": "error",
     "traceback": [
      "\u001b[1;31m---------------------------------------------------------------------------\u001b[0m",
      "\u001b[1;31mUnicodeDecodeError\u001b[0m                        Traceback (most recent call last)",
      "\u001b[1;31mUnicodeDecodeError\u001b[0m: 'utf-8' codec can't decode byte 0xe1 in position 106: invalid continuation byte"
     ]
    },
    {
     "name": "stderr",
     "output_type": "stream",
     "text": [
      "Exception ignored in: 'rasterio._env.log_error'\n",
      "Traceback (most recent call last):\n",
      "  File \"C:\\Users\\kovar\\AppData\\Roaming\\Python\\Python39\\site-packages\\rasterio\\env.py\", line 338, in defenv\n",
      "    local._env.start()\n",
      "UnicodeDecodeError: 'utf-8' codec can't decode byte 0xe1 in position 106: invalid continuation byte\n"
     ]
    },
    {
     "ename": "UnicodeDecodeError",
     "evalue": "'utf-8' codec can't decode byte 0xe1 in position 106: invalid continuation byte",
     "output_type": "error",
     "traceback": [
      "\u001b[1;31m---------------------------------------------------------------------------\u001b[0m",
      "\u001b[1;31mUnicodeDecodeError\u001b[0m                        Traceback (most recent call last)",
      "\u001b[1;31mUnicodeDecodeError\u001b[0m: 'utf-8' codec can't decode byte 0xe1 in position 106: invalid continuation byte"
     ]
    },
    {
     "name": "stderr",
     "output_type": "stream",
     "text": [
      "Exception ignored in: 'rasterio._env.log_error'\n",
      "Traceback (most recent call last):\n",
      "  File \"C:\\Users\\kovar\\AppData\\Roaming\\Python\\Python39\\site-packages\\rasterio\\env.py\", line 338, in defenv\n",
      "    local._env.start()\n",
      "UnicodeDecodeError: 'utf-8' codec can't decode byte 0xe1 in position 106: invalid continuation byte\n"
     ]
    },
    {
     "ename": "UnicodeDecodeError",
     "evalue": "'utf-8' codec can't decode byte 0xe1 in position 100: invalid continuation byte",
     "output_type": "error",
     "traceback": [
      "\u001b[1;31m---------------------------------------------------------------------------\u001b[0m",
      "\u001b[1;31mUnicodeDecodeError\u001b[0m                        Traceback (most recent call last)",
      "\u001b[1;31mUnicodeDecodeError\u001b[0m: 'utf-8' codec can't decode byte 0xe1 in position 100: invalid continuation byte"
     ]
    },
    {
     "name": "stderr",
     "output_type": "stream",
     "text": [
      "Exception ignored in: 'rasterio._env.log_error'\n",
      "Traceback (most recent call last):\n",
      "  File \"C:\\Users\\kovar\\AppData\\Roaming\\Python\\Python39\\site-packages\\rasterio\\env.py\", line 338, in defenv\n",
      "    local._env.start()\n",
      "UnicodeDecodeError: 'utf-8' codec can't decode byte 0xe1 in position 100: invalid continuation byte\n"
     ]
    },
    {
     "ename": "UnicodeDecodeError",
     "evalue": "'utf-8' codec can't decode byte 0xe1 in position 100: invalid continuation byte",
     "output_type": "error",
     "traceback": [
      "\u001b[1;31m---------------------------------------------------------------------------\u001b[0m",
      "\u001b[1;31mUnicodeDecodeError\u001b[0m                        Traceback (most recent call last)",
      "\u001b[1;31mUnicodeDecodeError\u001b[0m: 'utf-8' codec can't decode byte 0xe1 in position 100: invalid continuation byte"
     ]
    },
    {
     "name": "stderr",
     "output_type": "stream",
     "text": [
      "Exception ignored in: 'rasterio._env.log_error'\n",
      "Traceback (most recent call last):\n",
      "  File \"C:\\Users\\kovar\\AppData\\Roaming\\Python\\Python39\\site-packages\\rasterio\\env.py\", line 338, in defenv\n",
      "    local._env.start()\n",
      "UnicodeDecodeError: 'utf-8' codec can't decode byte 0xe1 in position 100: invalid continuation byte\n"
     ]
    },
    {
     "ename": "UnicodeDecodeError",
     "evalue": "'utf-8' codec can't decode byte 0xe1 in position 100: invalid continuation byte",
     "output_type": "error",
     "traceback": [
      "\u001b[1;31m---------------------------------------------------------------------------\u001b[0m",
      "\u001b[1;31mUnicodeDecodeError\u001b[0m                        Traceback (most recent call last)",
      "\u001b[1;31mUnicodeDecodeError\u001b[0m: 'utf-8' codec can't decode byte 0xe1 in position 100: invalid continuation byte"
     ]
    },
    {
     "name": "stderr",
     "output_type": "stream",
     "text": [
      "Exception ignored in: 'rasterio._env.log_error'\n",
      "Traceback (most recent call last):\n",
      "  File \"C:\\Users\\kovar\\AppData\\Roaming\\Python\\Python39\\site-packages\\rasterio\\env.py\", line 338, in defenv\n",
      "    local._env.start()\n",
      "UnicodeDecodeError: 'utf-8' codec can't decode byte 0xe1 in position 100: invalid continuation byte\n"
     ]
    },
    {
     "ename": "UnicodeDecodeError",
     "evalue": "'utf-8' codec can't decode byte 0xe1 in position 100: invalid continuation byte",
     "output_type": "error",
     "traceback": [
      "\u001b[1;31m---------------------------------------------------------------------------\u001b[0m",
      "\u001b[1;31mUnicodeDecodeError\u001b[0m                        Traceback (most recent call last)",
      "\u001b[1;31mUnicodeDecodeError\u001b[0m: 'utf-8' codec can't decode byte 0xe1 in position 100: invalid continuation byte"
     ]
    },
    {
     "name": "stderr",
     "output_type": "stream",
     "text": [
      "Exception ignored in: 'rasterio._env.log_error'\n",
      "Traceback (most recent call last):\n",
      "  File \"C:\\Users\\kovar\\AppData\\Roaming\\Python\\Python39\\site-packages\\rasterio\\env.py\", line 338, in defenv\n",
      "    local._env.start()\n",
      "UnicodeDecodeError: 'utf-8' codec can't decode byte 0xe1 in position 100: invalid continuation byte\n"
     ]
    },
    {
     "ename": "UnicodeDecodeError",
     "evalue": "'utf-8' codec can't decode byte 0xe1 in position 101: invalid continuation byte",
     "output_type": "error",
     "traceback": [
      "\u001b[1;31m---------------------------------------------------------------------------\u001b[0m",
      "\u001b[1;31mUnicodeDecodeError\u001b[0m                        Traceback (most recent call last)",
      "\u001b[1;31mUnicodeDecodeError\u001b[0m: 'utf-8' codec can't decode byte 0xe1 in position 101: invalid continuation byte"
     ]
    },
    {
     "name": "stderr",
     "output_type": "stream",
     "text": [
      "Exception ignored in: 'rasterio._env.log_error'\n",
      "Traceback (most recent call last):\n",
      "  File \"C:\\Users\\kovar\\AppData\\Roaming\\Python\\Python39\\site-packages\\rasterio\\env.py\", line 338, in defenv\n",
      "    local._env.start()\n",
      "UnicodeDecodeError: 'utf-8' codec can't decode byte 0xe1 in position 101: invalid continuation byte\n"
     ]
    },
    {
     "ename": "UnicodeDecodeError",
     "evalue": "'utf-8' codec can't decode byte 0xe1 in position 101: invalid continuation byte",
     "output_type": "error",
     "traceback": [
      "\u001b[1;31m---------------------------------------------------------------------------\u001b[0m",
      "\u001b[1;31mUnicodeDecodeError\u001b[0m                        Traceback (most recent call last)",
      "\u001b[1;31mUnicodeDecodeError\u001b[0m: 'utf-8' codec can't decode byte 0xe1 in position 101: invalid continuation byte"
     ]
    },
    {
     "name": "stderr",
     "output_type": "stream",
     "text": [
      "Exception ignored in: 'rasterio._env.log_error'\n",
      "Traceback (most recent call last):\n",
      "  File \"C:\\Users\\kovar\\AppData\\Roaming\\Python\\Python39\\site-packages\\rasterio\\env.py\", line 338, in defenv\n",
      "    local._env.start()\n",
      "UnicodeDecodeError: 'utf-8' codec can't decode byte 0xe1 in position 101: invalid continuation byte\n"
     ]
    },
    {
     "ename": "UnicodeDecodeError",
     "evalue": "'utf-8' codec can't decode byte 0xe1 in position 107: invalid continuation byte",
     "output_type": "error",
     "traceback": [
      "\u001b[1;31m---------------------------------------------------------------------------\u001b[0m",
      "\u001b[1;31mUnicodeDecodeError\u001b[0m                        Traceback (most recent call last)",
      "\u001b[1;31mUnicodeDecodeError\u001b[0m: 'utf-8' codec can't decode byte 0xe1 in position 107: invalid continuation byte"
     ]
    },
    {
     "name": "stderr",
     "output_type": "stream",
     "text": [
      "Exception ignored in: 'rasterio._env.log_error'\n",
      "Traceback (most recent call last):\n",
      "  File \"C:\\Users\\kovar\\AppData\\Roaming\\Python\\Python39\\site-packages\\rasterio\\env.py\", line 338, in defenv\n",
      "    local._env.start()\n",
      "UnicodeDecodeError: 'utf-8' codec can't decode byte 0xe1 in position 107: invalid continuation byte\n"
     ]
    },
    {
     "ename": "UnicodeDecodeError",
     "evalue": "'utf-8' codec can't decode byte 0xe1 in position 107: invalid continuation byte",
     "output_type": "error",
     "traceback": [
      "\u001b[1;31m---------------------------------------------------------------------------\u001b[0m",
      "\u001b[1;31mUnicodeDecodeError\u001b[0m                        Traceback (most recent call last)",
      "\u001b[1;31mUnicodeDecodeError\u001b[0m: 'utf-8' codec can't decode byte 0xe1 in position 107: invalid continuation byte"
     ]
    },
    {
     "name": "stderr",
     "output_type": "stream",
     "text": [
      "Exception ignored in: 'rasterio._env.log_error'\n",
      "Traceback (most recent call last):\n",
      "  File \"C:\\Users\\kovar\\AppData\\Roaming\\Python\\Python39\\site-packages\\rasterio\\env.py\", line 338, in defenv\n",
      "    local._env.start()\n",
      "UnicodeDecodeError: 'utf-8' codec can't decode byte 0xe1 in position 107: invalid continuation byte\n"
     ]
    },
    {
     "ename": "UnicodeDecodeError",
     "evalue": "'utf-8' codec can't decode byte 0xe1 in position 98: invalid continuation byte",
     "output_type": "error",
     "traceback": [
      "\u001b[1;31m---------------------------------------------------------------------------\u001b[0m",
      "\u001b[1;31mUnicodeDecodeError\u001b[0m                        Traceback (most recent call last)",
      "\u001b[1;31mUnicodeDecodeError\u001b[0m: 'utf-8' codec can't decode byte 0xe1 in position 98: invalid continuation byte"
     ]
    },
    {
     "name": "stderr",
     "output_type": "stream",
     "text": [
      "Exception ignored in: 'rasterio._env.log_error'\n",
      "Traceback (most recent call last):\n",
      "  File \"C:\\Users\\kovar\\AppData\\Roaming\\Python\\Python39\\site-packages\\rasterio\\env.py\", line 338, in defenv\n",
      "    local._env.start()\n",
      "UnicodeDecodeError: 'utf-8' codec can't decode byte 0xe1 in position 98: invalid continuation byte\n"
     ]
    },
    {
     "ename": "UnicodeDecodeError",
     "evalue": "'utf-8' codec can't decode byte 0xe1 in position 98: invalid continuation byte",
     "output_type": "error",
     "traceback": [
      "\u001b[1;31m---------------------------------------------------------------------------\u001b[0m",
      "\u001b[1;31mUnicodeDecodeError\u001b[0m                        Traceback (most recent call last)",
      "\u001b[1;31mUnicodeDecodeError\u001b[0m: 'utf-8' codec can't decode byte 0xe1 in position 98: invalid continuation byte"
     ]
    },
    {
     "name": "stderr",
     "output_type": "stream",
     "text": [
      "Exception ignored in: 'rasterio._env.log_error'\n",
      "Traceback (most recent call last):\n",
      "  File \"C:\\Users\\kovar\\AppData\\Roaming\\Python\\Python39\\site-packages\\rasterio\\env.py\", line 338, in defenv\n",
      "    local._env.start()\n",
      "UnicodeDecodeError: 'utf-8' codec can't decode byte 0xe1 in position 98: invalid continuation byte\n"
     ]
    },
    {
     "ename": "UnicodeDecodeError",
     "evalue": "'utf-8' codec can't decode byte 0xe1 in position 99: invalid continuation byte",
     "output_type": "error",
     "traceback": [
      "\u001b[1;31m---------------------------------------------------------------------------\u001b[0m",
      "\u001b[1;31mUnicodeDecodeError\u001b[0m                        Traceback (most recent call last)",
      "\u001b[1;31mUnicodeDecodeError\u001b[0m: 'utf-8' codec can't decode byte 0xe1 in position 99: invalid continuation byte"
     ]
    },
    {
     "name": "stderr",
     "output_type": "stream",
     "text": [
      "Exception ignored in: 'rasterio._env.log_error'\n",
      "Traceback (most recent call last):\n",
      "  File \"C:\\Users\\kovar\\AppData\\Roaming\\Python\\Python39\\site-packages\\rasterio\\env.py\", line 338, in defenv\n",
      "    local._env.start()\n",
      "UnicodeDecodeError: 'utf-8' codec can't decode byte 0xe1 in position 99: invalid continuation byte\n"
     ]
    },
    {
     "ename": "UnicodeDecodeError",
     "evalue": "'utf-8' codec can't decode byte 0xe1 in position 99: invalid continuation byte",
     "output_type": "error",
     "traceback": [
      "\u001b[1;31m---------------------------------------------------------------------------\u001b[0m",
      "\u001b[1;31mUnicodeDecodeError\u001b[0m                        Traceback (most recent call last)",
      "\u001b[1;31mUnicodeDecodeError\u001b[0m: 'utf-8' codec can't decode byte 0xe1 in position 99: invalid continuation byte"
     ]
    },
    {
     "name": "stderr",
     "output_type": "stream",
     "text": [
      "Exception ignored in: 'rasterio._env.log_error'\n",
      "Traceback (most recent call last):\n",
      "  File \"C:\\Users\\kovar\\AppData\\Roaming\\Python\\Python39\\site-packages\\rasterio\\env.py\", line 338, in defenv\n",
      "    local._env.start()\n",
      "UnicodeDecodeError: 'utf-8' codec can't decode byte 0xe1 in position 99: invalid continuation byte\n"
     ]
    },
    {
     "name": "stdout",
     "output_type": "stream",
     "text": [
      "                                             geometry   elevation       length\n",
      "0   LINESTRING (13.38333 49.78979, 13.38328 49.789...  338.308716    64.134991\n",
      "1   LINESTRING (13.38315 49.78947, 13.38278 49.789...  338.605347   107.125845\n",
      "2   LINESTRING (13.38224 49.78926, 13.38162 49.789...  338.640015   117.978096\n",
      "3   LINESTRING (13.38120 49.78914, 13.38107 49.78914)  338.966461    14.631624\n",
      "4   LINESTRING (13.38107 49.78914, 13.38048 49.78912)  338.412079    66.258150\n",
      "5   LINESTRING (13.37996 49.78858, 13.38048 49.78912)  338.412079   108.807852\n",
      "6   LINESTRING (13.37801 49.78637, 13.37821 49.786...  341.787048   445.037461\n",
      "7   LINESTRING (13.37801 49.78637, 13.37810 49.786...  344.306091    62.684677\n",
      "8   LINESTRING (13.37820 49.78603, 13.37818 49.785...  342.365662   138.248276\n",
      "9   LINESTRING (13.37825 49.78523, 13.37826 49.78518)  342.421173     8.897551\n",
      "10  LINESTRING (13.37826 49.78518, 13.37828 49.785...  342.928314   119.547118\n",
      "11  LINESTRING (13.37819 49.78449, 13.37816 49.78438)  344.003082    18.622407\n",
      "12  LINESTRING (13.37816 49.78438, 13.37792 49.784...  348.857849   180.078083\n",
      "13  LINESTRING (13.37660 49.78413, 13.37651 49.78404)  349.667969    18.447925\n",
      "14  LINESTRING (13.37651 49.78404, 13.37649 49.783...  364.908386   247.821284\n",
      "15  LINESTRING (13.37618 49.78262, 13.37484 49.78257)  366.937195   150.256117\n",
      "16  LINESTRING (13.37441 49.78252, 13.37454 49.782...  366.937195    49.072997\n",
      "17  LINESTRING (13.37382 49.78230, 13.37394 49.782...  366.182037    90.577429\n",
      "18  LINESTRING (13.37300 49.78221, 13.37311 49.782...  365.597107   104.137866\n",
      "19  LINESTRING (13.37300 49.78221, 13.37246 49.782...  364.595673   107.050085\n",
      "20  LINESTRING (13.37210 49.78209, 13.37208 49.782...  364.420197    17.183574\n",
      "21  LINESTRING (13.37202 49.78218, 13.37200 49.782...  364.119904     9.898583\n",
      "22  LINESTRING (13.37196 49.78221, 13.37189 49.782...  364.110016    14.520090\n",
      "23  LINESTRING (13.37184 49.78224, 13.37178 49.78225)  364.008148     6.089705\n",
      "24  LINESTRING (13.37178 49.78225, 13.37175 49.782...  363.872345     9.515983\n",
      "25  LINESTRING (13.37170 49.78226, 13.37165 49.78227)  363.944855     5.745580\n",
      "26  LINESTRING (13.37165 49.78227, 13.37169 49.782...  367.329376    73.294662\n",
      "27  LINESTRING (13.37163 49.78269, 13.37170 49.78290)  366.342133    36.812304\n",
      "28  LINESTRING (13.37170 49.78290, 13.37177 49.78312)   365.04007    37.262654\n",
      "29  LINESTRING (13.37177 49.78312, 13.37159 49.783...  360.246185   157.997091\n",
      "30  LINESTRING (13.36954 49.78426, 13.36970 49.784...  360.246185   164.814618\n",
      "31  LINESTRING (13.36894 49.78484, 13.36919 49.784...   355.64093   119.966974\n",
      "32  LINESTRING (13.36894 49.78484, 13.36891 49.784...  349.251373   224.036290\n",
      "33  LINESTRING (13.36823 49.78605, 13.36816 49.786...  347.763458    59.505744\n",
      "34  LINESTRING (13.36811 49.78639, 13.36810 49.78649)  347.524475    17.765558\n",
      "35  LINESTRING (13.36810 49.78649, 13.36806 49.786...   353.27182   119.484933\n",
      "36  LINESTRING (13.36747 49.78703, 13.36669 49.787...  377.054962  1416.692755\n",
      "37  LINESTRING (13.35858 49.79214, 13.35876 49.792...  372.936646   203.866155\n",
      "38  LINESTRING (13.36039 49.79229, 13.36073 49.792...  368.129425   179.626975\n",
      "39  LINESTRING (13.36188 49.79192, 13.36191 49.792...  366.833984    51.918389\n",
      "40  LINESTRING (13.36197 49.79222, 13.36201 49.792...  365.769958   132.591980\n",
      "41  LINESTRING (13.36290 49.79432, 13.36280 49.794...  365.769958   261.434416\n",
      "42  LINESTRING (13.36601 49.79466, 13.36548 49.794...  366.459015   356.973854\n",
      "43  LINESTRING (13.37049 49.79822, 13.37018 49.797...  357.016968   936.135193\n",
      "44  LINESTRING (13.37049 49.79822, 13.37039 49.79846)  361.498627    44.126128\n",
      "45  LINESTRING (13.37039 49.79846, 13.37058 49.798...  358.311401    90.547651\n",
      "46  LINESTRING (13.37115 49.79860, 13.37102 49.79911)  358.520691    88.251759\n",
      "47  LINESTRING (13.37102 49.79911, 13.37142 49.799...    370.0065   381.920407\n",
      "48  LINESTRING (13.37438 49.79866, 13.37510 49.800...  374.200897   606.741422\n",
      "49  LINESTRING (13.37877 49.80172, 13.37555 49.80211)  374.200897   364.804351\n",
      "50  LINESTRING (13.38121 49.80138, 13.37968 49.801...  378.853424   278.523740\n",
      "51  LINESTRING (13.38121 49.80138, 13.38139 49.801...  347.640503  1297.191868\n",
      "52  LINESTRING (13.37696 49.79521, 13.37725 49.795...  348.825012    63.064788\n",
      "53  LINESTRING (13.37738 49.79496, 13.37745 49.794...   341.25119   594.886424\n",
      "54  LINESTRING (13.37919 49.79266, 13.37937 49.792...  343.557068   615.955734\n",
      "55  LINESTRING (13.38330 49.79073, 13.38334 49.790...  341.802063   115.419926\n",
      "56  LINESTRING (13.38338 49.79006, 13.38346 49.78987)  341.033447    34.517477\n",
      "57  LINESTRING (13.38346 49.78987, 13.38339 49.789...  340.845642    19.267173\n"
     ]
    }
   ],
   "source": [
    "with rasterio.open(\"dmr5g_bounding_box.tif\") as src:\n",
    "    elevation_data = []\n",
    "\n",
    "    for line in gdf.geometry:\n",
    "        for coord in line.coords:\n",
    "            lon, lat = coord\n",
    "\n",
    "            row, col = src.index(lon, lat)\n",
    "\n",
    "            if 0 <= row < src.height and 0 <= col < src.width:\n",
    "                elevation = src.read(1)[row, col]\n",
    "            else:\n",
    "                elevation = None\n",
    "            elevation_data.append({'lon': lon, 'lat': lat, 'elevation': elevation})\n",
    "\n",
    "elevation_gdf = gpd.GeoDataFrame(\n",
    "    elevation_data, \n",
    "    geometry=gpd.points_from_xy([d['lon'] for d in elevation_data], [d['lat'] for d in elevation_data]),\n",
    "    crs=\"EPSG:4326\"\n",
    ")\n",
    "\n",
    "gdf_length = gdf.set_crs(epsg=4326, allow_override=True)\n",
    "gdf_length = gdf_length.to_crs(epsg=3395)\n",
    "gdf_length['length'] = gdf_length.length\n",
    "\n",
    "gdf['elevation'] = None\n",
    "\n",
    "for idx, line in gdf.iterrows():\n",
    "    for coord in line['geometry'].coords:\n",
    "        lon, lat = coord\n",
    "        elevation = elevation_gdf[(elevation_gdf['lon'] == lon) & (elevation_gdf['lat'] == lat)]['elevation'].values\n",
    "        if elevation.size > 0:\n",
    "            gdf.at[idx, 'elevation'] = elevation[0]\n",
    "gdf['length'] = gdf_length['length']\n",
    "\n",
    "print(gdf[['geometry', 'elevation', 'length']])"
   ]
  },
  {
   "cell_type": "code",
   "execution_count": 14,
   "id": "2cf10076-1ac2-4e41-a7c9-67ebc83917da",
   "metadata": {},
   "outputs": [
    {
     "data": {
      "image/png": "[encoded data removed]",
      "text/plain": [
       "<Figure size 1000x500 with 1 Axes>"
      ]
     },
     "metadata": {},
     "output_type": "display_data"
    }
   ],
   "source": [
    "elevations = np.array(gdf['elevation'].dropna())\n",
    "distances = np.array(gdf['length'].dropna())\n",
    "\n",
    "cumulative_distances = np.cumsum(distances)\n",
    "\n",
    "\n",
    "fig, ax = plt.subplots(figsize=(10, 5))\n",
    "ax.plot(cumulative_distances, elevations, label='Elevation Profile', color=trail_color)\n",
    "\n",
    "ax.set_xlabel('Distance (m)')\n",
    "ax.set_ylabel('Elevation (m)')\n",
    "ax.set_title(f'Elevation Profile of Tourist Path: {route_name}')\n",
    "\n",
    "ax.grid(True)\n",
    "ax.legend()\n",
    "\n",
    "plt.tight_layout()\n",
    "\n",
    "plt.show()\n"
   ]
  },
  {
   "cell_type": "code",
   "execution_count": 15,
   "id": "7db3ce29-46be-4473-b8c6-4b19858a88b2",
   "metadata": {},
   "outputs": [
    {
     "name": "stdout",
     "output_type": "stream",
     "text": [
      "{'id': 87590, 'visible': True, 'version': 113, 'changeset': 145588217, 'timestamp': datetime.datetime(2023, 12, 27, 18, 35, 47), 'user': 'Fjana', 'uid': 10630524, 'tag': {'complete': 'yes', 'destinations': 'Plzeň - Doubravka;Malešice', 'kct_yellow': 'major', 'network': 'rwn', 'operator': 'cz:KČT', 'osmc:symbol': 'yellow:white:yellow_bar', 'ref': '6624', 'route': 'hiking', 'source': 'survey', 'source:ref': 'cs.wikipedia.org', 'type': 'route', 'wikidata': 'Q12059946', 'wikipedia': 'cs:Turistická značená trasa 6624'}, 'member': [{'type': 'node', 'ref': 5369697089, 'role': 'guidepost'}, {'type': 'node', 'ref': 5369697091, 'role': 'guidepost'}, {'type': 'node', 'ref': 360280415, 'role': 'guidepost'}, {'type': 'node', 'ref': 360280265, 'role': 'guidepost'}, {'type': 'node', 'ref': 444725116, 'role': 'guidepost'}, {'type': 'node', 'ref': 360808097, 'role': 'guidepost'}, {'type': 'node', 'ref': 360251906, 'role': 'guidepost'}, {'type': 'node', 'ref': 360251902, 'role': 'guidepost'}, {'type': 'node', 'ref': 360792942, 'role': 'guidepost'}, {'type': 'node', 'ref': 364493955, 'role': 'guidepost'}, {'type': 'node', 'ref': 432614982, 'role': 'guidepost'}, {'type': 'node', 'ref': 676475836, 'role': 'guidepost'}, {'type': 'node', 'ref': 366598623, 'role': 'guidepost'}, {'type': 'node', 'ref': 366598619, 'role': 'guidepost'}, {'type': 'node', 'ref': 366598616, 'role': 'guidepost'}, {'type': 'node', 'ref': 776520638, 'role': 'guidepost'}, {'type': 'node', 'ref': 776520527, 'role': 'guidepost'}, {'type': 'node', 'ref': 2286238538, 'role': 'guidepost'}, {'type': 'node', 'ref': 4396243663, 'role': 'guidepost'}, {'type': 'node', 'ref': 676475836, 'role': 'guidepost'}, {'type': 'node', 'ref': 8541064508, 'role': 'guidepost'}, {'type': 'way', 'ref': 376865495, 'role': ''}, {'type': 'way', 'ref': 32089948, 'role': ''}, {'type': 'way', 'ref': 32089951, 'role': ''}, {'type': 'way', 'ref': 28983077, 'role': ''}, {'type': 'way', 'ref': 28983078, 'role': ''}, {'type': 'way', 'ref': 645253697, 'role': ''}, {'type': 'way', 'ref': 1005586544, 'role': ''}, {'type': 'way', 'ref': 28983086, 'role': ''}, {'type': 'way', 'ref': 27803619, 'role': ''}, {'type': 'way', 'ref': 654161276, 'role': ''}, {'type': 'way', 'ref': 29029244, 'role': ''}, {'type': 'way', 'ref': 29029245, 'role': ''}, {'type': 'way', 'ref': 1234666940, 'role': ''}, {'type': 'way', 'ref': 29029247, 'role': ''}, {'type': 'way', 'ref': 29029246, 'role': ''}, {'type': 'way', 'ref': 43071972, 'role': ''}, {'type': 'way', 'ref': 32087945, 'role': ''}, {'type': 'way', 'ref': 32087842, 'role': ''}, {'type': 'way', 'ref': 32087840, 'role': ''}, {'type': 'way', 'ref': 32140038, 'role': ''}, {'type': 'way', 'ref': 1123344435, 'role': ''}, {'type': 'way', 'ref': 32140045, 'role': ''}, {'type': 'way', 'ref': 32140043, 'role': ''}, {'type': 'way', 'ref': 32140032, 'role': ''}, {'type': 'way', 'ref': 32139071, 'role': ''}, {'type': 'way', 'ref': 32087240, 'role': ''}, {'type': 'way', 'ref': 29094773, 'role': ''}, {'type': 'way', 'ref': 32139066, 'role': ''}, {'type': 'way', 'ref': 1111089508, 'role': ''}, {'type': 'way', 'ref': 1111089509, 'role': ''}, {'type': 'way', 'ref': 841267270, 'role': ''}, {'type': 'way', 'ref': 122821276, 'role': ''}, {'type': 'way', 'ref': 1111089506, 'role': ''}, {'type': 'way', 'ref': 1111089505, 'role': ''}, {'type': 'way', 'ref': 43083746, 'role': ''}, {'type': 'way', 'ref': 883879145, 'role': ''}, {'type': 'way', 'ref': 30923839, 'role': ''}, {'type': 'way', 'ref': 34781199, 'role': ''}, {'type': 'way', 'ref': 229056455, 'role': ''}, {'type': 'way', 'ref': 1122886435, 'role': ''}, {'type': 'way', 'ref': 1122886434, 'role': ''}, {'type': 'way', 'ref': 229056456, 'role': ''}, {'type': 'way', 'ref': 941791003, 'role': ''}, {'type': 'way', 'ref': 209237689, 'role': ''}, {'type': 'way', 'ref': 209237692, 'role': ''}, {'type': 'way', 'ref': 209237688, 'role': ''}, {'type': 'way', 'ref': 214118329, 'role': ''}, {'type': 'way', 'ref': 214118344, 'role': ''}, {'type': 'way', 'ref': 263914881, 'role': ''}, {'type': 'way', 'ref': 209237680, 'role': ''}, {'type': 'way', 'ref': 209237678, 'role': ''}, {'type': 'way', 'ref': 552116446, 'role': ''}, {'type': 'way', 'ref': 62267493, 'role': ''}, {'type': 'way', 'ref': 53546040, 'role': ''}, {'type': 'way', 'ref': 53546035, 'role': ''}, {'type': 'way', 'ref': 53546036, 'role': ''}, {'type': 'way', 'ref': 30923820, 'role': ''}, {'type': 'way', 'ref': 32604705, 'role': ''}, {'type': 'way', 'ref': 30923819, 'role': ''}, {'type': 'way', 'ref': 32604702, 'role': ''}, {'type': 'way', 'ref': 32604703, 'role': ''}, {'type': 'way', 'ref': 32604700, 'role': ''}, {'type': 'way', 'ref': 62225781, 'role': ''}, {'type': 'way', 'ref': 32604223, 'role': ''}, {'type': 'way', 'ref': 236781600, 'role': ''}, {'type': 'way', 'ref': 62225785, 'role': ''}, {'type': 'way', 'ref': 50540304, 'role': ''}, {'type': 'way', 'ref': 30923816, 'role': ''}, {'type': 'way', 'ref': 30923817, 'role': ''}, {'type': 'way', 'ref': 30923813, 'role': ''}, {'type': 'way', 'ref': 236781614, 'role': ''}, {'type': 'way', 'ref': 236781613, 'role': ''}, {'type': 'way', 'ref': 236781612, 'role': ''}, {'type': 'way', 'ref': 30923812, 'role': ''}, {'type': 'way', 'ref': 219474145, 'role': ''}, {'type': 'way', 'ref': 30923810, 'role': ''}, {'type': 'way', 'ref': 700202750, 'role': ''}, {'type': 'way', 'ref': 262831778, 'role': ''}, {'type': 'way', 'ref': 30923809, 'role': ''}, {'type': 'way', 'ref': 27779767, 'role': ''}, {'type': 'way', 'ref': 585352376, 'role': ''}, {'type': 'way', 'ref': 27779759, 'role': ''}, {'type': 'way', 'ref': 1167787525, 'role': ''}, {'type': 'way', 'ref': 1167787524, 'role': ''}, {'type': 'way', 'ref': 27779766, 'role': ''}, {'type': 'way', 'ref': 146781400, 'role': ''}]}\n",
      "{'id': 132429, 'visible': True, 'version': 129, 'changeset': 154743187, 'timestamp': datetime.datetime(2024, 8, 2, 16, 4, 15), 'user': 'VLD171', 'uid': 11452275, 'tag': {'complete': 'yes', 'destinations': 'Plzeň;Úterý;Toužim', 'kct_green': 'major', 'network': 'rwn', 'operator': 'cz:KČT', 'osmc:symbol': 'green:white:green_bar', 'ref': '3601', 'route': 'hiking', 'type': 'route'}, 'member': [{'type': 'node', 'ref': 5369697091, 'role': 'guidepost'}, {'type': 'node', 'ref': 5270103895, 'role': 'guidepost'}, {'type': 'node', 'ref': 5267830163, 'role': 'guidepost'}, {'type': 'node', 'ref': 5267792101, 'role': 'guidepost'}, {'type': 'node', 'ref': 4336684698, 'role': 'guidepost'}, {'type': 'node', 'ref': 4334055671, 'role': 'guidepost'}, {'type': 'node', 'ref': 4334055670, 'role': 'guidepost'}, {'type': 'node', 'ref': 4334022945, 'role': 'guidepost'}, {'type': 'node', 'ref': 4333998066, 'role': 'guidepost'}, {'type': 'node', 'ref': 4333998067, 'role': 'guidepost'}, {'type': 'node', 'ref': 1360107080, 'role': 'guidepost'}, {'type': 'node', 'ref': 1012736440, 'role': 'guidepost'}, {'type': 'node', 'ref': 1012736442, 'role': 'guidepost'}, {'type': 'node', 'ref': 1599467749, 'role': 'guidepost'}, {'type': 'node', 'ref': 1012736443, 'role': 'guidepost'}, {'type': 'node', 'ref': 2277611545, 'role': 'guidepost'}, {'type': 'node', 'ref': 2277686046, 'role': 'guidepost'}, {'type': 'node', 'ref': 772750326, 'role': 'guidepost'}, {'type': 'node', 'ref': 772779280, 'role': 'guidepost'}, {'type': 'node', 'ref': 776824586, 'role': 'guidepost'}, {'type': 'node', 'ref': 776629650, 'role': 'guidepost'}, {'type': 'node', 'ref': 791515941, 'role': 'guidepost'}, {'type': 'node', 'ref': 821487813, 'role': 'guidepost'}, {'type': 'node', 'ref': 821487852, 'role': 'guidepost'}, {'type': 'node', 'ref': 821487818, 'role': 'guidepost'}, {'type': 'node', 'ref': 2450844272, 'role': 'guidepost'}, {'type': 'node', 'ref': 3577377839, 'role': 'guidepost'}, {'type': 'node', 'ref': 3739860621, 'role': 'guidepost'}, {'type': 'node', 'ref': 3739863829, 'role': 'guidepost'}, {'type': 'node', 'ref': 3740337076, 'role': 'guidepost'}, {'type': 'node', 'ref': 4423297092, 'role': 'guidepost'}, {'type': 'node', 'ref': 1504484814, 'role': 'guidepost'}, {'type': 'node', 'ref': 4840700738, 'role': 'guidepost'}, {'type': 'node', 'ref': 2121837923, 'role': 'guidepost'}, {'type': 'node', 'ref': 4840700737, 'role': 'guidepost'}, {'type': 'node', 'ref': 5191730816, 'role': 'guidepost'}, {'type': 'node', 'ref': 776793872, 'role': 'guidepost'}, {'type': 'way', 'ref': 437105531, 'role': ''}, {'type': 'way', 'ref': 364615133, 'role': ''}, {'type': 'way', 'ref': 364615126, 'role': ''}, {'type': 'way', 'ref': 364615125, 'role': ''}, {'type': 'way', 'ref': 364615122, 'role': ''}, {'type': 'way', 'ref': 195637341, 'role': ''}, {'type': 'way', 'ref': 364615121, 'role': ''}, {'type': 'way', 'ref': 364615119, 'role': ''}, {'type': 'way', 'ref': 74888284, 'role': ''}, {'type': 'way', 'ref': 74888282, 'role': ''}, {'type': 'way', 'ref': 370276867, 'role': ''}, {'type': 'way', 'ref': 137161284, 'role': ''}, {'type': 'way', 'ref': 817831427, 'role': ''}, {'type': 'way', 'ref': 454321942, 'role': ''}, {'type': 'way', 'ref': 137155666, 'role': ''}, {'type': 'way', 'ref': 137155640, 'role': ''}, {'type': 'way', 'ref': 137155662, 'role': ''}, {'type': 'way', 'ref': 454321944, 'role': ''}, {'type': 'way', 'ref': 137155644, 'role': ''}, {'type': 'way', 'ref': 137155651, 'role': ''}, {'type': 'way', 'ref': 454321940, 'role': ''}, {'type': 'way', 'ref': 300947465, 'role': ''}, {'type': 'way', 'ref': 1126076843, 'role': ''}, {'type': 'way', 'ref': 1126076842, 'role': ''}, {'type': 'way', 'ref': 676724700, 'role': ''}, {'type': 'way', 'ref': 162445890, 'role': ''}, {'type': 'way', 'ref': 676724699, 'role': ''}, {'type': 'way', 'ref': 545199895, 'role': ''}, {'type': 'way', 'ref': 162722147, 'role': ''}, {'type': 'way', 'ref': 435765804, 'role': ''}, {'type': 'way', 'ref': 829940406, 'role': ''}, {'type': 'way', 'ref': 829940407, 'role': ''}, {'type': 'way', 'ref': 829940396, 'role': ''}, {'type': 'way', 'ref': 829940397, 'role': ''}, {'type': 'way', 'ref': 829940398, 'role': ''}, {'type': 'way', 'ref': 435765805, 'role': ''}, {'type': 'way', 'ref': 121512519, 'role': ''}, {'type': 'way', 'ref': 121512515, 'role': ''}, {'type': 'way', 'ref': 121512538, 'role': ''}, {'type': 'way', 'ref': 121512535, 'role': ''}, {'type': 'way', 'ref': 121512516, 'role': ''}, {'type': 'way', 'ref': 121512541, 'role': ''}, {'type': 'way', 'ref': 121512534, 'role': ''}, {'type': 'way', 'ref': 121512536, 'role': ''}, {'type': 'way', 'ref': 121512537, 'role': ''}, {'type': 'way', 'ref': 121512520, 'role': ''}, {'type': 'way', 'ref': 121730286, 'role': ''}, {'type': 'way', 'ref': 121512531, 'role': ''}, {'type': 'way', 'ref': 43590163, 'role': ''}, {'type': 'way', 'ref': 219459279, 'role': ''}, {'type': 'way', 'ref': 121482207, 'role': ''}, {'type': 'way', 'ref': 121482208, 'role': ''}, {'type': 'way', 'ref': 164536671, 'role': ''}, {'type': 'way', 'ref': 121456630, 'role': ''}, {'type': 'way', 'ref': 121445804, 'role': ''}, {'type': 'way', 'ref': 121445806, 'role': ''}, {'type': 'way', 'ref': 61980062, 'role': ''}, {'type': 'way', 'ref': 61980057, 'role': ''}, {'type': 'way', 'ref': 61980058, 'role': ''}, {'type': 'way', 'ref': 61980065, 'role': ''}, {'type': 'way', 'ref': 61980056, 'role': ''}, {'type': 'way', 'ref': 64377766, 'role': ''}, {'type': 'way', 'ref': 64377765, 'role': ''}, {'type': 'way', 'ref': 64377763, 'role': ''}, {'type': 'way', 'ref': 64377761, 'role': ''}, {'type': 'way', 'ref': 64377772, 'role': ''}, {'type': 'way', 'ref': 64377762, 'role': ''}, {'type': 'way', 'ref': 64377767, 'role': ''}, {'type': 'way', 'ref': 64377759, 'role': ''}, {'type': 'way', 'ref': 64377760, 'role': ''}, {'type': 'way', 'ref': 64377769, 'role': ''}, {'type': 'way', 'ref': 64300199, 'role': ''}, {'type': 'way', 'ref': 58757283, 'role': ''}, {'type': 'way', 'ref': 86299955, 'role': ''}, {'type': 'way', 'ref': 86299956, 'role': ''}, {'type': 'way', 'ref': 219459280, 'role': ''}, {'type': 'way', 'ref': 68275132, 'role': ''}, {'type': 'way', 'ref': 68275145, 'role': ''}, {'type': 'way', 'ref': 68275148, 'role': ''}, {'type': 'way', 'ref': 68275136, 'role': ''}, {'type': 'way', 'ref': 68275143, 'role': ''}, {'type': 'way', 'ref': 68275150, 'role': ''}, {'type': 'way', 'ref': 68275133, 'role': ''}, {'type': 'way', 'ref': 68275131, 'role': ''}, {'type': 'way', 'ref': 1281790681, 'role': ''}, {'type': 'way', 'ref': 68179212, 'role': ''}, {'type': 'way', 'ref': 68275134, 'role': ''}, {'type': 'way', 'ref': 68275142, 'role': ''}, {'type': 'way', 'ref': 68275138, 'role': ''}, {'type': 'way', 'ref': 1281790655, 'role': ''}, {'type': 'way', 'ref': 68278152, 'role': ''}, {'type': 'way', 'ref': 58757286, 'role': ''}, {'type': 'way', 'ref': 68179197, 'role': ''}, {'type': 'way', 'ref': 68179207, 'role': ''}, {'type': 'way', 'ref': 48845618, 'role': ''}, {'type': 'way', 'ref': 48845616, 'role': ''}, {'type': 'way', 'ref': 121411173, 'role': ''}, {'type': 'way', 'ref': 68179225, 'role': ''}, {'type': 'way', 'ref': 68179223, 'role': ''}, {'type': 'way', 'ref': 121411174, 'role': ''}, {'type': 'way', 'ref': 68179232, 'role': ''}, {'type': 'way', 'ref': 68179218, 'role': ''}, {'type': 'way', 'ref': 68179221, 'role': ''}, {'type': 'way', 'ref': 68179227, 'role': ''}, {'type': 'way', 'ref': 68179209, 'role': ''}, {'type': 'way', 'ref': 68179202, 'role': ''}, {'type': 'way', 'ref': 68179205, 'role': ''}, {'type': 'way', 'ref': 1281790617, 'role': ''}, {'type': 'way', 'ref': 308442900, 'role': ''}, {'type': 'way', 'ref': 68275139, 'role': ''}, {'type': 'way', 'ref': 68275135, 'role': ''}, {'type': 'way', 'ref': 48871224, 'role': ''}, {'type': 'way', 'ref': 48845464, 'role': ''}, {'type': 'way', 'ref': 48845461, 'role': ''}, {'type': 'way', 'ref': 48845458, 'role': ''}, {'type': 'way', 'ref': 435485055, 'role': ''}, {'type': 'way', 'ref': 289230706, 'role': ''}, {'type': 'way', 'ref': 435485051, 'role': ''}, {'type': 'way', 'ref': 28670839, 'role': ''}, {'type': 'way', 'ref': 9571097, 'role': ''}, {'type': 'way', 'ref': 891050672, 'role': ''}, {'type': 'way', 'ref': 87079732, 'role': ''}, {'type': 'way', 'ref': 87079731, 'role': ''}, {'type': 'way', 'ref': 86941399, 'role': ''}, {'type': 'way', 'ref': 86941407, 'role': ''}, {'type': 'way', 'ref': 86941414, 'role': ''}, {'type': 'way', 'ref': 559811819, 'role': ''}, {'type': 'way', 'ref': 28909986, 'role': ''}, {'type': 'way', 'ref': 34291338, 'role': ''}, {'type': 'way', 'ref': 559811821, 'role': ''}, {'type': 'way', 'ref': 34285999, 'role': ''}, {'type': 'way', 'ref': 86941402, 'role': ''}, {'type': 'way', 'ref': 34286000, 'role': ''}, {'type': 'way', 'ref': 34286003, 'role': ''}, {'type': 'way', 'ref': 925738562, 'role': ''}, {'type': 'way', 'ref': 218525450, 'role': ''}, {'type': 'way', 'ref': 925738561, 'role': ''}, {'type': 'way', 'ref': 211183929, 'role': ''}, {'type': 'way', 'ref': 218525453, 'role': ''}, {'type': 'way', 'ref': 218525455, 'role': ''}, {'type': 'way', 'ref': 218525448, 'role': ''}, {'type': 'way', 'ref': 377526772, 'role': ''}, {'type': 'way', 'ref': 377526771, 'role': ''}, {'type': 'way', 'ref': 781595838, 'role': ''}, {'type': 'way', 'ref': 218525449, 'role': ''}, {'type': 'way', 'ref': 951465533, 'role': ''}, {'type': 'way', 'ref': 218525451, 'role': ''}, {'type': 'way', 'ref': 218525454, 'role': ''}, {'type': 'way', 'ref': 951465534, 'role': ''}, {'type': 'way', 'ref': 951465532, 'role': ''}, {'type': 'way', 'ref': 951465531, 'role': ''}, {'type': 'way', 'ref': 28496215, 'role': ''}, {'type': 'way', 'ref': 218534023, 'role': ''}, {'type': 'way', 'ref': 218536648, 'role': ''}, {'type': 'way', 'ref': 799394865, 'role': ''}, {'type': 'way', 'ref': 37900185, 'role': ''}, {'type': 'way', 'ref': 37900186, 'role': ''}, {'type': 'way', 'ref': 37900180, 'role': ''}, {'type': 'way', 'ref': 37900179, 'role': ''}, {'type': 'way', 'ref': 37900177, 'role': ''}, {'type': 'way', 'ref': 1300668483, 'role': ''}, {'type': 'way', 'ref': 891589495, 'role': ''}, {'type': 'way', 'ref': 62229825, 'role': ''}, {'type': 'way', 'ref': 62229837, 'role': ''}, {'type': 'way', 'ref': 62229827, 'role': ''}, {'type': 'way', 'ref': 62229839, 'role': ''}, {'type': 'way', 'ref': 62229830, 'role': ''}, {'type': 'way', 'ref': 922513872, 'role': ''}, {'type': 'way', 'ref': 1123367991, 'role': ''}, {'type': 'way', 'ref': 1123367990, 'role': ''}, {'type': 'way', 'ref': 1123367997, 'role': ''}, {'type': 'way', 'ref': 1123367994, 'role': ''}, {'type': 'way', 'ref': 37900178, 'role': ''}, {'type': 'way', 'ref': 1123367993, 'role': ''}, {'type': 'way', 'ref': 62229821, 'role': ''}, {'type': 'way', 'ref': 62229844, 'role': ''}, {'type': 'way', 'ref': 62229824, 'role': ''}, {'type': 'way', 'ref': 391805566, 'role': ''}, {'type': 'way', 'ref': 62229822, 'role': ''}, {'type': 'way', 'ref': 559831848, 'role': ''}, {'type': 'way', 'ref': 272149366, 'role': ''}, {'type': 'way', 'ref': 559831849, 'role': ''}, {'type': 'way', 'ref': 148715902, 'role': ''}, {'type': 'way', 'ref': 34288105, 'role': ''}, {'type': 'way', 'ref': 62227897, 'role': ''}, {'type': 'way', 'ref': 62227891, 'role': ''}, {'type': 'way', 'ref': 319632205, 'role': ''}, {'type': 'way', 'ref': 34288107, 'role': ''}, {'type': 'way', 'ref': 553467871, 'role': ''}, {'type': 'way', 'ref': 553467872, 'role': ''}, {'type': 'way', 'ref': 1134103452, 'role': ''}, {'type': 'way', 'ref': 262831824, 'role': ''}, {'type': 'way', 'ref': 27779425, 'role': ''}, {'type': 'way', 'ref': 1122609255, 'role': ''}, {'type': 'way', 'ref': 27768443, 'role': ''}, {'type': 'way', 'ref': 146781400, 'role': ''}, {'type': 'way', 'ref': 27779766, 'role': ''}, {'type': 'way', 'ref': 1167787524, 'role': ''}, {'type': 'way', 'ref': 1167787525, 'role': ''}, {'type': 'way', 'ref': 27779759, 'role': ''}, {'type': 'way', 'ref': 585352376, 'role': ''}, {'type': 'way', 'ref': 27779760, 'role': ''}, {'type': 'way', 'ref': 27779764, 'role': ''}, {'type': 'way', 'ref': 262831724, 'role': ''}, {'type': 'way', 'ref': 262831805, 'role': ''}, {'type': 'way', 'ref': 27779763, 'role': ''}, {'type': 'way', 'ref': 810555618, 'role': ''}, {'type': 'way', 'ref': 810555619, 'role': ''}, {'type': 'way', 'ref': 265607911, 'role': ''}, {'type': 'way', 'ref': 267866164, 'role': ''}, {'type': 'way', 'ref': 267866153, 'role': ''}, {'type': 'way', 'ref': 27779904, 'role': ''}, {'type': 'way', 'ref': 27779768, 'role': ''}, {'type': 'way', 'ref': 1136486731, 'role': ''}, {'type': 'way', 'ref': 27779906, 'role': ''}, {'type': 'way', 'ref': 27779770, 'role': ''}, {'type': 'way', 'ref': 1146829517, 'role': ''}, {'type': 'way', 'ref': 42560422, 'role': ''}, {'type': 'way', 'ref': 27779769, 'role': ''}, {'type': 'way', 'ref': 27768377, 'role': ''}, {'type': 'way', 'ref': 27768378, 'role': ''}, {'type': 'way', 'ref': 1217373415, 'role': ''}, {'type': 'way', 'ref': 837845108, 'role': ''}, {'type': 'way', 'ref': 837845107, 'role': ''}, {'type': 'way', 'ref': 1096790510, 'role': ''}, {'type': 'way', 'ref': 27779773, 'role': ''}, {'type': 'way', 'ref': 27779775, 'role': ''}, {'type': 'way', 'ref': 837851623, 'role': ''}, {'type': 'way', 'ref': 837851625, 'role': ''}, {'type': 'way', 'ref': 837851624, 'role': ''}, {'type': 'way', 'ref': 1096784521, 'role': ''}, {'type': 'way', 'ref': 837851627, 'role': ''}, {'type': 'way', 'ref': 837865976, 'role': ''}, {'type': 'way', 'ref': 837865975, 'role': ''}, {'type': 'way', 'ref': 27743947, 'role': ''}, {'type': 'way', 'ref': 1305277565, 'role': ''}, {'type': 'way', 'ref': 369442632, 'role': ''}, {'type': 'way', 'ref': 351936890, 'role': 'end'}]}\n",
      "{'id': 6268435, 'visible': True, 'version': 28, 'changeset': 148170844, 'timestamp': datetime.datetime(2024, 3, 3, 15, 33, 23), 'user': 'woy_cb', 'uid': 284094, 'tag': {'complete': 'yes', 'destinations': 'Nad Valchou;Bory;Starý Plzenec', 'kct_yellow': 'major', 'network': 'lwn', 'note': 'část bývalé 6624 - začíná ve Valše (oddělení od zbytku zjištěno 2016-05);na sever od Valchy přeznačeno (2018-05)', 'operator': 'cz:KČT', 'osmc:symbol': 'yellow:white:yellow_bar', 'ref': '6732', 'route': 'hiking', 'source': 'survey', 'source:ref': 'http://trasy.kct.cz/', 'type': 'route'}, 'member': [{'type': 'way', 'ref': 274678008, 'role': ''}, {'type': 'way', 'ref': 688417198, 'role': ''}, {'type': 'way', 'ref': 688417202, 'role': ''}, {'type': 'way', 'ref': 131567315, 'role': ''}, {'type': 'way', 'ref': 688417203, 'role': ''}, {'type': 'way', 'ref': 274678010, 'role': ''}, {'type': 'way', 'ref': 42403750, 'role': ''}, {'type': 'way', 'ref': 688417208, 'role': ''}, {'type': 'way', 'ref': 589667666, 'role': ''}, {'type': 'way', 'ref': 217839389, 'role': ''}, {'type': 'way', 'ref': 589667667, 'role': ''}, {'type': 'way', 'ref': 60382783, 'role': ''}, {'type': 'way', 'ref': 1156759289, 'role': ''}, {'type': 'way', 'ref': 1156759288, 'role': ''}, {'type': 'way', 'ref': 63532564, 'role': ''}, {'type': 'way', 'ref': 31361720, 'role': ''}, {'type': 'way', 'ref': 27008740, 'role': ''}, {'type': 'way', 'ref': 28494493, 'role': ''}, {'type': 'way', 'ref': 24381199, 'role': ''}, {'type': 'way', 'ref': 757544121, 'role': ''}, {'type': 'way', 'ref': 1183888373, 'role': ''}, {'type': 'way', 'ref': 97234765, 'role': ''}, {'type': 'way', 'ref': 983602585, 'role': ''}, {'type': 'way', 'ref': 983602586, 'role': ''}, {'type': 'way', 'ref': 97234764, 'role': ''}, {'type': 'way', 'ref': 271823490, 'role': ''}, {'type': 'way', 'ref': 121997198, 'role': ''}, {'type': 'way', 'ref': 263019406, 'role': ''}, {'type': 'way', 'ref': 28751229, 'role': ''}, {'type': 'way', 'ref': 127050471, 'role': ''}, {'type': 'way', 'ref': 127050462, 'role': ''}, {'type': 'way', 'ref': 411754721, 'role': ''}, {'type': 'way', 'ref': 28751228, 'role': ''}, {'type': 'way', 'ref': 722019139, 'role': ''}, {'type': 'way', 'ref': 722019140, 'role': ''}, {'type': 'way', 'ref': 219613616, 'role': ''}, {'type': 'way', 'ref': 127050476, 'role': ''}, {'type': 'way', 'ref': 689472667, 'role': ''}, {'type': 'way', 'ref': 127050460, 'role': ''}, {'type': 'way', 'ref': 689472673, 'role': ''}, {'type': 'way', 'ref': 723875427, 'role': ''}, {'type': 'way', 'ref': 127050461, 'role': ''}, {'type': 'way', 'ref': 127050458, 'role': ''}, {'type': 'way', 'ref': 127050465, 'role': ''}, {'type': 'way', 'ref': 127050473, 'role': ''}, {'type': 'way', 'ref': 127050459, 'role': ''}, {'type': 'way', 'ref': 28495357, 'role': ''}, {'type': 'way', 'ref': 127050474, 'role': ''}, {'type': 'way', 'ref': 108379339, 'role': ''}, {'type': 'way', 'ref': 108379441, 'role': ''}, {'type': 'way', 'ref': 819953587, 'role': ''}, {'type': 'way', 'ref': 819953588, 'role': ''}, {'type': 'way', 'ref': 108379291, 'role': ''}, {'type': 'way', 'ref': 108379425, 'role': ''}, {'type': 'way', 'ref': 144074806, 'role': ''}, {'type': 'way', 'ref': 1126728366, 'role': ''}, {'type': 'node', 'ref': 6455437321, 'role': 'guidepost'}, {'type': 'node', 'ref': 1406941562, 'role': 'guidepost'}, {'type': 'node', 'ref': 1126313504, 'role': 'guidepost'}, {'type': 'node', 'ref': 1406941560, 'role': 'guidepost'}, {'type': 'node', 'ref': 1364223853, 'role': 'guidepost'}, {'type': 'node', 'ref': 494339487, 'role': 'guidepost'}, {'type': 'node', 'ref': 2569477625, 'role': 'guidepost'}, {'type': 'node', 'ref': 3333830748, 'role': 'guidepost'}, {'type': 'node', 'ref': 3335013747, 'role': 'guidepost'}, {'type': 'node', 'ref': 11288233616, 'role': ''}]}\n",
      "{'id': 7945044, 'visible': True, 'version': 4, 'changeset': 126475981, 'timestamp': datetime.datetime(2022, 9, 21, 18, 1, 22), 'user': 'Fjana', 'uid': 10630524, 'tag': {'complete': 'yes', 'destinations': 'Sylván (rozhledna)', 'kct_green': 'peak', 'name': '[Z] odbočka k\\xa0rozhledně Sylván', 'network': 'lwn', 'operator': 'cz:KČT', 'osmc:symbol': 'green:white:green_triangle', 'route': 'hiking', 'type': 'route'}, 'member': [{'type': 'node', 'ref': 5368493641, 'role': 'guidepost'}, {'type': 'node', 'ref': 5191730816, 'role': 'guidepost'}, {'type': 'way', 'ref': 80913434, 'role': ''}, {'type': 'way', 'ref': 556522461, 'role': ''}, {'type': 'way', 'ref': 196755955, 'role': ''}, {'type': 'way', 'ref': 837865974, 'role': ''}]}\n"
     ]
    }
   ],
   "source": [
    "import overpy\n",
    "import osmapi\n",
    "from datetime import datetime\n",
    "\n",
    "# Initialize Overpass API\n",
    "api = overpy.Overpass()\n",
    "\n",
    "# Define the area of interest (Kamenec, Czech Republic)\n",
    "area_name = \"Plzeň, Czech Republic\"\n",
    "\n",
    "# Query to get the area ID for Kamenec\n",
    "area_query = \"\"\"\n",
    "[out:json];\n",
    "area[\"name\"=\"Plzeň\"][\"boundary\"=\"administrative\"];\n",
    "out body;\n",
    "\"\"\"\n",
    "\n",
    "# Get the area ID\n",
    "area_result = api.query(area_query)\n",
    "area_id = area_result.areas[0].id\n",
    "\n",
    "# Query to get the IDs of hiking routes by KČT for the specified area\n",
    "relation_query = f\"\"\"\n",
    "[out:json];\n",
    "area({area_id});\n",
    "relation(area)[\"route\"=\"hiking\"][\"operator\"=\"cz:KČT\"];\n",
    "out ids;\n",
    "\"\"\"\n",
    "\n",
    "# Fetch data from Overpass API\n",
    "result = api.query(relation_query)\n",
    "\n",
    "# Function to download a relation by its ID\n",
    "def download_relation(relation_id):\n",
    "    try:\n",
    "        with osmapi.OsmApi() as api:\n",
    "            return api.RelationGet(relation_id)\n",
    "    except osmapi.errors.ElementDeletedApiError:\n",
    "        print(f\"Relation with ID {relation_id} not found.\")\n",
    "        return None\n",
    "\n",
    "# Download all hiking routes by KČT for the specified area\n",
    "relations = []\n",
    "for relation in result.relations:\n",
    "    rel = download_relation(relation.id)\n",
    "    if rel:\n",
    "        relations.append(rel)\n",
    "\n",
    "# Print the relations\n",
    "for rel in relations:\n",
    "    print(rel)"
   ]
  },
  {
   "cell_type": "code",
   "execution_count": 16,
   "id": "f9779a88-d3ad-4887-b6d3-7314d8e77631",
   "metadata": {},
   "outputs": [
    {
     "name": "stdout",
     "output_type": "stream",
     "text": [
      "Descriptive information about the path:\n",
      "id: 87590\n",
      "name: Name not provided\n",
      "official_name: Official name not provided\n",
      "route_type: hiking\n",
      "operator: cz:KČT\n",
      "symbol: yellow:white:yellow_bar\n",
      "ref: 6624\n",
      "complete: yes\n",
      "educational: Not specified\n",
      "network: rwn\n",
      "kct_yellow: major\n",
      "note: No note provided\n",
      "\n",
      "\n",
      "Descriptive information about the path:\n",
      "id: 132429\n",
      "name: Name not provided\n",
      "official_name: Official name not provided\n",
      "route_type: hiking\n",
      "operator: cz:KČT\n",
      "symbol: green:white:green_bar\n",
      "ref: 3601\n",
      "complete: yes\n",
      "educational: Not specified\n",
      "network: rwn\n",
      "kct_yellow: Not specified\n",
      "note: No note provided\n",
      "\n",
      "\n",
      "Descriptive information about the path:\n",
      "id: 6268435\n",
      "name: Name not provided\n",
      "official_name: Official name not provided\n",
      "route_type: hiking\n",
      "operator: cz:KČT\n",
      "symbol: yellow:white:yellow_bar\n",
      "ref: 6732\n",
      "complete: yes\n",
      "educational: Not specified\n",
      "network: lwn\n",
      "kct_yellow: major\n",
      "note: část bývalé 6624 - začíná ve Valše (oddělení od zbytku zjištěno 2016-05);na sever od Valchy přeznačeno (2018-05)\n",
      "\n",
      "\n",
      "Descriptive information about the path:\n",
      "id: 7945044\n",
      "name: [Z] odbočka k rozhledně Sylván\n",
      "official_name: Official name not provided\n",
      "route_type: hiking\n",
      "operator: cz:KČT\n",
      "symbol: green:white:green_triangle\n",
      "ref: Reference not provided\n",
      "complete: yes\n",
      "educational: Not specified\n",
      "network: lwn\n",
      "kct_yellow: Not specified\n",
      "note: No note provided\n",
      "\n",
      "\n"
     ]
    }
   ],
   "source": [
    "for rel in relations:\n",
    "    route_info = extract_route_info(rel)\n",
    "    print(\"Descriptive information about the path:\")\n",
    "    for key, value in route_info.items():\n",
    "        print(f\"{key}: {value}\")\n",
    "    print(\"\\n\")"
   ]
  },
  {
   "cell_type": "code",
   "execution_count": 17,
   "id": "01b2589f-6506-4548-8314-8212a39cb81d",
   "metadata": {},
   "outputs": [
    {
     "data": {
      "text/html": [
       "<div>\n",
       "<style scoped>\n",
       "    .dataframe tbody tr th:only-of-type {\n",
       "        vertical-align: middle;\n",
       "    }\n",
       "\n",
       "    .dataframe tbody tr th {\n",
       "        vertical-align: top;\n",
       "    }\n",
       "\n",
       "    .dataframe thead th {\n",
       "        text-align: right;\n",
       "    }\n",
       "</style>\n",
       "<table border=\"1\" class=\"dataframe\">\n",
       "  <thead>\n",
       "    <tr style=\"text-align: right;\">\n",
       "      <th></th>\n",
       "      <th>type</th>\n",
       "      <th>ref</th>\n",
       "      <th>role</th>\n",
       "      <th>geometry</th>\n",
       "    </tr>\n",
       "  </thead>\n",
       "  <tbody>\n",
       "    <tr>\n",
       "      <th>0</th>\n",
       "      <td>way</td>\n",
       "      <td>376865495</td>\n",
       "      <td></td>\n",
       "      <td>LINESTRING (13.42411 49.75902, 13.42410 49.758...</td>\n",
       "    </tr>\n",
       "    <tr>\n",
       "      <th>1</th>\n",
       "      <td>way</td>\n",
       "      <td>32089948</td>\n",
       "      <td></td>\n",
       "      <td>LINESTRING (13.42429 49.75923, 13.42430 49.759...</td>\n",
       "    </tr>\n",
       "    <tr>\n",
       "      <th>2</th>\n",
       "      <td>way</td>\n",
       "      <td>32089951</td>\n",
       "      <td></td>\n",
       "      <td>LINESTRING (13.42311 49.75909, 13.42340 49.759...</td>\n",
       "    </tr>\n",
       "    <tr>\n",
       "      <th>3</th>\n",
       "      <td>way</td>\n",
       "      <td>28983077</td>\n",
       "      <td></td>\n",
       "      <td>LINESTRING (13.42264 49.76033, 13.42286 49.759...</td>\n",
       "    </tr>\n",
       "    <tr>\n",
       "      <th>4</th>\n",
       "      <td>way</td>\n",
       "      <td>28983078</td>\n",
       "      <td></td>\n",
       "      <td>LINESTRING (13.42252 49.76046, 13.42264 49.76033)</td>\n",
       "    </tr>\n",
       "  </tbody>\n",
       "</table>\n",
       "</div>"
      ],
      "text/plain": [
       "  type        ref role                                           geometry\n",
       "0  way  376865495       LINESTRING (13.42411 49.75902, 13.42410 49.758...\n",
       "1  way   32089948       LINESTRING (13.42429 49.75923, 13.42430 49.759...\n",
       "2  way   32089951       LINESTRING (13.42311 49.75909, 13.42340 49.759...\n",
       "3  way   28983077       LINESTRING (13.42264 49.76033, 13.42286 49.759...\n",
       "4  way   28983078       LINESTRING (13.42252 49.76046, 13.42264 49.76033)"
      ]
     },
     "metadata": {},
     "output_type": "display_data"
    },
    {
     "data": {
      "text/html": [
       "<div>\n",
       "<style scoped>\n",
       "    .dataframe tbody tr th:only-of-type {\n",
       "        vertical-align: middle;\n",
       "    }\n",
       "\n",
       "    .dataframe tbody tr th {\n",
       "        vertical-align: top;\n",
       "    }\n",
       "\n",
       "    .dataframe thead th {\n",
       "        text-align: right;\n",
       "    }\n",
       "</style>\n",
       "<table border=\"1\" class=\"dataframe\">\n",
       "  <thead>\n",
       "    <tr style=\"text-align: right;\">\n",
       "      <th></th>\n",
       "      <th>type</th>\n",
       "      <th>ref</th>\n",
       "      <th>role</th>\n",
       "      <th>geometry</th>\n",
       "    </tr>\n",
       "  </thead>\n",
       "  <tbody>\n",
       "    <tr>\n",
       "      <th>0</th>\n",
       "      <td>way</td>\n",
       "      <td>437105531</td>\n",
       "      <td></td>\n",
       "      <td>LINESTRING (12.99258 50.05080, 12.99255 50.05091)</td>\n",
       "    </tr>\n",
       "    <tr>\n",
       "      <th>1</th>\n",
       "      <td>way</td>\n",
       "      <td>364615133</td>\n",
       "      <td></td>\n",
       "      <td>LINESTRING (12.99654 50.05037, 12.99596 50.050...</td>\n",
       "    </tr>\n",
       "    <tr>\n",
       "      <th>2</th>\n",
       "      <td>way</td>\n",
       "      <td>364615126</td>\n",
       "      <td></td>\n",
       "      <td>LINESTRING (13.00940 50.05012, 13.00930 50.050...</td>\n",
       "    </tr>\n",
       "    <tr>\n",
       "      <th>3</th>\n",
       "      <td>way</td>\n",
       "      <td>364615125</td>\n",
       "      <td></td>\n",
       "      <td>LINESTRING (13.01505 50.05073, 13.01455 50.050...</td>\n",
       "    </tr>\n",
       "    <tr>\n",
       "      <th>4</th>\n",
       "      <td>way</td>\n",
       "      <td>364615122</td>\n",
       "      <td></td>\n",
       "      <td>LINESTRING (13.02277 50.04773, 13.02242 50.048...</td>\n",
       "    </tr>\n",
       "  </tbody>\n",
       "</table>\n",
       "</div>"
      ],
      "text/plain": [
       "  type        ref role                                           geometry\n",
       "0  way  437105531       LINESTRING (12.99258 50.05080, 12.99255 50.05091)\n",
       "1  way  364615133       LINESTRING (12.99654 50.05037, 12.99596 50.050...\n",
       "2  way  364615126       LINESTRING (13.00940 50.05012, 13.00930 50.050...\n",
       "3  way  364615125       LINESTRING (13.01505 50.05073, 13.01455 50.050...\n",
       "4  way  364615122       LINESTRING (13.02277 50.04773, 13.02242 50.048..."
      ]
     },
     "metadata": {},
     "output_type": "display_data"
    },
    {
     "data": {
      "text/html": [
       "<div>\n",
       "<style scoped>\n",
       "    .dataframe tbody tr th:only-of-type {\n",
       "        vertical-align: middle;\n",
       "    }\n",
       "\n",
       "    .dataframe tbody tr th {\n",
       "        vertical-align: top;\n",
       "    }\n",
       "\n",
       "    .dataframe thead th {\n",
       "        text-align: right;\n",
       "    }\n",
       "</style>\n",
       "<table border=\"1\" class=\"dataframe\">\n",
       "  <thead>\n",
       "    <tr style=\"text-align: right;\">\n",
       "      <th></th>\n",
       "      <th>type</th>\n",
       "      <th>ref</th>\n",
       "      <th>role</th>\n",
       "      <th>geometry</th>\n",
       "    </tr>\n",
       "  </thead>\n",
       "  <tbody>\n",
       "    <tr>\n",
       "      <th>0</th>\n",
       "      <td>way</td>\n",
       "      <td>274678008</td>\n",
       "      <td></td>\n",
       "      <td>LINESTRING (13.31432 49.71512, 13.31380 49.714...</td>\n",
       "    </tr>\n",
       "    <tr>\n",
       "      <th>1</th>\n",
       "      <td>way</td>\n",
       "      <td>688417198</td>\n",
       "      <td></td>\n",
       "      <td>LINESTRING (13.31432 49.71512, 13.31460 49.715...</td>\n",
       "    </tr>\n",
       "    <tr>\n",
       "      <th>2</th>\n",
       "      <td>way</td>\n",
       "      <td>688417202</td>\n",
       "      <td></td>\n",
       "      <td>LINESTRING (13.31599 49.71579, 13.31664 49.716...</td>\n",
       "    </tr>\n",
       "    <tr>\n",
       "      <th>3</th>\n",
       "      <td>way</td>\n",
       "      <td>131567315</td>\n",
       "      <td></td>\n",
       "      <td>LINESTRING (13.32117 49.71748, 13.32090 49.717...</td>\n",
       "    </tr>\n",
       "    <tr>\n",
       "      <th>4</th>\n",
       "      <td>way</td>\n",
       "      <td>688417203</td>\n",
       "      <td></td>\n",
       "      <td>LINESTRING (13.32143 49.71737, 13.32117 49.71748)</td>\n",
       "    </tr>\n",
       "  </tbody>\n",
       "</table>\n",
       "</div>"
      ],
      "text/plain": [
       "  type        ref role                                           geometry\n",
       "0  way  274678008       LINESTRING (13.31432 49.71512, 13.31380 49.714...\n",
       "1  way  688417198       LINESTRING (13.31432 49.71512, 13.31460 49.715...\n",
       "2  way  688417202       LINESTRING (13.31599 49.71579, 13.31664 49.716...\n",
       "3  way  131567315       LINESTRING (13.32117 49.71748, 13.32090 49.717...\n",
       "4  way  688417203       LINESTRING (13.32143 49.71737, 13.32117 49.71748)"
      ]
     },
     "metadata": {},
     "output_type": "display_data"
    },
    {
     "data": {
      "text/html": [
       "<div>\n",
       "<style scoped>\n",
       "    .dataframe tbody tr th:only-of-type {\n",
       "        vertical-align: middle;\n",
       "    }\n",
       "\n",
       "    .dataframe tbody tr th {\n",
       "        vertical-align: top;\n",
       "    }\n",
       "\n",
       "    .dataframe thead th {\n",
       "        text-align: right;\n",
       "    }\n",
       "</style>\n",
       "<table border=\"1\" class=\"dataframe\">\n",
       "  <thead>\n",
       "    <tr style=\"text-align: right;\">\n",
       "      <th></th>\n",
       "      <th>type</th>\n",
       "      <th>ref</th>\n",
       "      <th>role</th>\n",
       "      <th>geometry</th>\n",
       "    </tr>\n",
       "  </thead>\n",
       "  <tbody>\n",
       "    <tr>\n",
       "      <th>0</th>\n",
       "      <td>way</td>\n",
       "      <td>80913434</td>\n",
       "      <td></td>\n",
       "      <td>LINESTRING (13.34812 49.76938, 13.34773 49.769...</td>\n",
       "    </tr>\n",
       "    <tr>\n",
       "      <th>1</th>\n",
       "      <td>way</td>\n",
       "      <td>556522461</td>\n",
       "      <td></td>\n",
       "      <td>LINESTRING (13.34812 49.76938, 13.34809 49.769...</td>\n",
       "    </tr>\n",
       "    <tr>\n",
       "      <th>2</th>\n",
       "      <td>way</td>\n",
       "      <td>196755955</td>\n",
       "      <td></td>\n",
       "      <td>LINESTRING (13.34720 49.76865, 13.34714 49.768...</td>\n",
       "    </tr>\n",
       "    <tr>\n",
       "      <th>3</th>\n",
       "      <td>way</td>\n",
       "      <td>837865974</td>\n",
       "      <td></td>\n",
       "      <td>LINESTRING (13.34206 49.77011, 13.34213 49.770...</td>\n",
       "    </tr>\n",
       "  </tbody>\n",
       "</table>\n",
       "</div>"
      ],
      "text/plain": [
       "  type        ref role                                           geometry\n",
       "0  way   80913434       LINESTRING (13.34812 49.76938, 13.34773 49.769...\n",
       "1  way  556522461       LINESTRING (13.34812 49.76938, 13.34809 49.769...\n",
       "2  way  196755955       LINESTRING (13.34720 49.76865, 13.34714 49.768...\n",
       "3  way  837865974       LINESTRING (13.34206 49.77011, 13.34213 49.770..."
      ]
     },
     "metadata": {},
     "output_type": "display_data"
    }
   ],
   "source": [
    "# Convert relations to GeoDataFrame and display the first rows\n",
    "for rel in relations:\n",
    "    gdf = relation_to_geodataframe(rel)\n",
    "    display(gdf.head())"
   ]
  },
  {
   "cell_type": "code",
   "execution_count": 18,
   "id": "0c3207eb-dc6c-4403-8161-88fa01563ad8",
   "metadata": {},
   "outputs": [
    {
     "data": {
      "text/html": [
       "<div style=\"width:100%;\"><div style=\"position:relative;width:100%;height:0;padding-bottom:60%;\"><span style=\"color:#565656\">Make this Notebook Trusted to load map: File -> Trust Notebook</span><iframe srcdoc=\"&lt;!DOCTYPE html&gt;\n",
       "&lt;html&gt;\n",
       "&lt;head&gt;\n",
       "    \n",
       "    &lt;meta http-equiv=&quot;content-type&quot; content=&quot;text/html; charset=UTF-8&quot; /&gt;\n",
       "    \n",
       "        &lt;script&gt;\n",
       "            L_NO_TOUCH = false;\n",
       "            L_DISABLE_3D = false;\n",
       "        &lt;/script&gt;\n",
       "    \n",
       "    &lt;style&gt;html, body {width: 100%;height: 100%;margin: 0;padding: 0;}&lt;/style&gt;\n",
       "    &lt;style&gt;#map {position:absolute;top:0;bottom:0;right:0;left:0;}&lt;/style&gt;\n",
       "    &lt;script src=&quot;https://cdn.jsdelivr.net/npm/leaflet@1.9.3/dist/leaflet.js&quot;&gt;&lt;/script&gt;\n",
       "    &lt;script src=&quot;https://code.jquery.com/jquery-3.7.1.min.js&quot;&gt;&lt;/script&gt;\n",
       "    &lt;script src=&quot;https://cdn.jsdelivr.net/npm/bootstrap@5.2.2/dist/js/bootstrap.bundle.min.js&quot;&gt;&lt;/script&gt;\n",
       "    &lt;script src=&quot;https://cdnjs.cloudflare.com/ajax/libs/Leaflet.awesome-markers/2.0.2/leaflet.awesome-markers.js&quot;&gt;&lt;/script&gt;\n",
       "    &lt;link rel=&quot;stylesheet&quot; href=&quot;https://cdn.jsdelivr.net/npm/leaflet@1.9.3/dist/leaflet.css&quot;/&gt;\n",
       "    &lt;link rel=&quot;stylesheet&quot; href=&quot;https://cdn.jsdelivr.net/npm/bootstrap@5.2.2/dist/css/bootstrap.min.css&quot;/&gt;\n",
       "    &lt;link rel=&quot;stylesheet&quot; href=&quot;https://netdna.bootstrapcdn.com/bootstrap/3.0.0/css/bootstrap-glyphicons.css&quot;/&gt;\n",
       "    &lt;link rel=&quot;stylesheet&quot; href=&quot;https://cdn.jsdelivr.net/npm/@fortawesome/fontawesome-free@6.2.0/css/all.min.css&quot;/&gt;\n",
       "    &lt;link rel=&quot;stylesheet&quot; href=&quot;https://cdnjs.cloudflare.com/ajax/libs/Leaflet.awesome-markers/2.0.2/leaflet.awesome-markers.css&quot;/&gt;\n",
       "    &lt;link rel=&quot;stylesheet&quot; href=&quot;https://cdn.jsdelivr.net/gh/python-visualization/folium/folium/templates/leaflet.awesome.rotate.min.css&quot;/&gt;\n",
       "    \n",
       "            &lt;meta name=&quot;viewport&quot; content=&quot;width=device-width,\n",
       "                initial-scale=1.0, maximum-scale=1.0, user-scalable=no&quot; /&gt;\n",
       "            &lt;style&gt;\n",
       "                #map_5d4bd0610f477c7f665b902669947f58 {\n",
       "                    position: relative;\n",
       "                    width: 100.0%;\n",
       "                    height: 100.0%;\n",
       "                    left: 0.0%;\n",
       "                    top: 0.0%;\n",
       "                }\n",
       "                .leaflet-container { font-size: 1rem; }\n",
       "            &lt;/style&gt;\n",
       "        \n",
       "    \n",
       "                    &lt;style&gt;\n",
       "                        .foliumtooltip {\n",
       "                            \n",
       "                        }\n",
       "                       .foliumtooltip table{\n",
       "                            margin: auto;\n",
       "                        }\n",
       "                        .foliumtooltip tr{\n",
       "                            text-align: left;\n",
       "                        }\n",
       "                        .foliumtooltip th{\n",
       "                            padding: 2px; padding-right: 8px;\n",
       "                        }\n",
       "                    &lt;/style&gt;\n",
       "            \n",
       "&lt;/head&gt;\n",
       "&lt;body&gt;\n",
       "    \n",
       "    \n",
       "            &lt;div class=&quot;folium-map&quot; id=&quot;map_5d4bd0610f477c7f665b902669947f58&quot; &gt;&lt;/div&gt;\n",
       "        \n",
       "&lt;/body&gt;\n",
       "&lt;script&gt;\n",
       "    \n",
       "    \n",
       "            var map_5d4bd0610f477c7f665b902669947f58 = L.map(\n",
       "                &quot;map_5d4bd0610f477c7f665b902669947f58&quot;,\n",
       "                {\n",
       "                    center: [49.7692436, 13.3450891],\n",
       "                    crs: L.CRS.EPSG3857,\n",
       "                    zoom: 14,\n",
       "                    zoomControl: true,\n",
       "                    preferCanvas: false,\n",
       "                }\n",
       "            );\n",
       "\n",
       "            \n",
       "\n",
       "        \n",
       "    \n",
       "            var tile_layer_b50adbc062c07bf849061b14ebbe88f3 = L.tileLayer(\n",
       "                &quot;https://tile.openstreetmap.org/{z}/{x}/{y}.png&quot;,\n",
       "                {&quot;attribution&quot;: &quot;\\u0026copy; \\u003ca href=\\&quot;https://www.openstreetmap.org/copyright\\&quot;\\u003eOpenStreetMap\\u003c/a\\u003e contributors&quot;, &quot;detectRetina&quot;: false, &quot;maxNativeZoom&quot;: 19, &quot;maxZoom&quot;: 19, &quot;minZoom&quot;: 0, &quot;noWrap&quot;: false, &quot;opacity&quot;: 1, &quot;subdomains&quot;: &quot;abc&quot;, &quot;tms&quot;: false}\n",
       "            );\n",
       "        \n",
       "    \n",
       "            tile_layer_b50adbc062c07bf849061b14ebbe88f3.addTo(map_5d4bd0610f477c7f665b902669947f58);\n",
       "        \n",
       "    \n",
       "        function geo_json_4d5582b36c1b1b2e00527e95fab0daf0_styler(feature) {\n",
       "            switch(feature.id) {\n",
       "                default:\n",
       "                    return {&quot;color&quot;: &quot;yellow&quot;, &quot;fillColor&quot;: &quot;yellow&quot;, &quot;fillOpacity&quot;: 0.5, &quot;weight&quot;: 2};\n",
       "            }\n",
       "        }\n",
       "        function geo_json_4d5582b36c1b1b2e00527e95fab0daf0_highlighter(feature) {\n",
       "            switch(feature.id) {\n",
       "                default:\n",
       "                    return {&quot;fillOpacity&quot;: 0.75};\n",
       "            }\n",
       "        }\n",
       "        function geo_json_4d5582b36c1b1b2e00527e95fab0daf0_pointToLayer(feature, latlng) {\n",
       "            var opts = {&quot;bubblingMouseEvents&quot;: true, &quot;color&quot;: &quot;#3388ff&quot;, &quot;dashArray&quot;: null, &quot;dashOffset&quot;: null, &quot;fill&quot;: true, &quot;fillColor&quot;: &quot;#3388ff&quot;, &quot;fillOpacity&quot;: 0.2, &quot;fillRule&quot;: &quot;evenodd&quot;, &quot;lineCap&quot;: &quot;round&quot;, &quot;lineJoin&quot;: &quot;round&quot;, &quot;opacity&quot;: 1.0, &quot;radius&quot;: 2, &quot;stroke&quot;: true, &quot;weight&quot;: 3};\n",
       "            \n",
       "            let style = geo_json_4d5582b36c1b1b2e00527e95fab0daf0_styler(feature)\n",
       "            Object.assign(opts, style)\n",
       "            \n",
       "            return new L.CircleMarker(latlng, opts)\n",
       "        }\n",
       "\n",
       "        function geo_json_4d5582b36c1b1b2e00527e95fab0daf0_onEachFeature(feature, layer) {\n",
       "            layer.on({\n",
       "                mouseout: function(e) {\n",
       "                    if(typeof e.target.setStyle === &quot;function&quot;){\n",
       "                            geo_json_4d5582b36c1b1b2e00527e95fab0daf0.resetStyle(e.target);\n",
       "                    }\n",
       "                },\n",
       "                mouseover: function(e) {\n",
       "                    if(typeof e.target.setStyle === &quot;function&quot;){\n",
       "                        const highlightStyle = geo_json_4d5582b36c1b1b2e00527e95fab0daf0_highlighter(e.target.feature)\n",
       "                        e.target.setStyle(highlightStyle);\n",
       "                    }\n",
       "                },\n",
       "            });\n",
       "        };\n",
       "        var geo_json_4d5582b36c1b1b2e00527e95fab0daf0 = L.geoJson(null, {\n",
       "                onEachFeature: geo_json_4d5582b36c1b1b2e00527e95fab0daf0_onEachFeature,\n",
       "            \n",
       "                style: geo_json_4d5582b36c1b1b2e00527e95fab0daf0_styler,\n",
       "                pointToLayer: geo_json_4d5582b36c1b1b2e00527e95fab0daf0_pointToLayer,\n",
       "        });\n",
       "\n",
       "        function geo_json_4d5582b36c1b1b2e00527e95fab0daf0_add (data) {\n",
       "            geo_json_4d5582b36c1b1b2e00527e95fab0daf0\n",
       "                .addData(data);\n",
       "        }\n",
       "            geo_json_4d5582b36c1b1b2e00527e95fab0daf0_add({&quot;bbox&quot;: [13.3420561, 49.7683735, 13.3481221, 49.7701137], &quot;features&quot;: [{&quot;bbox&quot;: [13.3475589, 49.7693803, 13.3481221, 49.7697824], &quot;geometry&quot;: {&quot;coordinates&quot;: [[13.3481221, 49.7693803], [13.3477324, 49.7697196], [13.3476603, 49.7697824], [13.3475589, 49.769738]], &quot;type&quot;: &quot;LineString&quot;}, &quot;id&quot;: &quot;0&quot;, &quot;properties&quot;: {&quot;__folium_color&quot;: &quot;yellow&quot;, &quot;ref&quot;: 80913434, &quot;role&quot;: &quot;&quot;, &quot;type&quot;: &quot;way&quot;}, &quot;type&quot;: &quot;Feature&quot;}, {&quot;bbox&quot;: [13.3472004, 49.7686454, 13.3481221, 49.7693803], &quot;geometry&quot;: {&quot;coordinates&quot;: [[13.3481221, 49.7693803], [13.3480927, 49.7693548], [13.3478653, 49.7691816], [13.347487, 49.7688705], [13.3472004, 49.7686454]], &quot;type&quot;: &quot;LineString&quot;}, &quot;id&quot;: &quot;1&quot;, &quot;properties&quot;: {&quot;__folium_color&quot;: &quot;yellow&quot;, &quot;ref&quot;: 556522461, &quot;role&quot;: &quot;&quot;, &quot;type&quot;: &quot;way&quot;}, &quot;type&quot;: &quot;Feature&quot;}, {&quot;bbox&quot;: [13.3422719, 49.7683735, 13.3472004, 49.7699438], &quot;geometry&quot;: {&quot;coordinates&quot;: [[13.3472004, 49.7686454], [13.3471388, 49.768667], [13.3470542, 49.7686618], [13.3469, 49.7686523], [13.3465707, 49.7685856], [13.3464897, 49.7685743], [13.3463569, 49.7685683], [13.3461986, 49.7685605], [13.3459358, 49.768512], [13.3458293, 49.7684985], [13.3450922, 49.7683777], [13.3449326, 49.7683735], [13.3447985, 49.7683985], [13.344642, 49.7684458], [13.3443882, 49.7685839], [13.3442608, 49.7686306], [13.3439559, 49.7687157], [13.3437196, 49.7689205], [13.3436076, 49.7689918], [13.3433649, 49.7691252], [13.3431453, 49.7692048], [13.3429049, 49.7693262], [13.3426811, 49.7695139], [13.3424194, 49.7696882], [13.342307, 49.7698835], [13.3422719, 49.7699438]], &quot;type&quot;: &quot;LineString&quot;}, &quot;id&quot;: &quot;2&quot;, &quot;properties&quot;: {&quot;__folium_color&quot;: &quot;yellow&quot;, &quot;ref&quot;: 196755955, &quot;role&quot;: &quot;&quot;, &quot;type&quot;: &quot;way&quot;}, &quot;type&quot;: &quot;Feature&quot;}, {&quot;bbox&quot;: [13.3420561, 49.7699438, 13.3422719, 49.7701137], &quot;geometry&quot;: {&quot;coordinates&quot;: [[13.3420561, 49.7701137], [13.342126, 49.7700763], [13.3422719, 49.7699438]], &quot;type&quot;: &quot;LineString&quot;}, &quot;id&quot;: &quot;3&quot;, &quot;properties&quot;: {&quot;__folium_color&quot;: &quot;yellow&quot;, &quot;ref&quot;: 837865974, &quot;role&quot;: &quot;&quot;, &quot;type&quot;: &quot;way&quot;}, &quot;type&quot;: &quot;Feature&quot;}], &quot;type&quot;: &quot;FeatureCollection&quot;});\n",
       "\n",
       "        \n",
       "    \n",
       "    geo_json_4d5582b36c1b1b2e00527e95fab0daf0.bindTooltip(\n",
       "    function(layer){\n",
       "    let div = L.DomUtil.create(&#x27;div&#x27;);\n",
       "    \n",
       "    let handleObject = feature=&gt;typeof(feature)==&#x27;object&#x27; ? JSON.stringify(feature) : feature;\n",
       "    let fields = [&quot;type&quot;, &quot;ref&quot;, &quot;role&quot;];\n",
       "    let aliases = [&quot;type&quot;, &quot;ref&quot;, &quot;role&quot;];\n",
       "    let table = &#x27;&lt;table&gt;&#x27; +\n",
       "        String(\n",
       "        fields.map(\n",
       "        (v,i)=&gt;\n",
       "        `&lt;tr&gt;\n",
       "            &lt;th&gt;${aliases[i]}&lt;/th&gt;\n",
       "            \n",
       "            &lt;td&gt;${handleObject(layer.feature.properties[v])}&lt;/td&gt;\n",
       "        &lt;/tr&gt;`).join(&#x27;&#x27;))\n",
       "    +&#x27;&lt;/table&gt;&#x27;;\n",
       "    div.innerHTML=table;\n",
       "    \n",
       "    return div\n",
       "    }\n",
       "    ,{&quot;className&quot;: &quot;foliumtooltip&quot;, &quot;sticky&quot;: true});\n",
       "                     \n",
       "    \n",
       "            geo_json_4d5582b36c1b1b2e00527e95fab0daf0.addTo(map_5d4bd0610f477c7f665b902669947f58);\n",
       "        \n",
       "&lt;/script&gt;\n",
       "&lt;/html&gt;\" style=\"position:absolute;width:100%;height:100%;left:0;top:0;border:none !important;\" allowfullscreen webkitallowfullscreen mozallowfullscreen></iframe></div></div>"
      ],
      "text/plain": [
       "<folium.folium.Map at 0x29603e27340>"
      ]
     },
     "metadata": {},
     "output_type": "display_data"
    }
   ],
   "source": [
    "# Getting the bounds of the GeoDataFrame (bounding box)\n",
    "bbox = gdf.total_bounds  # Returns [minx, miny, maxx, maxy]\n",
    "\n",
    "# Calculate width and height from the bounding box\n",
    "minx, miny, maxx, maxy = bbox\n",
    "\n",
    "center = [(miny + maxy) / 2, (minx + maxx) / 2]\n",
    "\n",
    "m = folium.Map(location=center, zoom_start=14)\n",
    "\n",
    "gdf.explore(m=m, tiles=\"carto positron\", color=trail_color)\n",
    "\n",
    "display(m)"
   ]
  }
 ],
 "metadata": {
  "kernelspec": {
   "display_name": "Python 3 (ipykernel)",
   "language": "python",
   "name": "python3"
  },
  "language_info": {
   "codemirror_mode": {
    "name": "ipython",
    "version": 3
   },
   "file_extension": ".py",
   "mimetype": "text/x-python",
   "name": "python",
   "nbconvert_exporter": "python",
   "pygments_lexer": "ipython3",
   "version": "3.9.5"
  }
 },
 "nbformat": 4,
 "nbformat_minor": 5
}
